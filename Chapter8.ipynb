{
 "cells": [
  {
   "cell_type": "code",
   "execution_count": 1,
   "id": "1ed9a8e6-12fe-42ef-9750-539345fc6ca5",
   "metadata": {},
   "outputs": [],
   "source": [
    "import numpy as np\n",
    "import matplotlib.pyplot as plt\n",
    "import matplotlib as mpl"
   ]
  },
  {
   "cell_type": "markdown",
   "id": "22958d94-03b0-4afe-a681-e3c72b5b4054",
   "metadata": {},
   "source": [
    "# Dimensionality Reduction"
   ]
  },
  {
   "cell_type": "markdown",
   "id": "4b8ca843-4d6f-4c94-883b-d79ca27015eb",
   "metadata": {},
   "source": [
    "Many Machine Learning problems involve thousands or even millions of features(columns) for\r\n",
    " each training instanc(row)e. Not only do all these features make training extremely slow,\r\n",
    " but they can also make it much harder to find a good solution, as we will see. This\r\n",
    " problem is often referred to as the curse of dimensionality."
   ]
  },
  {
   "cell_type": "markdown",
   "id": "73f519be-3eb7-411c-9ba6-41851d07e67d",
   "metadata": {},
   "source": [
    "Fortunately, in real-world problems, it is often possible to reduce the number of fea\r\n",
    "tures considerably, turning an intractable problem into a tractable one For example,\r\n",
    " consider the MNIST image, the pixels on the image bor\r\n",
    "ders are almost always white, so you could completely drop these pixels from the\r\n",
    " training set without losing much information Additionally, two neighboring pix\r\n",
    "els are often highly correlated: if you merge them into a single pixel (e.g., by taking\r\n",
    " the mean of the two pixel intensities), you will not lose much information..s ."
   ]
  },
  {
   "cell_type": "markdown",
   "id": "d23623a2-6096-4188-a759-598b74551ace",
   "metadata": {},
   "source": [
    "#### Note\n",
    "Reducing dimensionality does cause some information loss (just\r\n",
    " like compressing an image to JPEG can degrade its quality), so\r\n",
    " even though it will speed up training, it may make your system\r\n",
    " perform slightly worse. It also makes your pipelines a bit more\r\n",
    " complex and thus harder to maintain. So, if training is too slow,\r\n",
    " you should first try to train your system with the original data\r\n",
    " before considering using dimensionality reduction. In some cases,\r\n",
    " reducing the dimensionality of the training data may filter out\r\n",
    " some noise and unnecessary details and thus result in higher per\r\n",
    "formance, but in general it won’t; it will just speed up training."
   ]
  },
  {
   "cell_type": "code",
   "execution_count": null,
   "id": "aa05b2fe-b906-476f-8965-3cebe6144008",
   "metadata": {},
   "outputs": [],
   "source": []
  },
  {
   "cell_type": "markdown",
   "id": "c1530562-36cb-43c9-b25a-d36b5e7afd0f",
   "metadata": {},
   "source": [
    "#### Information\n",
    "Dimensionality reduction is also extremely useful  for data visualizatio. Reducing the number of dimensions down to two\r\n",
    " (or three) makes it possible to plot a condensed view of a high-dimensional trainin set on a graph and often gain some important insights by visually detecting patterns,  such as clusters. Moreover, DataViz is essential to communicate your conclusions t \n",
    " people who are not data scientists—in particular, decision makers who will use yo \r\n",
    " results.gn"
   ]
  },
  {
   "cell_type": "code",
   "execution_count": null,
   "id": "f683c999-e764-49cb-976f-3d74595594c1",
   "metadata": {},
   "outputs": [],
   "source": []
  },
  {
   "cell_type": "markdown",
   "id": "b17f7104-53c8-4def-9485-f460e0b84854",
   "metadata": {},
   "source": [
    "## The Curse of Dimensionality"
   ]
  },
  {
   "cell_type": "markdown",
   "id": "52daabea-7e2b-4e77-9cd0-6b22f8adb52e",
   "metadata": {},
   "source": [
    "#### Important\n",
    "In higher dimensions you have plenty of space, As a\r\n",
    " result, high-dimensional datasets are at risk of being very sparse: most training\r\n",
    " instances are likely to be far away from each other. This also means that a new\r\n",
    " instance will likely be far away from any training instance, making predictions much\r\n",
    " less reliable than in lower dimensions, since they will be based on much larger extrap\r\n",
    "olations. In short, the more dimensions the training set has, the greater the risk of\r\n",
    " overfitt.ing it"
   ]
  },
  {
   "cell_type": "code",
   "execution_count": 2,
   "id": "9f54eec1-0b0c-44e9-8d15-b3970c343920",
   "metadata": {},
   "outputs": [],
   "source": [
    "# EXTRA\n",
    "def plot_digits(instances, images_per_row=5, **options):\n",
    "    size = 28\n",
    "    images_per_row = min(len(instances), images_per_row)\n",
    "    # This is equivalent to n_rows = ceil(len(instances) / images_per_row):\n",
    "    n_rows = (len(instances) - 1) // images_per_row + 1\n",
    "\n",
    "    # Append empty images to fill the end of the grid, if needed:\n",
    "    n_empty = n_rows * images_per_row - len(instances)\n",
    "    padded_instances = np.concatenate([instances, np.zeros((n_empty, size * size))], axis=0)\n",
    "\n",
    "    # Reshape the array so it's organized as a grid containing 28×28 images:\n",
    "    image_grid = padded_instances.reshape((n_rows, images_per_row, size, size))\n",
    "\n",
    "    # Combine axes 0 and 2 (vertical image grid axis, and vertical image axis),\n",
    "    # and axes 1 and 3 (horizontal axes). We first need to move the axes that we\n",
    "    # want to combine next to each other, using transpose(), and only then we\n",
    "    # can reshape:\n",
    "    big_image = image_grid.transpose(0, 2, 1, 3).reshape(n_rows * size,\n",
    "                                                         images_per_row * size)\n",
    "    # Now that we have a big image, we just need to show it:\n",
    "    plt.imshow(big_image, cmap = mpl.cm.binary, **options)\n",
    "    plt.axis(\"off\")"
   ]
  },
  {
   "cell_type": "markdown",
   "id": "54ac1974-5aa9-4edd-bd5d-6560fd3ab471",
   "metadata": {},
   "source": [
    "# Main Approaches for Dimensionality Reduction"
   ]
  },
  {
   "cell_type": "code",
   "execution_count": null,
   "id": "07f78e90-0a9f-431b-854d-c34c0bc1fce6",
   "metadata": {},
   "outputs": [],
   "source": []
  },
  {
   "cell_type": "markdown",
   "id": "4fc34bcf-4406-4369-bb75-375264c44e31",
   "metadata": {},
   "source": [
    "## 1) Projection"
   ]
  },
  {
   "cell_type": "markdown",
   "id": "e00e5a07-16ec-40e2-93f7-9e31922a472f",
   "metadata": {},
   "source": [
    "In most real-world problems, training instances are not spread out uniformly across  all dimensions. Many features are almost constant, while others are highly correlate.  As a result, all training instances lie within (or close\r\n",
    " to) a much lower-dimensional subspace of the high-dimensional space.d"
   ]
  },
  {
   "cell_type": "markdown",
   "id": "87dbe329-eed0-4832-a77c-af0953e8c132",
   "metadata": {},
   "source": [
    "### IMPORTANT Read Projection section from book"
   ]
  },
  {
   "cell_type": "code",
   "execution_count": null,
   "id": "9fef2637-1321-401d-9df7-f324b89b5070",
   "metadata": {},
   "outputs": [],
   "source": []
  },
  {
   "cell_type": "markdown",
   "id": "bff4d66c-0c83-4366-91fc-96b3be5b29c1",
   "metadata": {},
   "source": [
    "## 2) Manifold Learning"
   ]
  },
  {
   "cell_type": "markdown",
   "id": "6dd44e63-c473-4fab-936e-979d21e50ae8",
   "metadata": {},
   "source": [
    "The Swiss roll is an example of a 2D manifold. Put simply, a 2D manifold is a 2D\r\n",
    " shape that can be bent and twisted in a higher-dimensional space. More generally, a\r\n",
    " d-dimensional manifold is a part of an n-dimensional space (where d < n) that locally\r\n",
    " resembles a d-dimensional hyperplane. In the case of the Swiss roll, d = 2 and n = 3: it\r\n",
    " locally resembles a 2D plane, but it is rolled in the third dimension."
   ]
  },
  {
   "cell_type": "markdown",
   "id": "810f64d6-117d-4cd2-b877-161de0f5c3db",
   "metadata": {},
   "source": [
    "#### Important\n",
    "Many dimensionality reduction algorithms work by modeling the manifold on which\r\n",
    " the training instances lie; this is called Manifold Learning. It relies on the manifold\r\n",
    " assumption, also called the manifold hypothesis, which holds that most real-world\r\n",
    " high-dimensional datasets lie close to a much lower-dimensional manifold. This\r\n",
    " assumption is very often empirically observed."
   ]
  },
  {
   "cell_type": "markdown",
   "id": "50001cff-6d19-412a-bfd6-4786f68be0b2",
   "metadata": {},
   "source": [
    "#### IMPORTANT\n",
    "Once again, think about the MNIST dataset: all handwritten digit images have some\r\n",
    " similarities. They are made of connected lines, the borders are white, and they are\r\n",
    " more or less centered. If you randomly generated images, only a ridiculously tiny\r\n",
    " fraction of them would look like handwritten digits. In other words, the degrees of\r\n",
    " freedom available to you if you try to create a digit image are dramatically lower than\r\n",
    " the degrees of freedom you would have if you were allowed to generate any image\r\n",
    " you w What this means is that you are restricted or bounded more tightly when you have to creat an image that actually represents an image compared to when you want to creat any image that does not make sense, when you have to create an image that does not make sense, you are much more free and thus have more degrees of freedom.anted. These constraints tend to squeeze the dataset into a lower-dimensional\r\n",
    " manifold."
   ]
  },
  {
   "cell_type": "markdown",
   "id": "b4d352d5-ed38-4010-93a1-649b487b289e",
   "metadata": {},
   "source": [
    "#### NOTE\n",
    "\n",
    "Read the following paragraph and next one from book.\n",
    "The manifold assumption is often accompanied by another implicit assumption: that\r\n",
    " the task at hand (e.g., classification or regression) will be simpler if expressed in the\r\n",
    " lower-dimensional space of the manifold. "
   ]
  },
  {
   "cell_type": "markdown",
   "id": "acad3446-d8cb-4ea2-a6e8-6ada62a4adb8",
   "metadata": {},
   "source": [
    " In short, reducing the dimensionality of your training set before training a model will\r\n",
    " usually speed up training, but it may not always lead to a better or simpler solution; it\r\n",
    " all depends on the dataset."
   ]
  },
  {
   "cell_type": "code",
   "execution_count": null,
   "id": "f9d1d6fb-d49d-49d2-a096-f0d1b744162d",
   "metadata": {},
   "outputs": [],
   "source": []
  },
  {
   "cell_type": "markdown",
   "id": "77d335b8-f88f-4dfd-b5c8-5120f529dcd5",
   "metadata": {},
   "source": [
    "# PCA"
   ]
  },
  {
   "cell_type": "markdown",
   "id": "f59e0aaf-ce94-45a3-907c-1e7f91b75037",
   "metadata": {},
   "source": [
    "## IMPORTANT DEFINITON\n",
    "Principal Component Analysis (PCA) is by far the most popular dimensionality reduc\r\n",
    "tion algorithm. First it identifies the hyperplane that lies closest to the data, and then\r\n",
    " it projects the data onto it"
   ]
  },
  {
   "cell_type": "code",
   "execution_count": null,
   "id": "5b16d7c5-53a9-4c97-bdd9-835937cc6048",
   "metadata": {},
   "outputs": [],
   "source": []
  },
  {
   "cell_type": "markdown",
   "id": "bd96450e-a1ca-4460-b48d-a2fd42279be0",
   "metadata": {},
   "source": [
    "## Preserving the Variance"
   ]
  },
  {
   "cell_type": "code",
   "execution_count": 3,
   "id": "a3e76062-388c-432e-bf9a-6ee5ae614a85",
   "metadata": {},
   "outputs": [
    {
     "data": {
      "image/png": "[encoded data removed]",
      "text/plain": [
       "<Figure size 800x400 with 4 Axes>"
      ]
     },
     "metadata": {},
     "output_type": "display_data"
    }
   ],
   "source": [
    "angle = np.pi / 5\n",
    "stretch = 5\n",
    "m = 200\n",
    "\n",
    "np.random.seed(3)\n",
    "X = np.random.randn(m, 2) / 10\n",
    "X = X.dot(np.array([[stretch, 0],[0, 1]])) # stretch\n",
    "X = X.dot([[np.cos(angle), np.sin(angle)], [-np.sin(angle), np.cos(angle)]]) # rotate\n",
    "\n",
    "u1 = np.array([np.cos(angle), np.sin(angle)])\n",
    "u2 = np.array([np.cos(angle - 2 * np.pi/6), np.sin(angle - 2 * np.pi/6)])\n",
    "u3 = np.array([np.cos(angle - np.pi/2), np.sin(angle - np.pi/2)])\n",
    "\n",
    "X_proj1 = X.dot(u1.reshape(-1, 1))\n",
    "X_proj2 = X.dot(u2.reshape(-1, 1))\n",
    "X_proj3 = X.dot(u3.reshape(-1, 1))\n",
    "\n",
    "plt.figure(figsize=(8,4))\n",
    "plt.subplot2grid((3,2), (0, 0), rowspan=3)\n",
    "plt.plot([-1.4, 1.4], [-1.4*u1[1]/u1[0], 1.4*u1[1]/u1[0]], \"k-\", linewidth=1)\n",
    "plt.plot([-1.4, 1.4], [-1.4*u2[1]/u2[0], 1.4*u2[1]/u2[0]], \"k--\", linewidth=1)\n",
    "plt.plot([-1.4, 1.4], [-1.4*u3[1]/u3[0], 1.4*u3[1]/u3[0]], \"k:\", linewidth=2)\n",
    "plt.plot(X[:, 0], X[:, 1], \"bo\", alpha=0.5)\n",
    "plt.axis([-1.4, 1.4, -1.4, 1.4])\n",
    "plt.arrow(0, 0, u1[0], u1[1], head_width=0.1, linewidth=5, length_includes_head=True, head_length=0.1, fc='k', ec='k')\n",
    "plt.arrow(0, 0, u3[0], u3[1], head_width=0.1, linewidth=5, length_includes_head=True, head_length=0.1, fc='k', ec='k')\n",
    "plt.text(u1[0] + 0.1, u1[1] - 0.05, r\"$\\mathbf{c_1}$\", fontsize=22)\n",
    "plt.text(u3[0] + 0.1, u3[1], r\"$\\mathbf{c_2}$\", fontsize=22)\n",
    "plt.xlabel(\"$x_1$\", fontsize=18)\n",
    "plt.ylabel(\"$x_2$\", fontsize=18, rotation=0)\n",
    "plt.grid(True)\n",
    "\n",
    "plt.subplot2grid((3,2), (0, 1))\n",
    "plt.plot([-2, 2], [0, 0], \"k-\", linewidth=1)\n",
    "plt.plot(X_proj1[:, 0], np.zeros(m), \"bo\", alpha=0.3)\n",
    "plt.gca().get_yaxis().set_ticks([])\n",
    "plt.gca().get_xaxis().set_ticklabels([])\n",
    "plt.axis([-2, 2, -1, 1])\n",
    "plt.grid(True)\n",
    "\n",
    "plt.subplot2grid((3,2), (1, 1))\n",
    "plt.plot([-2, 2], [0, 0], \"k--\", linewidth=1)\n",
    "plt.plot(X_proj2[:, 0], np.zeros(m), \"bo\", alpha=0.3)\n",
    "plt.gca().get_yaxis().set_ticks([])\n",
    "plt.gca().get_xaxis().set_ticklabels([])\n",
    "plt.axis([-2, 2, -1, 1])\n",
    "plt.grid(True)\n",
    "\n",
    "plt.subplot2grid((3,2), (2, 1))\n",
    "plt.plot([-2, 2], [0, 0], \"k:\", linewidth=2)\n",
    "plt.plot(X_proj3[:, 0], np.zeros(m), \"bo\", alpha=0.3)\n",
    "plt.gca().get_yaxis().set_ticks([])\n",
    "plt.axis([-2, 2, -1, 1])\n",
    "plt.xlabel(\"$z_1$\", fontsize=18)\n",
    "plt.grid(True)\n",
    "\n",
    "\n",
    "plt.show()"
   ]
  },
  {
   "cell_type": "markdown",
   "id": "dcebdc28-6b6f-4672-8be6-207da81924ee",
   "metadata": {},
   "source": [
    "In the above plots you can see a simple 2D dataset is repre\n",
    "sented on the lef, along with three different axes (i.e., 1D hyperplanes).\r\n",
    " On the right is the result of the projection of the dataset onto each of these axes. As\r\n",
    " you can see, the projection onto the solid line preserves the maximum variance, while\r\n",
    " the projection onto the dotted line preserves very little variance and the projection\r\n",
    " onto the dashed line preserves an intermediate amount of variance. "
   ]
  },
  {
   "cell_type": "markdown",
   "id": "1101757a-fb57-42d7-baa2-70c0d958773a",
   "metadata": {},
   "source": [
    "### Important\n",
    "It seems reasonable to select the axis that preserves the maximum amount of var\r\n",
    "iance, as it will most likely lose less information than the other projections. Another\r\n",
    " way to justify this choice is that it is the axis that minimizes the mean squared dis\r\n",
    "tance between the original dataset and its projection onto that axis. This is the rather\r\n",
    " simple idea behind PCA."
   ]
  },
  {
   "cell_type": "code",
   "execution_count": null,
   "id": "206a9dda-e876-4af8-9b45-ba88d36877ba",
   "metadata": {},
   "outputs": [],
   "source": []
  },
  {
   "cell_type": "markdown",
   "id": "504da489-fa6d-40df-b1d7-60901c7518b3",
   "metadata": {},
   "source": [
    "## Principal Components (IMPORTANT)"
   ]
  },
  {
   "cell_type": "markdown",
   "id": "dca99793-a4ae-4d68-9369-189bb984249d",
   "metadata": {},
   "source": [
    "PCA identifies the axis that accounts for the largest amount of variance in the train\n",
    "ing set In the above figure, it is the solid line. It also finds a second axis, orthogonal to the\r\n",
    " first one, that accounts for the largest amount of remaining variance. In this 2D\r\n",
    " example there is no choice: it is the dotted line. If it were a higher-dimensional data\r\n",
    "set, PCA would also find a third axis, orthogonal to both previous axes, and a fourth,\r\n",
    " a fifth, and so on—as many axes as the number of dimensions in the dataset.."
   ]
  },
  {
   "cell_type": "markdown",
   "id": "3e846efc-aad2-480d-a6d8-7cab3896d9e7",
   "metadata": {},
   "source": [
    "The ith axis is called the ith principal component (PC) of the data. In the above figure, the  first PC is the axis on which vector c \n",
    " lies, and the second PC is the axis on whi \r\n",
    " vector 2\r\n",
    " lies."
   ]
  },
  {
   "cell_type": "code",
   "execution_count": null,
   "id": "9acf0bcb-9d81-4aac-9bc7-053405020143",
   "metadata": {},
   "outputs": [],
   "source": []
  },
  {
   "cell_type": "markdown",
   "id": "50c68088-870c-4b36-8a63-f7ca1931138c",
   "metadata": {},
   "source": [
    "### Singular Value Decomposition (SVD)"
   ]
  },
  {
   "cell_type": "markdown",
   "id": "f3c50b9e-c468-45f8-8383-0f7f3ee8a4fa",
   "metadata": {},
   "source": [
    "SVD is a  standard matrix factorization techniqu that can decompose the training set matrix X into the matrix multiplication of three\r\n",
    " matrices U Σ V⊺, where V contains the unit vectors that define all the principal co\r\n",
    "ponents that we are looking fore"
   ]
  },
  {
   "cell_type": "markdown",
   "id": "cafa1cf1-7539-4959-a6c4-e63ecc7658e9",
   "metadata": {},
   "source": [
    "### NOTE\n",
    " PCA assumes that the dataset is centered around the origin. As we\r\n",
    " will see, Scikit-Learn’s PCA classes take care of centering the data\r\n",
    " for you. If you implement PCA yourself (as in the preceding exam\r\n",
    "ple), or if you use other libraries, don’t forget to center the data\r\n",
    " first."
   ]
  },
  {
   "cell_type": "code",
   "execution_count": 4,
   "id": "98e47bd2-0491-4ccd-afbc-0810994ec04a",
   "metadata": {},
   "outputs": [
    {
     "data": {
      "text/plain": [
       "array([[ 6.97858011e-01,  5.60979108e-01],\n",
       "       [ 1.48567399e-01, -1.22399832e-01],\n",
       "       [-9.13536753e-02, -1.10222952e-01],\n",
       "       [ 3.38454277e-03, -7.50425316e-02],\n",
       "       [ 1.03253504e-02, -5.14855864e-02],\n",
       "       [-5.83466256e-01, -3.14567709e-01],\n",
       "       [ 2.56014453e-01,  3.97320240e-01],\n",
       "       [ 4.40253750e-02, -1.80345721e-02],\n",
       "       [-1.29703077e-01, -2.85389910e-01],\n",
       "       [ 4.62095106e-01,  1.99632303e-01],\n",
       "       [-4.67273592e-01, -3.64913862e-01],\n",
       "       [ 5.87245805e-01,  4.55918791e-01],\n",
       "       [-3.72221100e-01, -3.58565265e-01],\n",
       "       [ 2.62351640e-01,  1.70769081e-01],\n",
       "       [-2.97479970e-01, -2.44565210e-01],\n",
       "       [ 1.85228713e-01,  3.78837263e-01],\n",
       "       [-4.66438596e-01, -4.16316865e-01],\n",
       "       [-1.82940074e-01, -4.31928868e-01],\n",
       "       [-3.13499815e-01, -3.54328952e-01],\n",
       "       [ 4.62412359e-01,  3.19656748e-01],\n",
       "       [-6.94643386e-01, -4.24754480e-01],\n",
       "       [-4.16552901e-02, -2.45728421e-01],\n",
       "       [-2.06753140e-01, -2.22969216e-01],\n",
       "       [-3.55239349e-01, -2.54423665e-01],\n",
       "       [-8.93700723e-01, -6.82408769e-01],\n",
       "       [ 3.59715112e-01,  3.66759937e-01],\n",
       "       [ 3.82475128e-01,  4.16248741e-01],\n",
       "       [ 6.67455902e-01,  3.46705532e-01],\n",
       "       [ 4.51527142e-01,  9.80350759e-02],\n",
       "       [-1.31342304e-01, -3.32067528e-01],\n",
       "       [ 3.45589433e-01,  4.15944481e-01],\n",
       "       [-1.84166933e-01,  8.55530804e-02],\n",
       "       [-2.81786048e-01, -1.86112280e-01],\n",
       "       [ 1.24419665e-01, -4.11455920e-02],\n",
       "       [ 6.31828312e-02,  2.85575932e-01],\n",
       "       [-4.67455035e-01, -2.28461618e-01],\n",
       "       [-1.66515418e-01,  9.77574317e-02],\n",
       "       [ 1.55949495e-01,  1.96888884e-01],\n",
       "       [ 2.45524063e-01,  2.09172483e-01],\n",
       "       [-6.46398090e-01, -2.97616707e-01],\n",
       "       [-5.68469655e-01, -3.83529348e-01],\n",
       "       [ 2.97650648e-01,  1.12684201e-01],\n",
       "       [-9.96709570e-03,  1.37116671e-01],\n",
       "       [ 4.24835095e-02, -7.89780213e-02],\n",
       "       [-1.12231734e+00, -9.35537373e-01],\n",
       "       [-2.08742121e-01, -2.15492725e-01],\n",
       "       [-4.10503470e-01, -2.51611973e-01],\n",
       "       [-2.26040875e-01, -1.77757609e-01],\n",
       "       [ 3.24971568e-01,  1.30367815e-01],\n",
       "       [-2.48288744e-01,  8.63695978e-02],\n",
       "       [ 4.29688179e-01,  1.52296815e-01],\n",
       "       [-6.54355133e-02,  2.22325640e-02],\n",
       "       [ 4.90192318e-01,  3.74561297e-01],\n",
       "       [-1.71685707e-01, -2.15035027e-01],\n",
       "       [ 2.42531827e-01,  2.14906077e-01],\n",
       "       [-1.97875122e-01, -1.67135235e-01],\n",
       "       [-2.10949942e-01, -6.36914916e-02],\n",
       "       [-3.07685682e-01, -1.63422598e-01],\n",
       "       [ 3.15865633e-01,  2.89593537e-01],\n",
       "       [-4.16513781e-01, -1.36364765e-01],\n",
       "       [-2.99408016e-01, -1.64822383e-01],\n",
       "       [-2.02214097e-01, -3.62501024e-01],\n",
       "       [ 7.44463973e-02,  8.95679712e-02],\n",
       "       [-4.75524257e-02, -4.24916682e-04],\n",
       "       [-2.18940618e-01, -2.50225337e-01],\n",
       "       [-1.80218348e-01,  1.05063298e-01],\n",
       "       [ 3.60163754e-01,  1.97399769e-01],\n",
       "       [ 2.54121808e-01,  1.25501177e-01],\n",
       "       [-2.35473321e-01, -6.48680370e-02],\n",
       "       [-1.13982680e-01, -2.89933096e-01],\n",
       "       [-3.71881724e-01, -2.59259168e-01],\n",
       "       [-2.12001365e-02,  1.38069441e-01],\n",
       "       [-3.32632997e-01, -1.51257881e-01],\n",
       "       [ 1.81065980e-01,  1.13133019e-01],\n",
       "       [ 3.09179937e-01,  2.85461615e-01],\n",
       "       [-4.11803111e-01, -1.66725055e-01],\n",
       "       [-4.97369308e-01, -3.53991082e-01],\n",
       "       [-2.39707771e-02,  3.50720726e-02],\n",
       "       [-2.91390086e-01, -2.16026530e-01],\n",
       "       [-1.15489380e-01,  3.93389544e-02],\n",
       "       [-3.26230131e-01, -2.28028222e-01],\n",
       "       [-2.93767288e-02, -1.81790831e-01],\n",
       "       [ 1.08669638e+00,  7.80727981e-01],\n",
       "       [-6.84162837e-01, -3.22957530e-01],\n",
       "       [-4.54860121e-01, -2.84633173e-01],\n",
       "       [ 3.87136792e-01,  2.01120738e-01],\n",
       "       [-1.42542399e-01, -1.70344192e-01],\n",
       "       [ 4.30382472e-02, -1.69278113e-01],\n",
       "       [-4.91550294e-01, -3.74534355e-01],\n",
       "       [ 3.83131969e-01,  3.56449544e-01],\n",
       "       [ 6.58768676e-01,  5.64413038e-01],\n",
       "       [-1.99535466e-01, -1.60155282e-01],\n",
       "       [-7.64838501e-01, -6.74446033e-01],\n",
       "       [-4.28649081e-01, -2.77984600e-01],\n",
       "       [ 2.94990581e-01,  1.45057239e-01],\n",
       "       [-1.47149635e-01, -2.98075281e-01],\n",
       "       [-6.62677887e-02, -1.74711116e-02],\n",
       "       [ 2.26328669e-01,  6.76892448e-02],\n",
       "       [ 7.34117206e-01,  6.81084704e-01],\n",
       "       [-7.53709774e-03, -7.06400153e-02],\n",
       "       [-1.38966961e-01, -8.22846661e-02],\n",
       "       [-3.59561783e-02,  3.36437524e-02],\n",
       "       [ 2.30747201e-01,  3.36524557e-01],\n",
       "       [ 4.70557465e-01,  3.28254937e-01],\n",
       "       [ 1.79805356e-01,  8.27846870e-02],\n",
       "       [-3.49851190e-01, -1.79905801e-02],\n",
       "       [-3.03024308e-01,  2.59086794e-02],\n",
       "       [-1.56048468e-01, -8.21249487e-02],\n",
       "       [ 4.39269318e-01,  3.22104765e-01],\n",
       "       [ 1.73210759e-01,  9.60081808e-02],\n",
       "       [-1.82609717e-01, -1.53164892e-01],\n",
       "       [-3.58706502e-01, -5.89655056e-02],\n",
       "       [-1.69091465e-01,  9.00814829e-02],\n",
       "       [-1.08723202e+00, -7.87643367e-01],\n",
       "       [ 2.44584606e-01,  1.41382815e-01],\n",
       "       [ 4.05196299e-01,  3.73462667e-01],\n",
       "       [-1.36647285e-01, -4.55099622e-02],\n",
       "       [ 1.12261679e+00,  8.46777154e-01],\n",
       "       [ 1.47013278e-01,  5.24254818e-02],\n",
       "       [ 1.29781559e-01, -6.50696256e-02],\n",
       "       [-2.24663470e-01,  1.40546971e-01],\n",
       "       [ 3.93995998e-01,  3.65538802e-01],\n",
       "       [ 3.35938910e-01,  4.76671614e-01],\n",
       "       [ 1.18388251e-01,  3.41988762e-01],\n",
       "       [ 4.22954755e-01,  3.27877560e-01],\n",
       "       [ 8.34214040e-01,  3.14476999e-01],\n",
       "       [-2.46738081e-01, -1.46412623e-01],\n",
       "       [-3.59775642e-01, -2.80682184e-01],\n",
       "       [-2.19930784e-01, -2.40679237e-01],\n",
       "       [ 1.06011526e+00,  8.47778856e-01],\n",
       "       [-9.91259533e-02,  9.05443884e-02],\n",
       "       [-1.48043986e-01,  1.87375033e-03],\n",
       "       [ 4.63003909e-02,  2.34694758e-01],\n",
       "       [-6.19357964e-01, -3.55341571e-01],\n",
       "       [ 1.17480349e-01, -5.77059833e-02],\n",
       "       [ 4.82248471e-01,  2.42542462e-01],\n",
       "       [ 6.24836876e-01,  5.17392347e-01],\n",
       "       [ 2.76600014e-01,  2.10906754e-01],\n",
       "       [ 4.75549683e-01,  1.14899902e-01],\n",
       "       [ 6.71556835e-02, -2.88646103e-02],\n",
       "       [ 1.17110310e-01,  7.92567062e-02],\n",
       "       [ 2.98645734e-01,  1.13441886e-01],\n",
       "       [ 6.07829813e-01,  7.27870074e-01],\n",
       "       [-8.33723107e-02, -6.24243169e-02],\n",
       "       [ 4.20184168e-02,  1.86777758e-01],\n",
       "       [ 8.38187865e-01,  4.59933708e-01],\n",
       "       [-1.86384671e-01, -2.66706107e-01],\n",
       "       [-3.53774015e-01, -4.59660027e-01],\n",
       "       [ 2.14883547e-01,  1.28572496e-02],\n",
       "       [ 5.54692599e-01,  5.15282131e-01],\n",
       "       [-3.55972109e-01, -3.85969665e-01],\n",
       "       [-3.30002608e-01, -6.67156769e-02],\n",
       "       [-2.55884749e-01, -3.70524044e-01],\n",
       "       [-4.19396918e-02,  1.56825656e-02],\n",
       "       [-3.61053992e-01, -6.21484240e-02],\n",
       "       [ 7.06379179e-02,  1.07320002e-01],\n",
       "       [-3.43734994e-01, -2.54648970e-01],\n",
       "       [ 7.02459677e-02, -2.29828136e-01],\n",
       "       [ 2.21855904e-01, -6.06626009e-02],\n",
       "       [ 7.49921474e-02, -1.27704369e-01],\n",
       "       [ 7.97788631e-01,  6.19955603e-01],\n",
       "       [ 2.94408531e-01,  3.27495971e-01],\n",
       "       [-4.01646545e-01, -5.73858338e-01],\n",
       "       [-1.86050302e-01, -2.42796497e-02],\n",
       "       [-9.34231568e-03,  9.02971753e-02],\n",
       "       [ 4.66596735e-01,  1.54531945e-01],\n",
       "       [ 7.84032217e-04,  2.43639264e-01],\n",
       "       [-1.11519294e-01, -3.31830618e-01],\n",
       "       [-6.64948202e-02, -1.05747527e-01],\n",
       "       [ 2.21693007e-01,  5.07619084e-02],\n",
       "       [ 1.67032243e-01, -1.52731862e-01],\n",
       "       [ 2.52161765e-01,  3.79353738e-01],\n",
       "       [ 6.14064665e-01,  2.58853139e-01],\n",
       "       [ 3.04510933e-01, -1.47598858e-01],\n",
       "       [ 1.18334108e-01,  7.80194070e-02],\n",
       "       [-4.23014968e-01, -2.64843025e-01],\n",
       "       [ 6.05508469e-04,  1.16568867e-01],\n",
       "       [ 3.76828386e-02,  5.64291213e-02],\n",
       "       [-7.18631453e-01, -6.65465953e-01],\n",
       "       [-2.09953430e-01, -1.15848094e-01],\n",
       "       [-9.07680313e-02,  1.19573416e-01],\n",
       "       [-3.37901566e-01, -2.75120012e-01],\n",
       "       [ 1.16789385e-01,  5.62378014e-02],\n",
       "       [ 2.34003322e-01,  9.94879217e-02],\n",
       "       [ 5.93325569e-01,  3.91572745e-01],\n",
       "       [ 4.53190497e-01,  3.25516467e-01],\n",
       "       [ 6.85512660e-01,  3.25237458e-01],\n",
       "       [ 2.34475203e-01,  1.16886826e-01],\n",
       "       [ 2.34922456e-02,  1.64506942e-01],\n",
       "       [-3.83067376e-01, -4.41726602e-01],\n",
       "       [-4.18800412e-01, -2.72832277e-01],\n",
       "       [-7.68919206e-01, -5.46712862e-01],\n",
       "       [-4.53064410e-01, -4.70542354e-01],\n",
       "       [-1.71706500e-01, -7.77076257e-02],\n",
       "       [-2.24468375e-01, -2.23905791e-01],\n",
       "       [-8.95353266e-04, -3.43624785e-02],\n",
       "       [-1.05739496e+00, -8.21405763e-01],\n",
       "       [-3.01571760e-02,  1.13782536e-01],\n",
       "       [ 7.88554434e-01,  6.55362564e-01],\n",
       "       [ 8.87008378e-02, -5.48063918e-02]])"
      ]
     },
     "execution_count": 4,
     "metadata": {},
     "output_type": "execute_result"
    }
   ],
   "source": [
    "X"
   ]
  },
  {
   "cell_type": "code",
   "execution_count": 5,
   "id": "c8750c6b-4b22-43d6-a166-0502a29f5378",
   "metadata": {},
   "outputs": [
    {
     "data": {
      "text/plain": [
       "array([-5.66675432e-06, -1.73259250e-03])"
      ]
     },
     "execution_count": 5,
     "metadata": {},
     "output_type": "execute_result"
    }
   ],
   "source": [
    "X.mean(axis=0)"
   ]
  },
  {
   "cell_type": "code",
   "execution_count": null,
   "id": "227d0aa7-100b-4501-86b4-7340b2a7ba76",
   "metadata": {},
   "outputs": [],
   "source": []
  },
  {
   "cell_type": "markdown",
   "id": "0ea0d889-b375-4cd4-9151-8ecda99bca7b",
   "metadata": {},
   "source": [
    "The following Python code uses NumPy’s svd() function to obtain all the principal\r\n",
    " components of the training set, then extracts the two unit vectors that define the first\r\n",
    " two PCs:"
   ]
  },
  {
   "cell_type": "code",
   "execution_count": 6,
   "id": "de29f78c-1b3c-4536-b1fb-374dd6be8e4a",
   "metadata": {},
   "outputs": [],
   "source": [
    "X_centered = X - X.mean(axis=0)"
   ]
  },
  {
   "cell_type": "code",
   "execution_count": 7,
   "id": "0245f0d0-8066-4214-a9d6-ef9cd33070df",
   "metadata": {},
   "outputs": [],
   "source": [
    "U, s, Vt = np.linalg.svd(X_centered)"
   ]
  },
  {
   "cell_type": "code",
   "execution_count": 8,
   "id": "850da59d-3f01-4ee4-a625-b4d44b8766d7",
   "metadata": {},
   "outputs": [
    {
     "data": {
      "text/plain": [
       "array([[-1.28696841e-01,  1.70499937e-02,  1.75581278e-02, ...,\n",
       "         1.20755995e-03, -1.43097923e-01, -1.22471743e-02],\n",
       "       [-6.51468507e-03, -1.21204677e-01, -2.23526181e-02, ...,\n",
       "         7.21638368e-02,  4.60716516e-02, -6.15686966e-02],\n",
       "       [ 1.98712458e-02, -2.03149388e-02,  9.99283237e-01, ...,\n",
       "         1.44962224e-03,  3.07359168e-03, -1.06930801e-03],\n",
       "       ...,\n",
       "       [-6.58356322e-03,  7.18524997e-02,  1.38331359e-03, ...,\n",
       "         9.95345592e-01, -2.50313260e-03,  4.00756338e-03],\n",
       "       [-1.47268374e-01,  3.02983883e-02,  3.19604139e-03, ...,\n",
       "        -3.03512352e-03,  9.79963172e-01,  1.17838588e-03],\n",
       "       [-5.53729158e-03, -6.25173544e-02, -9.99887313e-04, ...,\n",
       "         3.96608606e-03,  6.98021789e-04,  9.96473223e-01]])"
      ]
     },
     "execution_count": 8,
     "metadata": {},
     "output_type": "execute_result"
    }
   ],
   "source": [
    "U"
   ]
  },
  {
   "cell_type": "code",
   "execution_count": 9,
   "id": "851e6275-da0d-48fa-bb55-086475ebbbff",
   "metadata": {},
   "outputs": [
    {
     "data": {
      "text/plain": [
       "array([6.96278267, 1.53417231])"
      ]
     },
     "execution_count": 9,
     "metadata": {},
     "output_type": "execute_result"
    }
   ],
   "source": [
    "s"
   ]
  },
  {
   "cell_type": "code",
   "execution_count": 10,
   "id": "58b64948-49c3-4cf0-8540-11da1ceee99c",
   "metadata": {},
   "outputs": [
    {
     "data": {
      "text/plain": [
       "array([[-0.79644131, -0.60471583],\n",
       "       [-0.60471583,  0.79644131]])"
      ]
     },
     "execution_count": 10,
     "metadata": {},
     "output_type": "execute_result"
    }
   ],
   "source": [
    "Vt"
   ]
  },
  {
   "cell_type": "code",
   "execution_count": 11,
   "id": "014cda74-ae19-4c4f-bf12-5d6bc0c8cf3c",
   "metadata": {},
   "outputs": [],
   "source": [
    "c1 = Vt.T[:, 0]\n",
    "c2 = Vt.T[:, 1]"
   ]
  },
  {
   "cell_type": "code",
   "execution_count": 12,
   "id": "3e5652a9-6fad-4132-996c-25155a6e2380",
   "metadata": {},
   "outputs": [
    {
     "data": {
      "text/plain": [
       "array([-0.79644131, -0.60471583])"
      ]
     },
     "execution_count": 12,
     "metadata": {},
     "output_type": "execute_result"
    }
   ],
   "source": [
    "c1"
   ]
  },
  {
   "cell_type": "code",
   "execution_count": 13,
   "id": "10ac4daf-85ac-41a3-a4b1-49008ddcf83a",
   "metadata": {},
   "outputs": [
    {
     "data": {
      "text/plain": [
       "array([-0.60471583,  0.79644131])"
      ]
     },
     "execution_count": 13,
     "metadata": {},
     "output_type": "execute_result"
    }
   ],
   "source": [
    "c2"
   ]
  },
  {
   "cell_type": "code",
   "execution_count": null,
   "id": "50b18aae-5f12-40b3-b9b8-9c66da48ead7",
   "metadata": {},
   "outputs": [],
   "source": []
  },
  {
   "cell_type": "markdown",
   "id": "30529f25-a5d8-4aff-9b3b-6a6d2115fa06",
   "metadata": {},
   "source": [
    "## Projecting Down to d Dimensions"
   ]
  },
  {
   "cell_type": "markdown",
   "id": "d657fd06-f54d-4b90-92f5-56bc39ffa96a",
   "metadata": {},
   "source": [
    "Once you have identified all the principal components, you can reduce the dimen\r\n",
    "sionality of the dataset down to d dimensions by projecting it onto the hyperplane\r\n",
    " defined by the first d principal components. Selecting this hyperplane ensures that the\r\n",
    " projection will preserve as much variance as possible."
   ]
  },
  {
   "cell_type": "markdown",
   "id": "1c72d7f0-9db8-41a4-9c67-b2ff23f2d0e3",
   "metadata": {},
   "source": [
    "### Important\n",
    "To project the training set onto the hyperplane and obtain a reduced dataset Xd-proj\r\n",
    " of\r\n",
    " dimensionality d, compute the matrix multiplication of the training set matrix X by\r\n",
    " the matrix Wd\r\n",
    " , defined as the matrix containing the first d columns \n",
    "\n",
    " The equation is\n",
    "  Xd‐proj = XWd (better see in book)of V"
   ]
  },
  {
   "cell_type": "markdown",
   "id": "da018760-1de6-48ba-a712-9729d7ecc51a",
   "metadata": {},
   "source": [
    "The following Python code projects the training set onto the plane defined by the first  two principal components:"
   ]
  },
  {
   "cell_type": "code",
   "execution_count": 14,
   "id": "da4cf868-17c4-4b2c-b78c-224e128fd1a7",
   "metadata": {},
   "outputs": [],
   "source": [
    "W2 = Vt.T[:, :2]"
   ]
  },
  {
   "cell_type": "code",
   "execution_count": 15,
   "id": "07172d27-3f39-465b-bfe1-6b2a50d1e8a8",
   "metadata": {},
   "outputs": [
    {
     "data": {
      "text/plain": [
       "array([[-0.79644131, -0.60471583],\n",
       "       [-0.60471583,  0.79644131]])"
      ]
     },
     "execution_count": 15,
     "metadata": {},
     "output_type": "execute_result"
    }
   ],
   "source": [
    "W2"
   ]
  },
  {
   "cell_type": "code",
   "execution_count": 16,
   "id": "df0a8e7d-884b-46b0-9ba4-e0463d70e8e5",
   "metadata": {},
   "outputs": [],
   "source": [
    "X2D = X_centered.dot(W2)"
   ]
  },
  {
   "cell_type": "code",
   "execution_count": 17,
   "id": "fc052cb7-9420-422e-aae0-1c1a943d81f3",
   "metadata": {},
   "outputs": [
    {
     "data": {
      "text/plain": [
       "array([[-8.96088137e-01,  2.61576283e-02],\n",
       "       [-4.53603363e-02, -1.85948860e-01],\n",
       "       [ 1.38359166e-01, -3.11666166e-02],\n",
       "       [ 4.16315780e-02, -6.04371773e-02],\n",
       "       [ 2.18583744e-02, -4.58726693e-02],\n",
       "       [ 6.53868464e-01,  1.03673047e-01],\n",
       "       [-4.45218566e-01,  1.63002740e-01],\n",
       "       [-2.52100754e-02, -3.96098381e-02],\n",
       "       [ 2.74828447e-01, -1.47486328e-01],\n",
       "       [-4.89804685e-01, -1.19064333e-01],\n",
       "       [ 5.91772943e-01, -6.68825324e-03],\n",
       "       [-7.44460369e-01,  9.37220434e-03],\n",
       "       [ 5.12230114e-01, -5.91117152e-02],\n",
       "       [-3.13266691e-01, -2.12641588e-02],\n",
       "       [ 3.83765553e-01, -1.35145070e-02],\n",
       "       [-3.77664930e-01,  1.91087392e-01],\n",
       "       [ 6.22192127e-01, -4.81326634e-02],\n",
       "       [ 4.05843018e-01, -2.32002753e-01],\n",
       "       [ 4.62900292e-01, -9.12474313e-02],\n",
       "       [-5.62638042e-01, -2.36637544e-02],\n",
       "       [ 8.09046208e-01,  8.31463215e-02],\n",
       "       [ 1.80719622e-01, -1.69142171e-01],\n",
       "       [ 2.98447518e-01, -5.11785151e-02],\n",
       "       [ 4.35729072e-01,  1.35618235e-02],\n",
       "       [ 1.12339132e+00, -1.68707469e-03],\n",
       "       [-5.09329756e-01,  7.59538223e-02],\n",
       "       [-5.57383436e-01,  1.01605408e-01],\n",
       "       [-7.42300017e-01, -1.26114063e-01],\n",
       "       [-4.19950471e-01, -1.93589947e-01],\n",
       "       [ 3.04360690e-01, -1.83671045e-01],\n",
       "       [-5.27822154e-01,  1.23668447e-01],\n",
       "       [ 9.38906116e-02,  1.80883149e-01],\n",
       "       [ 3.35918853e-01,  2.35494590e-02],\n",
       "       [-7.52638095e-02, -1.06632109e-01],\n",
       "       [-2.24065944e-01,  1.90613293e-01],\n",
       "       [ 5.09402619e-01,  1.02097673e-01],\n",
       "       [ 7.24520511e-02,  1.79929048e-01],\n",
       "       [-2.44318685e-01,  6.38817933e-02],\n",
       "       [-3.23087658e-01,  1.94977998e-02],\n",
       "       [ 6.93739438e-01,  1.55229402e-01],\n",
       "       [ 6.83626747e-01,  3.96804666e-02],\n",
       "       [-3.06255432e-01, -8.88712253e-02],\n",
       "       [-7.60306544e-02,  1.16609123e-01],\n",
       "       [ 1.28713987e-02, -8.72153282e-02],\n",
       "       [ 1.45854192e+00, -6.50410607e-02],\n",
       "       [ 2.95510472e-01, -4.40211613e-02],\n",
       "       [ 4.78043426e-01,  4.92202601e-02],\n",
       "       [ 2.86468892e-01, -3.50652486e-03],\n",
       "       [-3.38708502e-01, -9.13086575e-02],\n",
       "       [ 1.44466110e-01,  2.20308932e-01],\n",
       "       [-4.35369951e-01, -1.37167289e-01],\n",
       "       [ 3.76189231e-02,  5.86533049e-02],\n",
       "       [-6.17964798e-01,  3.26551523e-03],\n",
       "       [ 2.65720436e-01, -6.60652314e-02],\n",
       "       [-3.24171713e-01,  2.58737230e-02],\n",
       "       [ 2.57613005e-01, -1.20787043e-02],\n",
       "       [ 2.05472262e-01,  7.82147166e-02],\n",
       "       [ 3.42825581e-01,  5.72823775e-02],\n",
       "       [-4.27742475e-01,  4.10117883e-02],\n",
       "       [ 4.13138475e-01,  1.44642428e-01],\n",
       "       [ 3.37079378e-01,  5.11618950e-02],\n",
       "       [ 3.79209530e-01, -1.65052243e-01],\n",
       "       [-1.14507596e-01,  2.76931986e-02],\n",
       "       [ 3.70774307e-02,  2.97937650e-02],\n",
       "       [ 3.24636337e-01, -6.55164554e-02],\n",
       "       [ 7.89476581e-02,  1.94034121e-01],\n",
       "       [-4.07272297e-01, -5.92029130e-02],\n",
       "       [-2.79337894e-01, -5.23406778e-02],\n",
       "       [ 2.25715170e-01,  9.21073425e-02],\n",
       "       [ 2.65055409e-01, -1.60611082e-01],\n",
       "       [ 4.51907852e-01,  1.97745374e-02],\n",
       "       [-6.76603521e-02,  1.24160746e-01],\n",
       "       [ 3.55338456e-01,  8.20568965e-02],\n",
       "       [-2.13673993e-01, -1.80131732e-02],\n",
       "       [-4.19919072e-01,  4.17639004e-02],\n",
       "       [ 4.27746050e-01,  1.17613622e-01],\n",
       "       [ 6.09137236e-01,  2.02104565e-02],\n",
       "       [-3.16955986e-03,  4.38048374e-02],\n",
       "       [ 3.61657526e-01,  5.53222800e-03],\n",
       "       [ 6.71393848e-02,  1.02545906e-01],\n",
       "       [ 3.96663191e-01,  1.70419112e-02],\n",
       "       [ 1.32276395e-01, -1.25644673e-01],\n",
       "       [-1.33866070e+00, -3.39620117e-02],\n",
       "       [ 7.39140839e-01,  1.57883864e-01],\n",
       "       [ 5.33339338e-01,  4.97439820e-02],\n",
       "       [-4.31004868e-01, -7.25504028e-02],\n",
       "       [ 2.15484246e-01, -4.80950244e-02],\n",
       "       [ 6.70354778e-02, -1.59469510e-01],\n",
       "       [ 6.16925576e-01,  3.30095454e-04],\n",
       "       [-5.21745049e-01,  5.35816552e-02],\n",
       "       [-8.67032328e-01,  5.25304916e-02],\n",
       "       [ 2.54714484e-01, -5.51554532e-03],\n",
       "       [ 1.01594493e+00, -7.32702485e-02],\n",
       "       [ 5.08443285e-01,  3.91889488e-02],\n",
       "       [-3.23713333e-01, -6.14794166e-02],\n",
       "       [ 2.96394651e-01, -1.47039271e-01],\n",
       "       [ 6.22912229e-02,  2.75349476e-02],\n",
       "       [-2.22242499e-01, -8.15775375e-02],\n",
       "       [-9.97596213e-01,  9.98881775e-02],\n",
       "       [ 4.76677524e-02, -5.03263425e-02],\n",
       "       [ 1.59385630e-01,  1.98770961e-02],\n",
       "       [ 7.23983658e-03,  4.99150260e-02],\n",
       "       [-3.88330571e-01,  1.29862055e-01],\n",
       "       [-5.74324601e-01, -2.17412761e-02],\n",
       "       [-1.94317864e-01, -4.14215200e-02],\n",
       "       [ 2.88462890e-01,  1.98608595e-01],\n",
       "       [ 2.24621449e-01,  2.05254821e-01],\n",
       "       [ 1.72893464e-01,  3.03337593e-02],\n",
       "       [-5.45686322e-01, -7.71908926e-03],\n",
       "       [-1.97062110e-01, -2.69019260e-02],\n",
       "       [ 2.37006918e-01, -1.01833788e-02],\n",
       "       [ 3.20293812e-01,  1.71329418e-01],\n",
       "       [ 7.91454892e-02,  1.75373382e-01],\n",
       "       [ 1.34116467e+00,  3.15311858e-02],\n",
       "       [-2.81345950e-01, -3.39245876e-02],\n",
       "       [-5.49606098e-01,  5.37889594e-02],\n",
       "       [ 1.35299898e-01,  4.77632442e-02],\n",
       "       [-1.40721018e+00, -3.07936334e-03],\n",
       "       [-1.49842206e-01, -4.57709563e-02],\n",
       "       [-6.50670013e-02, -1.28928620e-01],\n",
       "       [ 9.28880501e-02,  2.49171453e-01],\n",
       "       [-5.35894030e-01,  5.42510650e-02],\n",
       "       [-5.56858738e-01,  1.77869868e-01],\n",
       "       [-3.02147552e-01,  2.02159209e-01],\n",
       "       [-5.36183631e-01,  6.74427775e-03],\n",
       "       [-8.55623983e-01, -2.52623485e-01],\n",
       "       [ 2.83998192e-01,  3.39738443e-02],\n",
       "       [ 4.55220905e-01, -4.60837740e-03],\n",
       "       [ 3.19652268e-01, -5.73147775e-02],\n",
       "       [-1.35803712e+00,  3.55141032e-02],\n",
       "       [ 2.31421394e-02,  1.33432806e-01],\n",
       "       [ 1.15723020e-01,  9.23933561e-02],\n",
       "       [-1.79851419e-01,  1.60298502e-01],\n",
       "       [ 7.07110703e-01,  9.29033427e-02],\n",
       "       [-5.97227204e-02, -1.15625175e-01],\n",
       "       [-5.31804111e-01, -9.70759692e-02],\n",
       "       [-8.11573484e-01,  3.56003677e-02],\n",
       "       [-3.48886570e-01,  2.08692440e-03],\n",
       "       [-4.49281442e-01, -1.94684913e-01],\n",
       "       [-3.70829130e-02, -6.22225918e-02],\n",
       "       [-1.42251513e-01, -6.31866218e-03],\n",
       "       [-3.07506144e-01, -8.88695185e-02],\n",
       "       [-9.25307571e-01,  2.13517965e-01],\n",
       "       [ 1.03097886e-01,  2.07573310e-03],\n",
       "       [-1.47464910e-01,  1.24724802e-01],\n",
       "       [-9.46748876e-01, -1.39178787e-01],\n",
       "       [ 3.08673618e-01, -9.83295182e-02],\n",
       "       [ 5.58671697e-01, -1.50783004e-01],\n",
       "       [-1.79969356e-01, -1.18326957e-01],\n",
       "       [-7.54431603e-01,  7.63370593e-02],\n",
       "       [ 5.15860621e-01, -9.07637328e-02],\n",
       "       [ 3.02119496e-01,  1.47799162e-01],\n",
       "       [ 4.26806702e-01, -1.38986614e-01],\n",
       "       [ 2.28667680e-02,  3.92283202e-02],\n",
       "       [ 3.24088211e-01,  1.70213975e-01],\n",
       "       [-1.22209299e-01,  4.41346966e-02],\n",
       "       [ 4.26702773e-01,  6.42551604e-03],\n",
       "       [ 8.19816829e-02, -2.24146989e-01],\n",
       "       [-1.41063811e-01, -1.81097498e-01],\n",
       "       [ 1.64457703e-02, -1.45681492e-01],\n",
       "       [-1.01134103e+00,  1.26993172e-02],\n",
       "       [-4.33573355e-01,  8.41743009e-02],\n",
       "       [ 6.65856885e-01, -2.12785979e-01],\n",
       "       [ 1.61808196e-01,  9.45467292e-02],\n",
       "       [-4.82157648e-02,  7.89423282e-02],\n",
       "       [-4.66117068e-01, -1.57706328e-01],\n",
       "       [-1.49009196e-01,  1.94946740e-01],\n",
       "       [ 2.88429562e-01, -1.95469647e-01],\n",
       "       [ 1.15854187e-01, -4.26347471e-02],\n",
       "       [-2.08314238e-01, -9.22559093e-02],\n",
       "       [-4.17242418e-02, -2.21272525e-01],\n",
       "       [-4.31285498e-01,  1.51023258e-01],\n",
       "       [-6.46651297e-01, -1.63796812e-01],\n",
       "       [-1.54321959e-01, -3.00319930e-01],\n",
       "       [-1.42477982e-01, -8.04414843e-03],\n",
       "       [ 4.96009127e-01,  4.62484050e-02],\n",
       "       [-7.20255309e-02,  9.38505820e-02],\n",
       "       [-6.51879918e-02,  2.35315556e-02],\n",
       "       [ 9.73713335e-01, -9.40602754e-02],\n",
       "       [ 2.36218522e-01,  3.60724373e-02],\n",
       "       [-1.06876746e-03,  1.51498555e-01],\n",
       "       [ 4.34435954e-01, -1.34060334e-02],\n",
       "       [-1.28076019e-01, -2.44578006e-02],\n",
       "       [-2.47584073e-01, -6.08927420e-02],\n",
       "       [-7.10391471e-01, -4.55521748e-02],\n",
       "       [-5.58836834e-01, -1.34202263e-02],\n",
       "       [-7.43699081e-01, -1.54131331e-01],\n",
       "       [-2.58481292e-01, -4.73208896e-02],\n",
       "       [-1.19242387e-01,  1.18190473e-01],\n",
       "       [ 5.71157514e-01, -1.18785924e-01],\n",
       "       [ 4.97483707e-01,  3.73368260e-02],\n",
       "       [ 9.41952705e-01,  3.09293927e-02],\n",
       "       [ 6.44331385e-01, -9.94076651e-02],\n",
       "       [ 1.82692942e-01,  4.33205574e-02],\n",
       "       [ 3.13123024e-01, -4.12117592e-02],\n",
       "       [ 2.04403918e-02, -2.54497816e-02],\n",
       "       [ 1.33781786e+00, -1.34015280e-02],\n",
       "       [-4.58399199e-02,  1.10234115e-01],\n",
       "       [-1.02539769e+00,  4.64829485e-02],\n",
       "       [-3.85549579e-02, -9.59123942e-02]])"
      ]
     },
     "execution_count": 17,
     "metadata": {},
     "output_type": "execute_result"
    }
   ],
   "source": [
    "X2D"
   ]
  },
  {
   "cell_type": "code",
   "execution_count": null,
   "id": "73e094fb-6659-4ed1-bc76-f4566eba09dd",
   "metadata": {},
   "outputs": [],
   "source": []
  },
  {
   "cell_type": "markdown",
   "id": "0798b029-1f10-4893-b30b-696c1d149dd6",
   "metadata": {},
   "source": [
    "## Using Scikit-Learn"
   ]
  },
  {
   "cell_type": "markdown",
   "id": "ac66ed9c-e52c-4a01-b47c-a3da87447933",
   "metadata": {},
   "source": [
    "Scikit-Learn’s PCA class uses SVD decomposition to implement PCA, just like we did\n",
    " earlier in this chapter. The following code applies PCA to reduce the dimensionality\n",
    " of the dataset down to two dimensions (note that it automatically takes care of center\n",
    "ing the data):"
   ]
  },
  {
   "cell_type": "code",
   "execution_count": 18,
   "id": "b1c9cb3e-1691-417a-8f6c-63bb6f953e5c",
   "metadata": {},
   "outputs": [],
   "source": [
    "from sklearn.decomposition import PCA"
   ]
  },
  {
   "cell_type": "code",
   "execution_count": 19,
   "id": "86da7949-ae83-4df6-acf5-d0bff7ffbe63",
   "metadata": {},
   "outputs": [
    {
     "data": {
      "text/plain": [
       "array([[-8.96088137e-01, -2.61576283e-02],\n",
       "       [-4.53603363e-02,  1.85948860e-01],\n",
       "       [ 1.38359166e-01,  3.11666166e-02],\n",
       "       [ 4.16315780e-02,  6.04371773e-02],\n",
       "       [ 2.18583744e-02,  4.58726693e-02],\n",
       "       [ 6.53868464e-01, -1.03673047e-01],\n",
       "       [-4.45218566e-01, -1.63002740e-01],\n",
       "       [-2.52100754e-02,  3.96098381e-02],\n",
       "       [ 2.74828447e-01,  1.47486328e-01],\n",
       "       [-4.89804685e-01,  1.19064333e-01],\n",
       "       [ 5.91772943e-01,  6.68825324e-03],\n",
       "       [-7.44460369e-01, -9.37220434e-03],\n",
       "       [ 5.12230114e-01,  5.91117152e-02],\n",
       "       [-3.13266691e-01,  2.12641588e-02],\n",
       "       [ 3.83765553e-01,  1.35145070e-02],\n",
       "       [-3.77664930e-01, -1.91087392e-01],\n",
       "       [ 6.22192127e-01,  4.81326634e-02],\n",
       "       [ 4.05843018e-01,  2.32002753e-01],\n",
       "       [ 4.62900292e-01,  9.12474313e-02],\n",
       "       [-5.62638042e-01,  2.36637544e-02],\n",
       "       [ 8.09046208e-01, -8.31463215e-02],\n",
       "       [ 1.80719622e-01,  1.69142171e-01],\n",
       "       [ 2.98447518e-01,  5.11785151e-02],\n",
       "       [ 4.35729072e-01, -1.35618235e-02],\n",
       "       [ 1.12339132e+00,  1.68707469e-03],\n",
       "       [-5.09329756e-01, -7.59538223e-02],\n",
       "       [-5.57383436e-01, -1.01605408e-01],\n",
       "       [-7.42300017e-01,  1.26114063e-01],\n",
       "       [-4.19950471e-01,  1.93589947e-01],\n",
       "       [ 3.04360690e-01,  1.83671045e-01],\n",
       "       [-5.27822154e-01, -1.23668447e-01],\n",
       "       [ 9.38906116e-02, -1.80883149e-01],\n",
       "       [ 3.35918853e-01, -2.35494590e-02],\n",
       "       [-7.52638095e-02,  1.06632109e-01],\n",
       "       [-2.24065944e-01, -1.90613293e-01],\n",
       "       [ 5.09402619e-01, -1.02097673e-01],\n",
       "       [ 7.24520511e-02, -1.79929048e-01],\n",
       "       [-2.44318685e-01, -6.38817933e-02],\n",
       "       [-3.23087658e-01, -1.94977998e-02],\n",
       "       [ 6.93739438e-01, -1.55229402e-01],\n",
       "       [ 6.83626747e-01, -3.96804666e-02],\n",
       "       [-3.06255432e-01,  8.88712253e-02],\n",
       "       [-7.60306544e-02, -1.16609123e-01],\n",
       "       [ 1.28713987e-02,  8.72153282e-02],\n",
       "       [ 1.45854192e+00,  6.50410607e-02],\n",
       "       [ 2.95510472e-01,  4.40211613e-02],\n",
       "       [ 4.78043426e-01, -4.92202601e-02],\n",
       "       [ 2.86468892e-01,  3.50652486e-03],\n",
       "       [-3.38708502e-01,  9.13086575e-02],\n",
       "       [ 1.44466110e-01, -2.20308932e-01],\n",
       "       [-4.35369951e-01,  1.37167289e-01],\n",
       "       [ 3.76189231e-02, -5.86533049e-02],\n",
       "       [-6.17964798e-01, -3.26551523e-03],\n",
       "       [ 2.65720436e-01,  6.60652314e-02],\n",
       "       [-3.24171713e-01, -2.58737230e-02],\n",
       "       [ 2.57613005e-01,  1.20787043e-02],\n",
       "       [ 2.05472262e-01, -7.82147166e-02],\n",
       "       [ 3.42825581e-01, -5.72823775e-02],\n",
       "       [-4.27742475e-01, -4.10117883e-02],\n",
       "       [ 4.13138475e-01, -1.44642428e-01],\n",
       "       [ 3.37079378e-01, -5.11618950e-02],\n",
       "       [ 3.79209530e-01,  1.65052243e-01],\n",
       "       [-1.14507596e-01, -2.76931986e-02],\n",
       "       [ 3.70774307e-02, -2.97937650e-02],\n",
       "       [ 3.24636337e-01,  6.55164554e-02],\n",
       "       [ 7.89476581e-02, -1.94034121e-01],\n",
       "       [-4.07272297e-01,  5.92029130e-02],\n",
       "       [-2.79337894e-01,  5.23406778e-02],\n",
       "       [ 2.25715170e-01, -9.21073425e-02],\n",
       "       [ 2.65055409e-01,  1.60611082e-01],\n",
       "       [ 4.51907852e-01, -1.97745374e-02],\n",
       "       [-6.76603521e-02, -1.24160746e-01],\n",
       "       [ 3.55338456e-01, -8.20568965e-02],\n",
       "       [-2.13673993e-01,  1.80131732e-02],\n",
       "       [-4.19919072e-01, -4.17639004e-02],\n",
       "       [ 4.27746050e-01, -1.17613622e-01],\n",
       "       [ 6.09137236e-01, -2.02104565e-02],\n",
       "       [-3.16955986e-03, -4.38048374e-02],\n",
       "       [ 3.61657526e-01, -5.53222800e-03],\n",
       "       [ 6.71393848e-02, -1.02545906e-01],\n",
       "       [ 3.96663191e-01, -1.70419112e-02],\n",
       "       [ 1.32276395e-01,  1.25644673e-01],\n",
       "       [-1.33866070e+00,  3.39620117e-02],\n",
       "       [ 7.39140839e-01, -1.57883864e-01],\n",
       "       [ 5.33339338e-01, -4.97439820e-02],\n",
       "       [-4.31004868e-01,  7.25504028e-02],\n",
       "       [ 2.15484246e-01,  4.80950244e-02],\n",
       "       [ 6.70354778e-02,  1.59469510e-01],\n",
       "       [ 6.16925576e-01, -3.30095454e-04],\n",
       "       [-5.21745049e-01, -5.35816552e-02],\n",
       "       [-8.67032328e-01, -5.25304916e-02],\n",
       "       [ 2.54714484e-01,  5.51554532e-03],\n",
       "       [ 1.01594493e+00,  7.32702485e-02],\n",
       "       [ 5.08443285e-01, -3.91889488e-02],\n",
       "       [-3.23713333e-01,  6.14794166e-02],\n",
       "       [ 2.96394651e-01,  1.47039271e-01],\n",
       "       [ 6.22912229e-02, -2.75349476e-02],\n",
       "       [-2.22242499e-01,  8.15775375e-02],\n",
       "       [-9.97596213e-01, -9.98881775e-02],\n",
       "       [ 4.76677524e-02,  5.03263425e-02],\n",
       "       [ 1.59385630e-01, -1.98770961e-02],\n",
       "       [ 7.23983658e-03, -4.99150260e-02],\n",
       "       [-3.88330571e-01, -1.29862055e-01],\n",
       "       [-5.74324601e-01,  2.17412761e-02],\n",
       "       [-1.94317864e-01,  4.14215200e-02],\n",
       "       [ 2.88462890e-01, -1.98608595e-01],\n",
       "       [ 2.24621449e-01, -2.05254821e-01],\n",
       "       [ 1.72893464e-01, -3.03337593e-02],\n",
       "       [-5.45686322e-01,  7.71908926e-03],\n",
       "       [-1.97062110e-01,  2.69019260e-02],\n",
       "       [ 2.37006918e-01,  1.01833788e-02],\n",
       "       [ 3.20293812e-01, -1.71329418e-01],\n",
       "       [ 7.91454892e-02, -1.75373382e-01],\n",
       "       [ 1.34116467e+00, -3.15311858e-02],\n",
       "       [-2.81345950e-01,  3.39245876e-02],\n",
       "       [-5.49606098e-01, -5.37889594e-02],\n",
       "       [ 1.35299898e-01, -4.77632442e-02],\n",
       "       [-1.40721018e+00,  3.07936334e-03],\n",
       "       [-1.49842206e-01,  4.57709563e-02],\n",
       "       [-6.50670013e-02,  1.28928620e-01],\n",
       "       [ 9.28880501e-02, -2.49171453e-01],\n",
       "       [-5.35894030e-01, -5.42510650e-02],\n",
       "       [-5.56858738e-01, -1.77869868e-01],\n",
       "       [-3.02147552e-01, -2.02159209e-01],\n",
       "       [-5.36183631e-01, -6.74427775e-03],\n",
       "       [-8.55623983e-01,  2.52623485e-01],\n",
       "       [ 2.83998192e-01, -3.39738443e-02],\n",
       "       [ 4.55220905e-01,  4.60837740e-03],\n",
       "       [ 3.19652268e-01,  5.73147775e-02],\n",
       "       [-1.35803712e+00, -3.55141032e-02],\n",
       "       [ 2.31421394e-02, -1.33432806e-01],\n",
       "       [ 1.15723020e-01, -9.23933561e-02],\n",
       "       [-1.79851419e-01, -1.60298502e-01],\n",
       "       [ 7.07110703e-01, -9.29033427e-02],\n",
       "       [-5.97227204e-02,  1.15625175e-01],\n",
       "       [-5.31804111e-01,  9.70759692e-02],\n",
       "       [-8.11573484e-01, -3.56003677e-02],\n",
       "       [-3.48886570e-01, -2.08692440e-03],\n",
       "       [-4.49281442e-01,  1.94684913e-01],\n",
       "       [-3.70829130e-02,  6.22225918e-02],\n",
       "       [-1.42251513e-01,  6.31866218e-03],\n",
       "       [-3.07506144e-01,  8.88695185e-02],\n",
       "       [-9.25307571e-01, -2.13517965e-01],\n",
       "       [ 1.03097886e-01, -2.07573310e-03],\n",
       "       [-1.47464910e-01, -1.24724802e-01],\n",
       "       [-9.46748876e-01,  1.39178787e-01],\n",
       "       [ 3.08673618e-01,  9.83295182e-02],\n",
       "       [ 5.58671697e-01,  1.50783004e-01],\n",
       "       [-1.79969356e-01,  1.18326957e-01],\n",
       "       [-7.54431603e-01, -7.63370593e-02],\n",
       "       [ 5.15860621e-01,  9.07637328e-02],\n",
       "       [ 3.02119496e-01, -1.47799162e-01],\n",
       "       [ 4.26806702e-01,  1.38986614e-01],\n",
       "       [ 2.28667680e-02, -3.92283202e-02],\n",
       "       [ 3.24088211e-01, -1.70213975e-01],\n",
       "       [-1.22209299e-01, -4.41346966e-02],\n",
       "       [ 4.26702773e-01, -6.42551604e-03],\n",
       "       [ 8.19816829e-02,  2.24146989e-01],\n",
       "       [-1.41063811e-01,  1.81097498e-01],\n",
       "       [ 1.64457703e-02,  1.45681492e-01],\n",
       "       [-1.01134103e+00, -1.26993172e-02],\n",
       "       [-4.33573355e-01, -8.41743009e-02],\n",
       "       [ 6.65856885e-01,  2.12785979e-01],\n",
       "       [ 1.61808196e-01, -9.45467292e-02],\n",
       "       [-4.82157648e-02, -7.89423282e-02],\n",
       "       [-4.66117068e-01,  1.57706328e-01],\n",
       "       [-1.49009196e-01, -1.94946740e-01],\n",
       "       [ 2.88429562e-01,  1.95469647e-01],\n",
       "       [ 1.15854187e-01,  4.26347471e-02],\n",
       "       [-2.08314238e-01,  9.22559093e-02],\n",
       "       [-4.17242418e-02,  2.21272525e-01],\n",
       "       [-4.31285498e-01, -1.51023258e-01],\n",
       "       [-6.46651297e-01,  1.63796812e-01],\n",
       "       [-1.54321959e-01,  3.00319930e-01],\n",
       "       [-1.42477982e-01,  8.04414843e-03],\n",
       "       [ 4.96009127e-01, -4.62484050e-02],\n",
       "       [-7.20255309e-02, -9.38505820e-02],\n",
       "       [-6.51879918e-02, -2.35315556e-02],\n",
       "       [ 9.73713335e-01,  9.40602754e-02],\n",
       "       [ 2.36218522e-01, -3.60724373e-02],\n",
       "       [-1.06876746e-03, -1.51498555e-01],\n",
       "       [ 4.34435954e-01,  1.34060334e-02],\n",
       "       [-1.28076019e-01,  2.44578006e-02],\n",
       "       [-2.47584073e-01,  6.08927420e-02],\n",
       "       [-7.10391471e-01,  4.55521748e-02],\n",
       "       [-5.58836834e-01,  1.34202263e-02],\n",
       "       [-7.43699081e-01,  1.54131331e-01],\n",
       "       [-2.58481292e-01,  4.73208896e-02],\n",
       "       [-1.19242387e-01, -1.18190473e-01],\n",
       "       [ 5.71157514e-01,  1.18785924e-01],\n",
       "       [ 4.97483707e-01, -3.73368260e-02],\n",
       "       [ 9.41952705e-01, -3.09293927e-02],\n",
       "       [ 6.44331385e-01,  9.94076651e-02],\n",
       "       [ 1.82692942e-01, -4.33205574e-02],\n",
       "       [ 3.13123024e-01,  4.12117592e-02],\n",
       "       [ 2.04403918e-02,  2.54497816e-02],\n",
       "       [ 1.33781786e+00,  1.34015280e-02],\n",
       "       [-4.58399199e-02, -1.10234115e-01],\n",
       "       [-1.02539769e+00, -4.64829485e-02],\n",
       "       [-3.85549579e-02,  9.59123942e-02]])"
      ]
     },
     "execution_count": 19,
     "metadata": {},
     "output_type": "execute_result"
    }
   ],
   "source": [
    "pca = PCA(n_components = 2)\n",
    "pca.fit_transform(X)"
   ]
  },
  {
   "cell_type": "code",
   "execution_count": null,
   "id": "f64583a5-9d54-42e9-bd31-9fc73d4e159a",
   "metadata": {},
   "outputs": [],
   "source": []
  },
  {
   "cell_type": "markdown",
   "id": "82edd87b-2fed-49b4-8085-fb089b4031f0",
   "metadata": {},
   "source": [
    "#### NOTE\n",
    "After fitting the PCA transformer to the dataset, its components_ attribute holds the\r\n",
    " transpose of Wd\r\n",
    " (e.g., the unit vector that defines the first principal component is\r\n",
    " equal to pca.components_.T[:, 0])."
   ]
  },
  {
   "cell_type": "code",
   "execution_count": null,
   "id": "0f38803d-5acc-4526-a188-e93e11a62fac",
   "metadata": {},
   "outputs": [],
   "source": []
  },
  {
   "cell_type": "markdown",
   "id": "96d47572-cea9-48dc-a1bd-ce7a702c9df9",
   "metadata": {},
   "source": [
    "## Explained Variance Ratio"
   ]
  },
  {
   "cell_type": "markdown",
   "id": "f012f3e9-7f0a-4553-8c96-18e1bbf9eaae",
   "metadata": {},
   "source": [
    " Another useful piece of information is the explained variance ratio of each principal\r\n",
    " component, available via the explained_variance_ratio_ variable. The ratio indi\r\n",
    "cates the proportion of the dataset’s variance that lies along each principal compo\r\n",
    "nent."
   ]
  },
  {
   "cell_type": "code",
   "execution_count": 20,
   "id": "37bddbf4-36c3-4988-a856-5040a5e4e1ac",
   "metadata": {},
   "outputs": [
    {
     "data": {
      "text/plain": [
       "array([0.95369864, 0.04630136])"
      ]
     },
     "execution_count": 20,
     "metadata": {},
     "output_type": "execute_result"
    }
   ],
   "source": [
    "pca.explained_variance_ratio_"
   ]
  },
  {
   "cell_type": "markdown",
   "id": "52696968-2a1c-4980-9d92-88e34c96d2c5",
   "metadata": {},
   "source": [
    "#### Important Note\n",
    "This output tells you that 95.3% of the dataset’s variance lies along the first PC, and\r\n",
    "44.6% lies along the second PC. This leaves less than0112% for the third PC, so it is\r\n",
    " reasonable to assume that the third PC probably carries little information."
   ]
  },
  {
   "cell_type": "code",
   "execution_count": null,
   "id": "32728504-9537-40de-a871-9a1a5c69a445",
   "metadata": {},
   "outputs": [],
   "source": []
  },
  {
   "cell_type": "markdown",
   "id": "f0a2d21e-ac53-434a-99f5-a06decef2ed8",
   "metadata": {},
   "source": [
    "## Choosing the Right Number of Dimensions"
   ]
  },
  {
   "cell_type": "markdown",
   "id": "b89faac7-63e9-4404-8c20-218539e7597d",
   "metadata": {},
   "source": [
    "Instead of arbitrarily choosing the number of dimensions to reduce down to, it is\r\n",
    " simpler to choose the number of dimensions that add up to a sufficiently large por\r\n",
    "tion of the variance (e.g., 95%). Unless, of course, you are reducing dimensionality for\r\n",
    " data visualization—in that case you will want to reduce the dimensionality down to 2\r\n",
    " or 3."
   ]
  },
  {
   "cell_type": "code",
   "execution_count": 21,
   "id": "b23590a9-a701-4850-86e0-8bfbb90708a8",
   "metadata": {},
   "outputs": [
    {
     "name": "stderr",
     "output_type": "stream",
     "text": [
      "C:\\Python 3.11\\Lib\\site-packages\\sklearn\\datasets\\_openml.py:1022: FutureWarning: The default value of `parser` will change from `'liac-arff'` to `'auto'` in 1.4. You can set `parser='auto'` to silence this warning. Therefore, an `ImportError` will be raised from 1.4 if the dataset is dense and pandas is not installed. Note that the pandas parser may return different data types. See the Notes Section in fetch_openml's API doc for details.\n",
      "  warn(\n"
     ]
    }
   ],
   "source": [
    "from sklearn.datasets import fetch_openml\n",
    "\n",
    "mnist = fetch_openml('mnist_784', version=1, as_frame=False)\n",
    "mnist.target = mnist.target.astype(np.uint8)"
   ]
  },
  {
   "cell_type": "code",
   "execution_count": 22,
   "id": "b6147253-40f0-4d01-afe4-c41e5eeeb5ed",
   "metadata": {},
   "outputs": [],
   "source": [
    "from sklearn.model_selection import train_test_split\n",
    "\n",
    "X = mnist[\"data\"]\n",
    "y = mnist[\"target\"]\n",
    "\n",
    "X_train, X_test, y_train, y_test = train_test_split(X, y)"
   ]
  },
  {
   "cell_type": "code",
   "execution_count": 23,
   "id": "aa857055-fe89-4b13-8034-1d12a7b0d464",
   "metadata": {},
   "outputs": [
    {
     "data": {
      "text/plain": [
       "(52500, 784)"
      ]
     },
     "execution_count": 23,
     "metadata": {},
     "output_type": "execute_result"
    }
   ],
   "source": [
    "X_train.shape"
   ]
  },
  {
   "cell_type": "code",
   "execution_count": null,
   "id": "b8e97899-c1d1-4558-9029-5a650d4e3459",
   "metadata": {},
   "outputs": [],
   "source": []
  },
  {
   "cell_type": "markdown",
   "id": "45a9b2ee-e413-4c54-875f-5064ce292ebc",
   "metadata": {},
   "source": [
    "The following code performs PCA without reducing dimensionality, then computes\n",
    " the minimum number of dimensions required to preserve 95% of the training set’s\n",
    " variance: You could then set n_components=d and run PCA again."
   ]
  },
  {
   "cell_type": "code",
   "execution_count": 24,
   "id": "b44e4cde-ea3d-4547-9883-e419a26c7444",
   "metadata": {},
   "outputs": [
    {
     "data": {
      "text/html": [
       "<style>#sk-container-id-1 {color: black;}#sk-container-id-1 pre{padding: 0;}#sk-container-id-1 div.sk-toggleable {background-color: white;}#sk-container-id-1 label.sk-toggleable__label {cursor: pointer;display: block;width: 100%;margin-bottom: 0;padding: 0.3em;box-sizing: border-box;text-align: center;}#sk-container-id-1 label.sk-toggleable__label-arrow:before {content: \"▸\";float: left;margin-right: 0.25em;color: #696969;}#sk-container-id-1 label.sk-toggleable__label-arrow:hover:before {color: black;}#sk-container-id-1 div.sk-estimator:hover label.sk-toggleable__label-arrow:before {color: black;}#sk-container-id-1 div.sk-toggleable__content {max-height: 0;max-width: 0;overflow: hidden;text-align: left;background-color: #f0f8ff;}#sk-container-id-1 div.sk-toggleable__content pre {margin: 0.2em;color: black;border-radius: 0.25em;background-color: #f0f8ff;}#sk-container-id-1 input.sk-toggleable__control:checked~div.sk-toggleable__content {max-height: 200px;max-width: 100%;overflow: auto;}#sk-container-id-1 input.sk-toggleable__control:checked~label.sk-toggleable__label-arrow:before {content: \"▾\";}#sk-container-id-1 div.sk-estimator input.sk-toggleable__control:checked~label.sk-toggleable__label {background-color: #d4ebff;}#sk-container-id-1 div.sk-label input.sk-toggleable__control:checked~label.sk-toggleable__label {background-color: #d4ebff;}#sk-container-id-1 input.sk-hidden--visually {border: 0;clip: rect(1px 1px 1px 1px);clip: rect(1px, 1px, 1px, 1px);height: 1px;margin: -1px;overflow: hidden;padding: 0;position: absolute;width: 1px;}#sk-container-id-1 div.sk-estimator {font-family: monospace;background-color: #f0f8ff;border: 1px dotted black;border-radius: 0.25em;box-sizing: border-box;margin-bottom: 0.5em;}#sk-container-id-1 div.sk-estimator:hover {background-color: #d4ebff;}#sk-container-id-1 div.sk-parallel-item::after {content: \"\";width: 100%;border-bottom: 1px solid gray;flex-grow: 1;}#sk-container-id-1 div.sk-label:hover label.sk-toggleable__label {background-color: #d4ebff;}#sk-container-id-1 div.sk-serial::before {content: \"\";position: absolute;border-left: 1px solid gray;box-sizing: border-box;top: 0;bottom: 0;left: 50%;z-index: 0;}#sk-container-id-1 div.sk-serial {display: flex;flex-direction: column;align-items: center;background-color: white;padding-right: 0.2em;padding-left: 0.2em;position: relative;}#sk-container-id-1 div.sk-item {position: relative;z-index: 1;}#sk-container-id-1 div.sk-parallel {display: flex;align-items: stretch;justify-content: center;background-color: white;position: relative;}#sk-container-id-1 div.sk-item::before, #sk-container-id-1 div.sk-parallel-item::before {content: \"\";position: absolute;border-left: 1px solid gray;box-sizing: border-box;top: 0;bottom: 0;left: 50%;z-index: -1;}#sk-container-id-1 div.sk-parallel-item {display: flex;flex-direction: column;z-index: 1;position: relative;background-color: white;}#sk-container-id-1 div.sk-parallel-item:first-child::after {align-self: flex-end;width: 50%;}#sk-container-id-1 div.sk-parallel-item:last-child::after {align-self: flex-start;width: 50%;}#sk-container-id-1 div.sk-parallel-item:only-child::after {width: 0;}#sk-container-id-1 div.sk-dashed-wrapped {border: 1px dashed gray;margin: 0 0.4em 0.5em 0.4em;box-sizing: border-box;padding-bottom: 0.4em;background-color: white;}#sk-container-id-1 div.sk-label label {font-family: monospace;font-weight: bold;display: inline-block;line-height: 1.2em;}#sk-container-id-1 div.sk-label-container {text-align: center;}#sk-container-id-1 div.sk-container {/* jupyter's `normalize.less` sets `[hidden] { display: none; }` but bootstrap.min.css set `[hidden] { display: none !important; }` so we also need the `!important` here to be able to override the default hidden behavior on the sphinx rendered scikit-learn.org. See: https://github.com/scikit-learn/scikit-learn/issues/21755 */display: inline-block !important;position: relative;}#sk-container-id-1 div.sk-text-repr-fallback {display: none;}</style><div id=\"sk-container-id-1\" class=\"sk-top-container\"><div class=\"sk-text-repr-fallback\"><pre>PCA()</pre><b>In a Jupyter environment, please rerun this cell to show the HTML representation or trust the notebook. <br />On GitHub, the HTML representation is unable to render, please try loading this page with nbviewer.org.</b></div><div class=\"sk-container\" hidden><div class=\"sk-item\"><div class=\"sk-estimator sk-toggleable\"><input class=\"sk-toggleable__control sk-hidden--visually\" id=\"sk-estimator-id-1\" type=\"checkbox\" checked><label for=\"sk-estimator-id-1\" class=\"sk-toggleable__label sk-toggleable__label-arrow\">PCA</label><div class=\"sk-toggleable__content\"><pre>PCA()</pre></div></div></div></div></div>"
      ],
      "text/plain": [
       "PCA()"
      ]
     },
     "execution_count": 24,
     "metadata": {},
     "output_type": "execute_result"
    }
   ],
   "source": [
    "pca = PCA()\n",
    "pca.fit(X)\n"
   ]
  },
  {
   "cell_type": "code",
   "execution_count": 25,
   "id": "a5afb49c-6dba-4e2e-9e85-af9337986647",
   "metadata": {},
   "outputs": [
    {
     "name": "stdout",
     "output_type": "stream",
     "text": [
      "[9.74611592e-02 7.15544459e-02 6.14953098e-02 5.40338453e-02\n",
      " 4.88893370e-02 4.30522703e-02 3.27826152e-02 2.88964157e-02\n",
      " 2.75836420e-02 2.34214017e-02 2.10668855e-02 2.03755324e-02\n",
      " 1.70706430e-02 1.69401978e-02 1.58338224e-02 1.48634490e-02\n",
      " 1.31935849e-02 1.27901425e-02 1.18727249e-02 1.15293670e-02\n",
      " 1.06603978e-02 1.00979434e-02 9.59151230e-03 9.09635078e-03\n",
      " 8.83286819e-03 8.38818208e-03 8.09831794e-03 7.85717898e-03\n",
      " 7.40262230e-03 6.90014160e-03 6.56143991e-03 6.45470291e-03\n",
      " 6.00819302e-03 5.85611746e-03 5.66753559e-03 5.43470659e-03\n",
      " 5.04717070e-03 4.87079420e-03 4.78955138e-03 4.67593650e-03\n",
      " 4.54368629e-03 4.44918011e-03 4.18216598e-03 3.96163907e-03\n",
      " 3.83707746e-03 3.75784804e-03 3.61426284e-03 3.49024600e-03\n",
      " 3.38731603e-03 3.19696169e-03 3.16854028e-03 3.10144912e-03\n",
      " 2.96480352e-03 2.87101448e-03 2.82513796e-03 2.69422713e-03\n",
      " 2.68392305e-03 2.56509337e-03 2.53167853e-03 2.44648029e-03\n",
      " 2.39702237e-03 2.38581001e-03 2.29233749e-03 2.20948989e-03\n",
      " 2.13060474e-03 2.06317465e-03 2.02781376e-03 1.95035121e-03\n",
      " 1.91470630e-03 1.88549505e-03 1.86976139e-03 1.80104253e-03\n",
      " 1.76787047e-03 1.73358650e-03 1.64849362e-03 1.63237038e-03\n",
      " 1.61408055e-03 1.54304053e-03 1.47020450e-03 1.42199481e-03\n",
      " 1.41016185e-03 1.40146237e-03 1.39604870e-03 1.35024501e-03\n",
      " 1.32371477e-03 1.31892946e-03 1.29197441e-03 1.25172024e-03\n",
      " 1.22529497e-03 1.20419255e-03 1.16362925e-03 1.14318923e-03\n",
      " 1.12546916e-03 1.09861712e-03 1.08343166e-03 1.07175354e-03\n",
      " 1.03692149e-03 1.03418367e-03 1.00590663e-03 9.99325142e-04\n",
      " 9.76735991e-04 9.41612569e-04 9.35828500e-04 9.11663794e-04\n",
      " 9.00740327e-04 8.89500192e-04 8.61582163e-04 8.52548370e-04\n",
      " 8.41000337e-04 8.17226230e-04 7.86023844e-04 7.77503726e-04\n",
      " 7.75810592e-04 7.64787225e-04 7.60571234e-04 7.48785470e-04\n",
      " 7.30240979e-04 7.25363635e-04 7.15836872e-04 7.03405063e-04\n",
      " 6.91745865e-04 6.86919870e-04 6.79378778e-04 6.71744261e-04\n",
      " 6.61270454e-04 6.42670195e-04 6.32773462e-04 6.28404701e-04\n",
      " 6.19625528e-04 6.01403526e-04 6.00263091e-04 5.93794899e-04\n",
      " 5.86278891e-04 5.83449834e-04 5.78903620e-04 5.72747284e-04\n",
      " 5.63377823e-04 5.52296575e-04 5.35574588e-04 5.25724981e-04\n",
      " 5.22739254e-04 5.09903871e-04 5.02295123e-04 4.98141018e-04\n",
      " 4.95849105e-04 4.92343877e-04 4.83782125e-04 4.80900044e-04\n",
      " 4.71568617e-04 4.66713811e-04 4.64229952e-04 4.61992013e-04\n",
      " 4.58284446e-04 4.49503116e-04 4.47172490e-04 4.40904677e-04\n",
      " 4.37998438e-04 4.26374855e-04 4.20857295e-04 4.18174629e-04\n",
      " 4.13001715e-04 4.08415056e-04 3.98256579e-04 3.93991596e-04\n",
      " 3.91755679e-04 3.89121195e-04 3.83397936e-04 3.78486529e-04\n",
      " 3.76442432e-04 3.72063436e-04 3.66321925e-04 3.64801469e-04\n",
      " 3.62034223e-04 3.56831381e-04 3.53747734e-04 3.52293713e-04\n",
      " 3.46618436e-04 3.44789075e-04 3.41853145e-04 3.38873721e-04\n",
      " 3.34949967e-04 3.29111158e-04 3.27872188e-04 3.24171750e-04\n",
      " 3.22790110e-04 3.20155820e-04 3.16615622e-04 3.15352396e-04\n",
      " 3.09866885e-04 3.09377948e-04 3.05860527e-04 3.02546323e-04\n",
      " 3.01222468e-04 3.00317395e-04 2.95516716e-04 2.95119362e-04\n",
      " 2.92839952e-04 2.91751938e-04 2.86622584e-04 2.82929231e-04\n",
      " 2.81562646e-04 2.77365996e-04 2.74347019e-04 2.72050408e-04\n",
      " 2.68505641e-04 2.66949905e-04 2.64585298e-04 2.63632875e-04\n",
      " 2.61567718e-04 2.58677209e-04 2.57444289e-04 2.56553991e-04\n",
      " 2.54454214e-04 2.52751304e-04 2.51732760e-04 2.48492603e-04\n",
      " 2.46879274e-04 2.45141268e-04 2.42557371e-04 2.41060642e-04\n",
      " 2.40729101e-04 2.39157781e-04 2.38368958e-04 2.36465534e-04\n",
      " 2.31738913e-04 2.31151086e-04 2.29478249e-04 2.27499701e-04\n",
      " 2.27058394e-04 2.23183789e-04 2.20885904e-04 2.19760641e-04\n",
      " 2.17371367e-04 2.16120178e-04 2.14496789e-04 2.12974142e-04\n",
      " 2.12560292e-04 2.09881322e-04 2.09361213e-04 2.06317141e-04\n",
      " 2.04627589e-04 2.02749925e-04 2.01314073e-04 2.00808984e-04\n",
      " 1.98425209e-04 1.97482356e-04 1.95507537e-04 1.92879429e-04\n",
      " 1.92633645e-04 1.91754323e-04 1.90827854e-04 1.88672448e-04\n",
      " 1.87291477e-04 1.87215919e-04 1.85574750e-04 1.85004808e-04\n",
      " 1.83884027e-04 1.82270445e-04 1.81992237e-04 1.79975123e-04\n",
      " 1.76963729e-04 1.76474494e-04 1.75576877e-04 1.73779621e-04\n",
      " 1.73077812e-04 1.72220927e-04 1.71227269e-04 1.70138919e-04\n",
      " 1.68736287e-04 1.67041666e-04 1.66584618e-04 1.66309006e-04\n",
      " 1.63988707e-04 1.63482911e-04 1.62922112e-04 1.61722789e-04\n",
      " 1.59982307e-04 1.59603421e-04 1.58838260e-04 1.57383682e-04\n",
      " 1.56003249e-04 1.54513608e-04 1.53593323e-04 1.53040402e-04\n",
      " 1.51710524e-04 1.49919946e-04 1.49472234e-04 1.47971254e-04\n",
      " 1.47774126e-04 1.46099454e-04 1.44525446e-04 1.43219967e-04\n",
      " 1.42770806e-04 1.42085042e-04 1.41467046e-04 1.40258131e-04\n",
      " 1.37757863e-04 1.37311595e-04 1.36256005e-04 1.35715261e-04\n",
      " 1.35067317e-04 1.34363067e-04 1.33544179e-04 1.32433586e-04\n",
      " 1.30847815e-04 1.29472386e-04 1.28712888e-04 1.27695196e-04\n",
      " 1.27339207e-04 1.26761549e-04 1.26143148e-04 1.25961095e-04\n",
      " 1.24627663e-04 1.23204346e-04 1.21935092e-04 1.21460719e-04\n",
      " 1.20583758e-04 1.19751544e-04 1.19076569e-04 1.18828118e-04\n",
      " 1.17280993e-04 1.16873821e-04 1.16037917e-04 1.15880315e-04\n",
      " 1.14834567e-04 1.14277127e-04 1.12169866e-04 1.11101397e-04\n",
      " 1.10170556e-04 1.10025718e-04 1.09742051e-04 1.09131714e-04\n",
      " 1.08240683e-04 1.07451790e-04 1.06536374e-04 1.06263890e-04\n",
      " 1.06195386e-04 1.04839419e-04 1.03169899e-04 1.02639131e-04\n",
      " 1.01687978e-04 1.00427061e-04 1.00140613e-04 9.93652762e-05\n",
      " 9.92388118e-05 9.83270145e-05 9.75066437e-05 9.68864140e-05\n",
      " 9.49293650e-05 9.41064629e-05 9.38706369e-05 9.33070090e-05\n",
      " 9.23315172e-05 9.16039995e-05 9.11684800e-05 9.03808667e-05\n",
      " 8.97821862e-05 8.91723739e-05 8.88632228e-05 8.79638085e-05\n",
      " 8.69672533e-05 8.62973013e-05 8.56288125e-05 8.48221714e-05\n",
      " 8.46665834e-05 8.36097852e-05 8.26556003e-05 8.23864961e-05\n",
      " 8.20198794e-05 8.09016939e-05 8.08384022e-05 7.93714845e-05\n",
      " 7.91871033e-05 7.82255518e-05 7.78779204e-05 7.71608627e-05\n",
      " 7.62387615e-05 7.58981580e-05 7.44680469e-05 7.38774800e-05\n",
      " 7.33237470e-05 7.30068206e-05 7.24020137e-05 7.19577816e-05\n",
      " 7.12629888e-05 7.02683148e-05 6.95939047e-05 6.93003007e-05\n",
      " 6.79830085e-05 6.74100296e-05 6.68794290e-05 6.59011875e-05\n",
      " 6.47614852e-05 6.39970653e-05 6.33408587e-05 6.31361946e-05\n",
      " 6.17700881e-05 6.10315926e-05 6.00526863e-05 5.97464977e-05\n",
      " 5.89196930e-05 5.85458216e-05 5.80333309e-05 5.73253755e-05\n",
      " 5.64239779e-05 5.59694957e-05 5.53951577e-05 5.44800913e-05\n",
      " 5.43654713e-05 5.42476057e-05 5.29283351e-05 5.27818672e-05\n",
      " 5.22704913e-05 5.16344747e-05 5.11487747e-05 5.06513776e-05\n",
      " 4.97419153e-05 4.93805646e-05 4.89881559e-05 4.82659672e-05\n",
      " 4.74939480e-05 4.69248794e-05 4.63428447e-05 4.62626123e-05\n",
      " 4.52324457e-05 4.46031261e-05 4.34233073e-05 4.24062674e-05\n",
      " 4.20634655e-05 4.19420809e-05 4.12219714e-05 4.12079674e-05\n",
      " 4.08417034e-05 4.04907175e-05 4.01910366e-05 3.84993463e-05\n",
      " 3.82085388e-05 3.79949784e-05 3.77015857e-05 3.72061666e-05\n",
      " 3.68864001e-05 3.64303709e-05 3.52852842e-05 3.50883003e-05\n",
      " 3.49547428e-05 3.44852097e-05 3.43466892e-05 3.42517196e-05\n",
      " 3.29750828e-05 3.26367701e-05 3.20410059e-05 3.17823422e-05\n",
      " 3.13910591e-05 3.08077599e-05 2.98551587e-05 2.96967348e-05\n",
      " 2.92204172e-05 2.89874616e-05 2.89203746e-05 2.83153501e-05\n",
      " 2.76987546e-05 2.74933376e-05 2.71731171e-05 2.67515703e-05\n",
      " 2.56491128e-05 2.52143382e-05 2.49627552e-05 2.46655327e-05\n",
      " 2.44624778e-05 2.43404133e-05 2.41383325e-05 2.39814037e-05\n",
      " 2.34531674e-05 2.33616482e-05 2.30977153e-05 2.24364530e-05\n",
      " 2.21629806e-05 2.15503075e-05 2.13879299e-05 2.12158956e-05\n",
      " 2.08592836e-05 2.06752156e-05 2.02802441e-05 1.98992055e-05\n",
      " 1.97485960e-05 1.94880765e-05 1.92956986e-05 1.90259936e-05\n",
      " 1.87923085e-05 1.83814435e-05 1.80391066e-05 1.79614993e-05\n",
      " 1.72675683e-05 1.71211479e-05 1.62005186e-05 1.61054735e-05\n",
      " 1.58195242e-05 1.57604609e-05 1.54048009e-05 1.53715028e-05\n",
      " 1.52418988e-05 1.48565892e-05 1.46704702e-05 1.44232039e-05\n",
      " 1.41445201e-05 1.39255549e-05 1.36342913e-05 1.35213320e-05\n",
      " 1.34311270e-05 1.32900023e-05 1.28729721e-05 1.25562142e-05\n",
      " 1.22638887e-05 1.22347551e-05 1.21479721e-05 1.19417398e-05\n",
      " 1.15940096e-05 1.14842948e-05 1.14314319e-05 1.13183175e-05\n",
      " 1.12111312e-05 1.09856749e-05 1.08113103e-05 1.05451420e-05\n",
      " 1.04173046e-05 1.02684359e-05 1.00226745e-05 9.35506557e-06\n",
      " 9.19889344e-06 9.14339874e-06 9.09988101e-06 8.94651498e-06\n",
      " 8.66089985e-06 8.44638920e-06 8.05971907e-06 7.86304034e-06\n",
      " 7.82269474e-06 7.78381156e-06 7.76858543e-06 7.60911365e-06\n",
      " 7.52562571e-06 7.41655275e-06 7.29360182e-06 7.18862738e-06\n",
      " 7.13503646e-06 7.01454287e-06 6.74884675e-06 6.73056150e-06\n",
      " 6.32707450e-06 6.25494903e-06 6.16626320e-06 5.82984039e-06\n",
      " 5.66527329e-06 5.50897344e-06 5.48281226e-06 5.37237050e-06\n",
      " 5.31840977e-06 5.20650770e-06 4.89733165e-06 4.84623939e-06\n",
      " 4.83361955e-06 4.79215097e-06 4.54661978e-06 4.49960388e-06\n",
      " 4.46511147e-06 4.44481600e-06 4.36834099e-06 4.14609501e-06\n",
      " 4.10472271e-06 3.95275351e-06 3.88344310e-06 3.83850948e-06\n",
      " 3.80569552e-06 3.38835237e-06 3.32065197e-06 3.20289814e-06\n",
      " 3.17197017e-06 3.14763945e-06 3.11396504e-06 3.07336577e-06\n",
      " 3.05465871e-06 2.95452106e-06 2.90423104e-06 2.88772796e-06\n",
      " 2.75325085e-06 2.52008072e-06 2.50186545e-06 2.38073778e-06\n",
      " 2.30630027e-06 2.15516591e-06 2.15081922e-06 2.11274871e-06\n",
      " 2.10083560e-06 2.03442156e-06 2.01243832e-06 1.97345919e-06\n",
      " 1.91696487e-06 1.81984456e-06 1.79187010e-06 1.74570739e-06\n",
      " 1.74054477e-06 1.67508476e-06 1.63561316e-06 1.61763050e-06\n",
      " 1.59253104e-06 1.55641808e-06 1.49279431e-06 1.30740723e-06\n",
      " 1.30124249e-06 1.28661179e-06 1.27409872e-06 1.20409881e-06\n",
      " 1.14755125e-06 1.09214584e-06 1.08308512e-06 1.07787935e-06\n",
      " 1.05965571e-06 1.03977799e-06 1.02142376e-06 9.89269007e-07\n",
      " 9.37580952e-07 9.24603133e-07 8.38636227e-07 8.38078522e-07\n",
      " 8.24582332e-07 8.11444261e-07 7.91833504e-07 7.36912481e-07\n",
      " 6.96102098e-07 6.65508246e-07 6.43634170e-07 6.25462865e-07\n",
      " 6.08429882e-07 6.07459530e-07 6.01164868e-07 5.70963094e-07\n",
      " 5.52973496e-07 5.48661936e-07 5.18969736e-07 5.09183538e-07\n",
      " 4.77856181e-07 4.48148298e-07 4.47689671e-07 4.19812565e-07\n",
      " 3.83139436e-07 3.78891689e-07 3.74284280e-07 3.66324983e-07\n",
      " 3.42623964e-07 2.91276914e-07 2.82130974e-07 2.73032514e-07\n",
      " 2.71591636e-07 2.69844582e-07 2.65153163e-07 2.59133468e-07\n",
      " 2.39731562e-07 2.10166600e-07 2.03368877e-07 1.89452864e-07\n",
      " 1.84590277e-07 1.84076221e-07 1.75975108e-07 1.56664020e-07\n",
      " 1.55978964e-07 1.45807992e-07 1.35604071e-07 1.21871746e-07\n",
      " 1.17600788e-07 1.17212449e-07 1.16810331e-07 1.13080111e-07\n",
      " 1.10234485e-07 9.18273880e-08 8.33059627e-08 8.04829052e-08\n",
      " 7.81027663e-08 7.22770029e-08 6.40172167e-08 5.87105469e-08\n",
      " 4.81993684e-08 4.77990281e-08 4.16771761e-08 3.82379674e-08\n",
      " 3.81891051e-08 3.28254631e-08 2.77855644e-08 2.69033715e-08\n",
      " 2.57061646e-08 2.08157084e-08 1.76699804e-08 1.52412927e-08\n",
      " 1.43098947e-08 1.42819939e-08 1.08470693e-08 1.02886371e-08\n",
      " 8.84197911e-09 7.47389282e-09 6.82208196e-09 5.99571137e-09\n",
      " 5.93795986e-09 4.69363082e-09 4.25613112e-09 4.21844242e-09\n",
      " 4.15473831e-09 3.22486921e-09 1.72097942e-09 8.06442504e-10\n",
      " 6.25241485e-10 5.97444943e-10 2.17548978e-10 2.07661985e-10\n",
      " 1.06060156e-10 3.47543526e-32 1.59110944e-32 1.22390241e-32\n",
      " 1.05552276e-32 6.63778332e-33 4.99881035e-33 4.25466367e-33\n",
      " 3.45422517e-33 2.77472654e-33 2.65003850e-33 1.71033327e-33\n",
      " 1.41720746e-33 1.19019449e-33 9.48172375e-34 8.00410628e-34\n",
      " 5.24756976e-34 3.88799828e-34 3.51357715e-34 3.51357715e-34\n",
      " 3.51357715e-34 3.51357715e-34 3.51357715e-34 3.51357715e-34\n",
      " 3.51357715e-34 3.51357715e-34 3.51357715e-34 3.51357715e-34\n",
      " 3.51357715e-34 3.51357715e-34 3.51357715e-34 3.51357715e-34\n",
      " 3.51357715e-34 3.51357715e-34 3.51357715e-34 3.51357715e-34\n",
      " 3.51357715e-34 3.51357715e-34 3.51357715e-34 3.51357715e-34\n",
      " 3.51357715e-34 3.51357715e-34 3.51357715e-34 3.51357715e-34\n",
      " 3.51357715e-34 3.51357715e-34 3.51357715e-34 3.51357715e-34\n",
      " 3.51357715e-34 3.51357715e-34 3.51357715e-34 3.51357715e-34\n",
      " 3.51357715e-34 3.51357715e-34 3.51357715e-34 3.51357715e-34\n",
      " 3.51357715e-34 3.51357715e-34 3.51357715e-34 3.51357715e-34\n",
      " 3.51357715e-34 3.51357715e-34 3.51357715e-34 3.51357715e-34\n",
      " 3.51357715e-34 3.51357715e-34 3.51357715e-34 3.45925731e-34\n",
      " 2.37075609e-34 1.30200211e-34 1.01642227e-34 1.05667665e-35]\n",
      "[0.09746116 0.16901561 0.23051091 0.28454476 0.3334341  0.37648637\n",
      " 0.40926898 0.4381654  0.46574904 0.48917044 0.51023733 0.53061286\n",
      " 0.5476835  0.5646237  0.58045752 0.59532097 0.60851456 0.6213047\n",
      " 0.63317742 0.64470679 0.65536719 0.66546513 0.67505665 0.684153\n",
      " 0.69298586 0.70137405 0.70947236 0.71732954 0.72473217 0.73163231\n",
      " 0.73819375 0.74464845 0.75065664 0.75651276 0.7621803  0.767615\n",
      " 0.77266217 0.77753297 0.78232252 0.78699846 0.79154214 0.79599132\n",
      " 0.80017349 0.80413513 0.8079722  0.81173005 0.81534432 0.81883456\n",
      " 0.82222188 0.82541884 0.82858738 0.83168883 0.83465363 0.83752465\n",
      " 0.84034978 0.84304401 0.84572793 0.84829303 0.85082471 0.85327119\n",
      " 0.85566821 0.85805402 0.86034636 0.86255585 0.86468645 0.86674963\n",
      " 0.86877744 0.87072779 0.8726425  0.87452799 0.87639775 0.8781988\n",
      " 0.87996667 0.88170025 0.88334875 0.88498112 0.8865952  0.88813824\n",
      " 0.88960844 0.89103044 0.8924406  0.89384206 0.89523811 0.89658836\n",
      " 0.89791207 0.899231   0.90052297 0.90177469 0.90299999 0.90420418\n",
      " 0.90536781 0.906511   0.90763647 0.90873509 0.90981852 0.91089027\n",
      " 0.91192719 0.91296138 0.91396728 0.91496661 0.91594334 0.91688496\n",
      " 0.91782079 0.91873245 0.91963319 0.92052269 0.92138427 0.92223682\n",
      " 0.92307782 0.92389505 0.92468107 0.92545857 0.92623439 0.92699917\n",
      " 0.92775974 0.92850853 0.92923877 0.92996413 0.93067997 0.93138338\n",
      " 0.93207512 0.93276204 0.93344142 0.93411316 0.93477443 0.93541711\n",
      " 0.93604988 0.93667828 0.93729791 0.93789931 0.93849958 0.93909337\n",
      " 0.93967965 0.9402631  0.940842   0.94141475 0.94197813 0.94253042\n",
      " 0.943066   0.94359172 0.94411446 0.94462437 0.94512666 0.9456248\n",
      " 0.94612065 0.946613   0.94709678 0.94757768 0.94804925 0.94851596\n",
      " 0.94898019 0.94944218 0.94990047 0.95034997 0.95079714 0.95123805\n",
      " 0.95167605 0.95210242 0.95252328 0.95294145 0.95335445 0.95376287\n",
      " 0.95416113 0.95455512 0.95494687 0.95533599 0.95571939 0.95609788\n",
      " 0.95647432 0.95684638 0.95721271 0.95757751 0.95793954 0.95829637\n",
      " 0.95865012 0.95900242 0.95934903 0.95969382 0.96003568 0.96037455\n",
      " 0.9607095  0.96103861 0.96136648 0.96169065 0.96201344 0.9623336\n",
      " 0.96265022 0.96296557 0.96327544 0.96358481 0.96389067 0.96419322\n",
      " 0.96449444 0.96479476 0.96509028 0.9653854  0.96567824 0.96596999\n",
      " 0.96625661 0.96653954 0.9668211  0.96709847 0.96737282 0.96764487\n",
      " 0.96791337 0.96818032 0.96844491 0.96870854 0.96897011 0.96922878\n",
      " 0.96948623 0.96974278 0.96999724 0.97024999 0.97050172 0.97075021\n",
      " 0.97099709 0.97124223 0.97148479 0.97172585 0.97196658 0.97220574\n",
      " 0.97244411 0.97268057 0.97291231 0.97314346 0.97337294 0.97360044\n",
      " 0.9738275  0.97405068 0.97427157 0.97449133 0.9747087  0.97492482\n",
      " 0.97513932 0.97535229 0.97556485 0.97577473 0.9759841  0.97619041\n",
      " 0.97639504 0.97659779 0.9767991  0.97699991 0.97719834 0.97739582\n",
      " 0.97759133 0.97778421 0.97797684 0.9781686  0.97835942 0.9785481\n",
      " 0.97873539 0.9789226  0.97910818 0.97929318 0.97947707 0.97965934\n",
      " 0.97984133 0.9800213  0.98019827 0.98037474 0.98055032 0.9807241\n",
      " 0.98089718 0.9810694  0.98124063 0.98141076 0.9815795  0.98174654\n",
      " 0.98191313 0.98207944 0.98224342 0.98240691 0.98256983 0.98273155\n",
      " 0.98289154 0.98305114 0.98320998 0.98336736 0.98352336 0.98367788\n",
      " 0.98383147 0.98398451 0.98413622 0.98428614 0.98443561 0.98458358\n",
      " 0.98473136 0.98487746 0.98502198 0.9851652  0.98530797 0.98545006\n",
      " 0.98559153 0.98573178 0.98586954 0.98600685 0.98614311 0.98627883\n",
      " 0.98641389 0.98654826 0.9866818  0.98681423 0.98694508 0.98707455\n",
      " 0.98720327 0.98733096 0.9874583  0.98758506 0.98771121 0.98783717\n",
      " 0.98796179 0.988085   0.98820693 0.98832839 0.98844898 0.98856873\n",
      " 0.98868781 0.98880663 0.98892392 0.98904079 0.98915683 0.98927271\n",
      " 0.98938754 0.98950182 0.98961399 0.98972509 0.98983526 0.98994529\n",
      " 0.99005503 0.99016416 0.9902724  0.99037985 0.99048639 0.99059265\n",
      " 0.99069885 0.99080369 0.99090686 0.9910095  0.99111119 0.99121161\n",
      " 0.99131175 0.99141112 0.99151036 0.99160868 0.99170619 0.99180308\n",
      " 0.99189801 0.99199211 0.99208598 0.99217929 0.99227162 0.99236323\n",
      " 0.99245439 0.99254478 0.99263456 0.99272373 0.99281259 0.99290056\n",
      " 0.99298752 0.99307382 0.99315945 0.99324427 0.99332894 0.99341255\n",
      " 0.9934952  0.99357759 0.99365961 0.99374051 0.99382135 0.99390072\n",
      " 0.99397991 0.99405814 0.99413601 0.99421317 0.99428941 0.99436531\n",
      " 0.99443978 0.99451366 0.99458698 0.99465999 0.99473239 0.99480435\n",
      " 0.99487561 0.99494588 0.99501547 0.99508477 0.99515276 0.99522017\n",
      " 0.99528704 0.99535295 0.99541771 0.9954817  0.99554505 0.99560818\n",
      " 0.99566995 0.99573098 0.99579104 0.99585078 0.9959097  0.99596825\n",
      " 0.99602628 0.99608361 0.99614003 0.996196   0.9962514  0.99630588\n",
      " 0.99636024 0.99641449 0.99646742 0.9965202  0.99657247 0.9966241\n",
      " 0.99667525 0.9967259  0.99677565 0.99682503 0.99687401 0.99692228\n",
      " 0.99696977 0.9970167  0.99706304 0.9971093  0.99715454 0.99719914\n",
      " 0.99724256 0.99728497 0.99732703 0.99736898 0.9974102  0.99745141\n",
      " 0.99749225 0.99753274 0.99757293 0.99761143 0.99764964 0.99768763\n",
      " 0.99772533 0.99776254 0.99779943 0.99783586 0.99787114 0.99790623\n",
      " 0.99794118 0.99797567 0.99801002 0.99804427 0.99807724 0.99810988\n",
      " 0.99814192 0.9981737  0.99820509 0.9982359  0.99826576 0.99829545\n",
      " 0.99832467 0.99835366 0.99838258 0.9984109  0.9984386  0.99846609\n",
      " 0.99849326 0.99852001 0.99854566 0.99857088 0.99859584 0.99862051\n",
      " 0.99864497 0.99866931 0.99869345 0.99871743 0.99874088 0.99876424\n",
      " 0.99878734 0.99880978 0.99883194 0.99885349 0.99887488 0.9988961\n",
      " 0.99891695 0.99893763 0.99895791 0.99897781 0.99899756 0.99901705\n",
      " 0.99903634 0.99905537 0.99907416 0.99909254 0.99911058 0.99912854\n",
      " 0.99914581 0.99916293 0.99917913 0.99919524 0.99921106 0.99922682\n",
      " 0.99924222 0.99925759 0.99927283 0.99928769 0.99930236 0.99931678\n",
      " 0.99933093 0.99934485 0.99935849 0.99937201 0.99938544 0.99939873\n",
      " 0.9994116  0.99942416 0.99943642 0.99944866 0.99946081 0.99947275\n",
      " 0.99948434 0.99949583 0.99950726 0.99951858 0.99952979 0.99954077\n",
      " 0.99955159 0.99956213 0.99957255 0.99958282 0.99959284 0.99960219\n",
      " 0.99961139 0.99962054 0.99962964 0.99963858 0.99964724 0.99965569\n",
      " 0.99966375 0.99967161 0.99967944 0.99968722 0.99969499 0.9997026\n",
      " 0.99971012 0.99971754 0.99972483 0.99973202 0.99973916 0.99974617\n",
      " 0.99975292 0.99975965 0.99976598 0.99977223 0.9997784  0.99978423\n",
      " 0.99978989 0.9997954  0.99980089 0.99980626 0.99981158 0.99981678\n",
      " 0.99982168 0.99982653 0.99983136 0.99983615 0.9998407  0.9998452\n",
      " 0.99984966 0.99985411 0.99985848 0.99986262 0.99986673 0.99987068\n",
      " 0.99987456 0.9998784  0.99988221 0.9998856  0.99988892 0.99989212\n",
      " 0.99989529 0.99989844 0.99990155 0.99990463 0.99990768 0.99991064\n",
      " 0.99991354 0.99991643 0.99991918 0.9999217  0.9999242  0.99992658\n",
      " 0.99992889 0.99993105 0.9999332  0.99993531 0.99993741 0.99993944\n",
      " 0.99994146 0.99994343 0.99994535 0.99994717 0.99994896 0.9999507\n",
      " 0.99995244 0.99995412 0.99995576 0.99995737 0.99995897 0.99996052\n",
      " 0.99996202 0.99996332 0.99996462 0.99996591 0.99996718 0.99996839\n",
      " 0.99996954 0.99997063 0.99997171 0.99997279 0.99997385 0.99997489\n",
      " 0.99997591 0.9999769  0.99997784 0.99997876 0.9999796  0.99998044\n",
      " 0.99998126 0.99998207 0.99998287 0.9999836  0.9999843  0.99998496\n",
      " 0.99998561 0.99998623 0.99998684 0.99998745 0.99998805 0.99998862\n",
      " 0.99998917 0.99998972 0.99999024 0.99999075 0.99999123 0.99999168\n",
      " 0.99999213 0.99999254 0.99999293 0.99999331 0.99999368 0.99999405\n",
      " 0.99999439 0.99999468 0.99999496 0.99999524 0.99999551 0.99999578\n",
      " 0.99999604 0.9999963  0.99999654 0.99999675 0.99999696 0.99999715\n",
      " 0.99999733 0.99999751 0.99999769 0.99999785 0.999998   0.99999815\n",
      " 0.99999828 0.99999841 0.99999852 0.99999864 0.99999876 0.99999887\n",
      " 0.99999898 0.99999907 0.99999916 0.99999924 0.99999931 0.99999939\n",
      " 0.99999945 0.99999951 0.99999956 0.99999961 0.99999965 0.99999969\n",
      " 0.99999972 0.99999976 0.99999978 0.99999981 0.99999984 0.99999986\n",
      " 0.99999988 0.99999989 0.9999999  0.99999992 0.99999993 0.99999994\n",
      " 0.99999995 0.99999996 0.99999996 0.99999997 0.99999998 0.99999998\n",
      " 0.99999998 0.99999999 0.99999999 1.         1.         1.\n",
      " 1.         1.         1.         1.         1.         1.\n",
      " 1.         1.         1.         1.         1.         1.\n",
      " 1.         1.         1.         1.         1.         1.\n",
      " 1.         1.         1.         1.         1.         1.\n",
      " 1.         1.         1.         1.         1.         1.\n",
      " 1.         1.         1.         1.         1.         1.\n",
      " 1.         1.         1.         1.         1.         1.\n",
      " 1.         1.         1.         1.         1.         1.\n",
      " 1.         1.         1.         1.         1.         1.\n",
      " 1.         1.         1.         1.         1.         1.\n",
      " 1.         1.         1.         1.         1.         1.\n",
      " 1.         1.         1.         1.         1.         1.\n",
      " 1.         1.         1.         1.        ]\n",
      "784\n"
     ]
    }
   ],
   "source": [
    "cumsum = np.cumsum(pca.explained_variance_ratio_)\n",
    "print(pca.explained_variance_ratio_)\n",
    "print(cumsum)\n",
    "print(len(cumsum))"
   ]
  },
  {
   "cell_type": "code",
   "execution_count": 26,
   "id": "9c0b8dbf-1fbd-4449-b7d8-ea87af244e2c",
   "metadata": {},
   "outputs": [
    {
     "data": {
      "text/plain": [
       "154"
      ]
     },
     "execution_count": 26,
     "metadata": {},
     "output_type": "execute_result"
    }
   ],
   "source": [
    "d = np.argmax(cumsum >= 0.95) + 1 # Here np.argmax gives the index corresponding to the first occurrence of the value\n",
    "d"
   ]
  },
  {
   "cell_type": "code",
   "execution_count": null,
   "id": "61ca29dc-a32c-4dab-800e-fe583b6733e6",
   "metadata": {},
   "outputs": [],
   "source": []
  },
  {
   "cell_type": "markdown",
   "id": "f9f317d2-dda4-4b09-ba3b-5e4f60b4f907",
   "metadata": {},
   "source": [
    "But there is a much better\n",
    " option: instead of specifying the number of principal components you want to pre\n",
    "serve, you can set n_components to be a float between 0.0 and 1.0, indicating the ratio\n",
    " of variance you wish to preserve:"
   ]
  },
  {
   "cell_type": "code",
   "execution_count": 27,
   "id": "db01b50b-cc13-4d9a-95fa-03aeb063aa4f",
   "metadata": {},
   "outputs": [],
   "source": [
    "pca = PCA(n_components=0.95)"
   ]
  },
  {
   "cell_type": "code",
   "execution_count": 28,
   "id": "6bd2e458-899f-4a3c-a23a-21eb71f9c74d",
   "metadata": {},
   "outputs": [
    {
     "data": {
      "text/plain": [
       "array([[ 122.25525533, -316.23384391,  -51.13183087, ...,   34.71703473,\n",
       "         -14.22575676,   21.38272145],\n",
       "       [1010.49400346, -289.96362059,  576.1207452 , ...,   23.87884359,\n",
       "          -6.54283564,  -24.90277545],\n",
       "       [ -58.99594719,  393.69744499, -161.99818411, ...,   -5.36282742,\n",
       "          55.00020853,  -96.73397123],\n",
       "       ...,\n",
       "       [-271.50701323,  590.07850009,  341.36886918, ...,  -43.7571469 ,\n",
       "          35.78216024,   49.96612771],\n",
       "       [-310.22482291, -116.72715081,  635.71999693, ...,  -21.86345345,\n",
       "          20.40152778,  -42.68277473],\n",
       "       [1058.86212574,  -83.39253843,  731.34218396, ...,   41.22834049,\n",
       "         -20.05206663,  -49.92361814]])"
      ]
     },
     "execution_count": 28,
     "metadata": {},
     "output_type": "execute_result"
    }
   ],
   "source": [
    "X_reduced = pca.fit_transform(X)\n",
    "X_reduced"
   ]
  },
  {
   "cell_type": "code",
   "execution_count": null,
   "id": "245d6b62-33ef-40ce-8285-27d648eda0d6",
   "metadata": {},
   "outputs": [],
   "source": []
  },
  {
   "cell_type": "code",
   "execution_count": 29,
   "id": "dd5c3ea9-897c-4b1a-9968-5b0fe1add33e",
   "metadata": {},
   "outputs": [
    {
     "data": {
      "text/plain": [
       "(70000, 154)"
      ]
     },
     "execution_count": 29,
     "metadata": {},
     "output_type": "execute_result"
    }
   ],
   "source": [
    "X_reduced.shape"
   ]
  },
  {
   "cell_type": "markdown",
   "id": "b134511e-33c2-4a86-9dd1-f0976ed812fb",
   "metadata": {},
   "source": [
    "#### Note\n",
    "Yet another option is to plot the explained variance as a function of the number of  dimensions (simply plot cumsum). There will usually be an elbow in the  curve, where the explained variance stops growing fast.;"
   ]
  },
  {
   "cell_type": "code",
   "execution_count": 30,
   "id": "4aa15147-ff3f-4d11-b17d-2a85c0b48446",
   "metadata": {},
   "outputs": [
    {
     "data": {
      "image/png": "[encoded data removed]",
      "text/plain": [
       "<Figure size 600x400 with 1 Axes>"
      ]
     },
     "metadata": {},
     "output_type": "display_data"
    }
   ],
   "source": [
    "plt.figure(figsize=(6,4))\n",
    "plt.plot(cumsum, linewidth=3)\n",
    "plt.axis([0, 400, 0, 1])\n",
    "plt.xlabel(\"Dimensions\")\n",
    "plt.ylabel(\"Explained Variance\")\n",
    "plt.plot([d, d], [0, 0.95], \"k:\")\n",
    "plt.plot([0, d], [0.95, 0.95], \"k:\")\n",
    "plt.plot([d, 0], [0.95, 0.95], \"k:\")\n",
    "plt.plot(d, 0.95, \"ko\")\n",
    "plt.annotate(\"Elbow\", xy=(65, 0.85), xytext=(70, 0.7),\n",
    "             arrowprops=dict(arrowstyle=\"->\"), fontsize=16)\n",
    "plt.grid(True)\n",
    "\n",
    "plt.show()\n",
    "\n",
    "# Explanation of the plot code, \n",
    "# The line plt.plot([d, d], [0, 0.95], \"k:\"), here, the x coordinate is entire [d,d] and y coordinate is [0,0.95]. d here is 154, so the code works as follows\n",
    "# first point is 154 on x with 0 on y axis and then second point is 154 on x with 0.95 on y axis and you join these two points using black dotted lines.\n",
    "# The second plot is plt.plot([0,d],[0.95,0.95]), here, first point is 0 on x with 0.95 on y axis and then second point is 154 on x with 0.95 on y axis and you join these two points using black dotted lines."
   ]
  },
  {
   "cell_type": "code",
   "execution_count": null,
   "id": "e650c2cf-54d9-43ce-8fb2-9d835e4b9004",
   "metadata": {},
   "outputs": [],
   "source": []
  },
  {
   "cell_type": "markdown",
   "id": "0ca17977-e049-4f1b-8bc8-849a70501a9e",
   "metadata": {},
   "source": [
    "## PCA for Compression"
   ]
  },
  {
   "cell_type": "markdown",
   "id": "115548cf-baf0-45d7-9a21-bf56fb933198",
   "metadata": {},
   "source": [
    "After applying PCA to the MNIST dataset while preserving 95% of its var\r\n",
    "iance. You should find that each instance will have just over 150 features, instead of\r\n",
    " the original 784 features. So, while most of the variance is preserved, the dataset is\r\n",
    " now less than 20% of its original size! This is a reasonable compression ratio, and you\r\n",
    " can see how this size reduction can speed up a classification algorithm (such as an\r\n",
    " SVM classifier) tremendously."
   ]
  },
  {
   "cell_type": "markdown",
   "id": "32f2d757-cf02-4609-8316-9fab7ecc1766",
   "metadata": {},
   "source": [
    "It is also possible to decompress the reduced dataset back to 784 dimensions by\r\n",
    " applying the inverse transformation of the PCA projection. This won’t give you back\r\n",
    " the original data, since the projection lost a bit of information (within the 5% var\r\n",
    "iance that was dropped), but it will likely be close to the original data. The mean\r\n",
    " squared distance between the original data and the reconstructed data (compressed\r\n",
    " and then decompressed) is called the reconstruction error."
   ]
  },
  {
   "cell_type": "markdown",
   "id": "92b6837e-9db6-4b84-8bc3-6fe24f93f582",
   "metadata": {},
   "source": [
    " The following code compresses the MNIST dataset down to 154 dimensions, then\r\n",
    " uses the inverse_transform() method to decompress it back to 784 dimensions:"
   ]
  },
  {
   "cell_type": "code",
   "execution_count": 31,
   "id": "f2ec465a-c9fb-40dc-8a11-9042b69b4f21",
   "metadata": {},
   "outputs": [
    {
     "data": {
      "text/plain": [
       "array([[1540.00356811,   31.93937218, -429.97321065, ...,  -84.65004104,\n",
       "           6.74294682,   20.47482278],\n",
       "       [-147.85255021,  195.96359846,  -88.79927091, ...,   15.71573594,\n",
       "         -63.52459544,    7.75944697],\n",
       "       [ 197.87826738,   73.97047035,  331.97279157, ...,  -23.3617457 ,\n",
       "          36.31976347,   23.69626902],\n",
       "       ...,\n",
       "       [-388.19280532,  758.17127529,  286.00242737, ...,  -13.22716805,\n",
       "         -17.03272723,  -47.12905142],\n",
       "       [-392.25807025, -279.30961495,  -76.99133604, ...,   23.26272928,\n",
       "          88.79718425,   40.25487363],\n",
       "       [-184.53517546,  499.90421879, -543.43716389, ...,   64.58401628,\n",
       "         -31.17769535,   52.65581497]])"
      ]
     },
     "execution_count": 31,
     "metadata": {},
     "output_type": "execute_result"
    }
   ],
   "source": [
    "pca = PCA(n_components=0.95,svd_solver='full')\n",
    "X_reduced = pca.fit_transform(X_train)\n",
    "X_reduced"
   ]
  },
  {
   "cell_type": "code",
   "execution_count": 32,
   "id": "60dc6fa9-72a3-4a92-acc0-c814fddfa32a",
   "metadata": {},
   "outputs": [
    {
     "data": {
      "text/plain": [
       "(52500, 784)"
      ]
     },
     "execution_count": 32,
     "metadata": {},
     "output_type": "execute_result"
    }
   ],
   "source": [
    "X_recovered = pca.inverse_transform(X_reduced)\n",
    "X_recovered.shape"
   ]
  },
  {
   "cell_type": "markdown",
   "id": "1c28eaf5-3f87-4c7a-b607-cb8befdf3490",
   "metadata": {},
   "source": [
    "Below figure shows a few digits from the original training set (on the left), and the cor\r\n",
    "responding digits after compression and decompression. You can see that there is a\r\n",
    " slight image quality loss, but the digits are still mostly intact."
   ]
  },
  {
   "cell_type": "code",
   "execution_count": 33,
   "id": "977efe82-a231-4d0d-aef5-b396966494aa",
   "metadata": {},
   "outputs": [
    {
     "data": {
      "text/plain": [
       "Text(0.5, 1.0, 'Compressed')"
      ]
     },
     "execution_count": 33,
     "metadata": {},
     "output_type": "execute_result"
    },
    {
     "data": {
      "image/png": "[encoded data removed]",
      "text/plain": [
       "<Figure size 700x400 with 2 Axes>"
      ]
     },
     "metadata": {},
     "output_type": "display_data"
    }
   ],
   "source": [
    "plt.figure(figsize=(7, 4))\n",
    "plt.subplot(121)\n",
    "plot_digits(X_train[::2100])\n",
    "plt.title(\"Original\", fontsize=16)\n",
    "plt.subplot(122)\n",
    "plot_digits(X_recovered[::2100])\n",
    "plt.title(\"Compressed\", fontsize=16)"
   ]
  },
  {
   "cell_type": "code",
   "execution_count": null,
   "id": "ead24fc2-9e7d-4cbb-89eb-823ac7069a67",
   "metadata": {},
   "outputs": [],
   "source": []
  },
  {
   "cell_type": "code",
   "execution_count": null,
   "id": "21d32f0d-0ee7-4ec0-a1b9-fc30b73e2a2b",
   "metadata": {},
   "outputs": [],
   "source": []
  },
  {
   "cell_type": "markdown",
   "id": "8cf4359c-9993-4951-8293-fc0834f5a155",
   "metadata": {},
   "source": [
    "# Incremental PCA (IMPORTANT)"
   ]
  },
  {
   "cell_type": "markdown",
   "id": "0ec71a23-6a78-4795-80b2-c47f43c132a4",
   "metadata": {},
   "source": [
    "One problem with the preceding implementations of PCA is that they require the\r\n",
    " whole training set to fit in memory in order for the algorithm to run. Fortunately,\r\n",
    " Incremental PCA (IPCA) algorithms have been developed. They allow you to split the\r\n",
    " training set into mini-batches and feed an IPCA algorithm one mini-batch at a time."
   ]
  },
  {
   "cell_type": "markdown",
   "id": "0f213dc9-8ebb-4f18-93c8-b6733cb42701",
   "metadata": {},
   "source": [
    "This is useful for large training sets and for applying PCA online (i.e., on the fly, as\r\n",
    " new instances arrive)."
   ]
  },
  {
   "cell_type": "markdown",
   "id": "4d249cf5-8def-46a3-8237-3ff39465d101",
   "metadata": {},
   "source": [
    "### Important\n",
    "The following code splits the MNIST dataset into 100 mini-batches (using NumPy’s\r\n",
    " array_split() function) and feeds them to Scikit-Learn’s IncrementalPCA class5 to\r\n",
    " reduce the dimensionality of the MNIST dataset down to 154 dimensions (just like\r\n",
    " before). Note that you must call the partial_fit() method with each mini-batch,\r\n",
    " rather than the fit() method with the whole training set:"
   ]
  },
  {
   "cell_type": "code",
   "execution_count": 34,
   "id": "4daf5b0c-df36-4c7f-a1cd-089a1cb1993f",
   "metadata": {},
   "outputs": [],
   "source": [
    "from sklearn.decomposition import IncrementalPCA"
   ]
  },
  {
   "cell_type": "code",
   "execution_count": 35,
   "id": "accb6018-675b-4939-a8f9-7233adc3fe3d",
   "metadata": {},
   "outputs": [],
   "source": [
    "n_batches = 100\n",
    "inc_pca = IncrementalPCA(n_components=154)\n",
    "for X_batch in np.array_split(X_train, n_batches):\n",
    "    inc_pca.partial_fit(X_batch)"
   ]
  },
  {
   "cell_type": "code",
   "execution_count": 36,
   "id": "1d4bbfc0-cf50-46ac-b09b-0e48857e0b02",
   "metadata": {},
   "outputs": [],
   "source": [
    "X_reduced = inc_pca.transform(X_train)"
   ]
  },
  {
   "cell_type": "code",
   "execution_count": null,
   "id": "48483d77-7ccc-437d-9159-3b6e42bfb552",
   "metadata": {},
   "outputs": [],
   "source": []
  },
  {
   "cell_type": "markdown",
   "id": "fde0235f-8dcf-4eb2-8e15-1983f52f18cd",
   "metadata": {},
   "source": [
    "### Important\n",
    "\n",
    "Alternatively, you can use NumPy’s memmap class, which allows you to manipulate a\r\n",
    " large array stored in a binary file on disk as if it were entirely in memory; the class\r\n",
    " loads only the data it needs in memory, when it needs it. Since the IncrementalPCA\r\n",
    " class uses only a small part of the array at any given time, the memory usage remains\r\n",
    " under control. This makes it possible to call the usual fit() method, as you can see\r\n",
    " in the following code:"
   ]
  },
  {
   "cell_type": "code",
   "execution_count": 37,
   "id": "cfeb1cf2-981f-478d-a511-1c1287816221",
   "metadata": {},
   "outputs": [],
   "source": [
    "# X_mm = np.memmap(filename, dtype=\"float32\", mode=\"readonly\", shape=(m, n))\n",
    "# batch_size = m // n_batches\n",
    "# inc_pca = IncrementalPCA(n_components=154, batch_size=batch_size)\n",
    "# inc_pca.fit(X_mm)"
   ]
  },
  {
   "cell_type": "code",
   "execution_count": null,
   "id": "0075ae43-623e-4da2-a811-af8e79e53640",
   "metadata": {},
   "outputs": [],
   "source": []
  },
  {
   "cell_type": "markdown",
   "id": "b03301db-521e-4456-91a8-55fade5c5f26",
   "metadata": {},
   "source": [
    "## Kernerl PCA"
   ]
  },
  {
   "cell_type": "markdown",
   "id": "5127d2b0-0e85-4103-92d7-6a067d2e7241",
   "metadata": {},
   "source": [
    " In Chapter 5 we discussed the kernel trick(Fortunately, when using SVMs you can apply an almost miraculous mathematical\n",
    " technique called the kernel trick. The kernel trick makes it\n",
    " possible to get the same result as if you had added many polynomial features, even\n",
    " with very high-degree polynomials, without actually having to add them. So there is\n",
    " no combinatorial explosion of the number of features because you don’t actually add\n",
    " any features.), a mathematical technique that implicitly\r\n",
    " maps instances into a very high-dimensional space (called the feature space), enabling\r\n",
    " nonlinear classification and regression with Support Vector Machines."
   ]
  },
  {
   "cell_type": "markdown",
   "id": "521a9317-643a-46dd-aeec-cb1d8be5ddad",
   "metadata": {},
   "source": [
    "It turns out that the same trick can be applied to PCA, making it possible to perform  complex nonlinear projections for dimensionality reduction THIS IS CALLED KERNERL PCA. It is often good at preserving clusters of instances after projection, or\r\n",
    " sometimes even unrolling datasets that lie close to a twisted manifold.."
   ]
  },
  {
   "cell_type": "code",
   "execution_count": null,
   "id": "7765e5ab-e76c-48d2-b484-5592e1422227",
   "metadata": {},
   "outputs": [],
   "source": []
  },
  {
   "cell_type": "code",
   "execution_count": 38,
   "id": "64b7f88b-cb41-4b8d-bfa9-1cb028338572",
   "metadata": {},
   "outputs": [],
   "source": [
    "from sklearn.decomposition import KernelPCA"
   ]
  },
  {
   "cell_type": "code",
   "execution_count": 39,
   "id": "11fc4613-66d8-45f9-a116-7dae48251353",
   "metadata": {},
   "outputs": [],
   "source": [
    "rbf_pca = KernelPCA(n_components = 2, kernel=\"rbf\", gamma=0.04)\n",
    "X_reduced = rbf_pca.fit_transform(X_test)"
   ]
  },
  {
   "cell_type": "code",
   "execution_count": null,
   "id": "8137417d-f2bb-4c1d-97a5-7b3e454d689a",
   "metadata": {},
   "outputs": [],
   "source": []
  },
  {
   "cell_type": "markdown",
   "id": "9dc6ad93-e12b-410c-95d6-f4ae0780bb84",
   "metadata": {},
   "source": [
    "### Selecting a Kernel and Tuning Hyperparameters"
   ]
  },
  {
   "cell_type": "markdown",
   "id": "8bd228ba-cca9-4c81-a746-0c87f88d9ef9",
   "metadata": {},
   "source": [
    "As kPCA is an unsupervised learning algorithm, there is no obvious performance\r\n",
    " measure to help you select the best kernel and hyperparameter values. That said,\r\n",
    " dimensionality reduction is often a preparation step for a supervised learning task\r\n",
    " (e.g., classification), so you can use grid search to select the kernel and hyperparame\r\n",
    "ters that lead to the best performance on that task. The following code creates a two\r\n",
    "step pipeline, first reducing dimensionality to two dimensions using kPCA, then\r\n",
    " applying Logistic Regression for classification. Then it uses GridSearchCV to find the\r\n",
    " best kernel and gamma value for kPCA in order to get the best classification accuracy\r\n",
    " at the end of the pipeline:"
   ]
  },
  {
   "cell_type": "code",
   "execution_count": 40,
   "id": "cc4eae17-b42c-4628-a8d2-8d9c0bfbf9e3",
   "metadata": {},
   "outputs": [],
   "source": [
    "from sklearn.model_selection import GridSearchCV\n",
    "from sklearn.linear_model import LogisticRegression\n",
    "from sklearn.pipeline import Pipeline"
   ]
  },
  {
   "cell_type": "code",
   "execution_count": 41,
   "id": "b39566bc-ab79-4b99-9525-1a35e9ab8ba2",
   "metadata": {},
   "outputs": [],
   "source": [
    "clf = Pipeline([\n",
    " (\"kpca\", KernelPCA(n_components=2)),\n",
    " (\"log_reg\", LogisticRegression())\n",
    " ])"
   ]
  },
  {
   "cell_type": "code",
   "execution_count": 44,
   "id": "8bea0969-9ba4-4d65-8bff-36d332c2829b",
   "metadata": {},
   "outputs": [],
   "source": [
    "param_grid = [{\n",
    " \"kpca__gamma\": np.linspace(0.03, 0.05, 10),\n",
    " \"kpca__kernel\": [\"rbf\", \"sigmoid\"]\n",
    " }]"
   ]
  },
  {
   "cell_type": "code",
   "execution_count": 46,
   "id": "3995d155-7057-4d10-bf49-36b651b37e70",
   "metadata": {},
   "outputs": [],
   "source": [
    "# grid_search = GridSearchCV(clf, param_grid, cv=3)\n",
    "# grid_search.fit(X_test, y_test)"
   ]
  },
  {
   "cell_type": "markdown",
   "id": "7b658f0a-5591-4905-900e-3e02c193d9fd",
   "metadata": {},
   "source": [
    "The best kernel and hyperparameters are then available through the best_params_\r\n",
    " variable:"
   ]
  },
  {
   "cell_type": "code",
   "execution_count": 47,
   "id": "493df0e1-5d04-4749-874f-0c78ae93d38c",
   "metadata": {},
   "outputs": [],
   "source": [
    "# grid_search.best_params_"
   ]
  },
  {
   "cell_type": "code",
   "execution_count": null,
   "id": "4a6596ae-1c98-4a27-8d7d-23528788dc05",
   "metadata": {},
   "outputs": [],
   "source": []
  },
  {
   "cell_type": "markdown",
   "id": "18ee514b-3f75-4704-89e4-218f949cb5aa",
   "metadata": {},
   "source": [
    "##  LLE(Locally Linear Embedding)"
   ]
  },
  {
   "cell_type": "markdown",
   "id": "f06730e3-6495-4243-984c-f9488dff88de",
   "metadata": {},
   "source": [
    "It is a Manifold Learning technique that does not rely on\r\n",
    " projections, like the previous algorithms do. In a nutshell, LLE works by first measur\r\n",
    "ing how each training instance linearly relates to its closest neighbors (c.n.), and then\r\n",
    " looking for a low-dimensional representation of the training set where these local\r\n",
    " relationships are best preserved (more details shortly). This approach makes it partic\r\n",
    "ularly good at unrolling twisted manifolds, especially when there is not too much\r\n",
    " noise."
   ]
  },
  {
   "cell_type": "markdown",
   "id": "3f7db134-395f-42d9-8b6e-bb3a59a7638e",
   "metadata": {},
   "source": [
    " The following code uses Scikit-Learn’s LocallyLinearEmbedding class to unroll the\r\n",
    " Swiss roll:"
   ]
  },
  {
   "cell_type": "code",
   "execution_count": 53,
   "id": "31a6f5c0-0cae-41d9-b566-bca96318b188",
   "metadata": {},
   "outputs": [],
   "source": [
    "from sklearn.datasets import make_swiss_roll\n",
    "\n",
    "X, t = make_swiss_roll(n_samples=1000, noise=0.2, random_state=42)"
   ]
  },
  {
   "cell_type": "markdown",
   "id": "91fd7f55-12e4-431b-9d49-e9c14a036f21",
   "metadata": {},
   "source": [
    "The Swiss role dataset plot"
   ]
  },
  {
   "cell_type": "code",
   "execution_count": 58,
   "id": "7a420662-8554-4083-8894-ca2abc68d1d6",
   "metadata": {},
   "outputs": [
    {
     "data": {
      "image/png": "[encoded data removed]",
      "text/plain": [
       "<Figure size 600x500 with 1 Axes>"
      ]
     },
     "metadata": {},
     "output_type": "display_data"
    }
   ],
   "source": [
    "axes = [-11.5, 14, -2, 23, -12, 15]\n",
    "\n",
    "fig = plt.figure(figsize=(6, 5))\n",
    "ax = fig.add_subplot(111, projection='3d')\n",
    "ax.scatter(X[:, 0], X[:, 1], X[:, 2], c=t, cmap=plt.cm.hot)\n",
    "plt.title(\"Original swiss roll dataset\", fontsize=14)\n",
    "ax.view_init(10, -70)\n",
    "ax.set_xlabel(\"$x_1$\", fontsize=18)\n",
    "ax.set_ylabel(\"$x_2$\", fontsize=18)\n",
    "ax.set_zlabel(\"$x_3$\", fontsize=18)\n",
    "ax.set_xlim(axes[0:2])\n",
    "ax.set_ylim(axes[2:4])\n",
    "ax.set_zlim(axes[4:6])\n",
    "\n",
    "\n",
    "plt.show()"
   ]
  },
  {
   "cell_type": "code",
   "execution_count": 50,
   "id": "ccf32dcc-a595-4771-a224-e4a7fd10b2a9",
   "metadata": {},
   "outputs": [],
   "source": [
    "from sklearn.manifold import LocallyLinearEmbedding"
   ]
  },
  {
   "cell_type": "code",
   "execution_count": 51,
   "id": "d83e6e35-38c0-4d75-9873-0d1037b60243",
   "metadata": {},
   "outputs": [],
   "source": [
    "lle = LocallyLinearEmbedding(n_components=2, n_neighbors=10)\n",
    "X_reduced = lle.fit_transform(X)"
   ]
  },
  {
   "cell_type": "markdown",
   "id": "ce59acfe-40cc-4809-9263-93baae2688b0",
   "metadata": {},
   "source": [
    "The resulting 2D dataset is shown in figure below. As you can see, the Swiss roll is\r\n",
    " completely unrolled, and the distances between instances are locally well preserved.\r\n",
    " However, distances are not preserved on a larger scale: the left part of the unrolled\r\n",
    " Swiss roll is stretched, while the right part is squeezed. Nevertheless, LLE did a pretty\r\n",
    " good job at modeling the manifold."
   ]
  },
  {
   "cell_type": "code",
   "execution_count": 52,
   "id": "652abc3f-5116-4289-a95a-e31fe50f5f85",
   "metadata": {},
   "outputs": [
    {
     "data": {
      "image/png": "[encoded data removed]",
      "text/plain": [
       "<Figure size 640x480 with 1 Axes>"
      ]
     },
     "metadata": {},
     "output_type": "display_data"
    }
   ],
   "source": [
    "plt.title(\"Unrolled swiss roll using LLE\", fontsize=14)\n",
    "plt.scatter(X_reduced[:, 0], X_reduced[:, 1], c=t, cmap=plt.cm.hot)\n",
    "plt.xlabel(\"$z_1$\", fontsize=18)\n",
    "plt.ylabel(\"$z_2$\", fontsize=18)\n",
    "plt.axis([-0.065, 0.055, -0.1, 0.12])\n",
    "plt.grid(True)\n",
    "\n",
    "\n",
    "plt.show()"
   ]
  },
  {
   "cell_type": "code",
   "execution_count": null,
   "id": "a0120f3b-4e97-4603-bcb9-43c651313eca",
   "metadata": {},
   "outputs": [],
   "source": []
  },
  {
   "cell_type": "code",
   "execution_count": null,
   "id": "f578a7a3-5305-4e57-8be3-01a290a7c4cd",
   "metadata": {},
   "outputs": [],
   "source": []
  },
  {
   "cell_type": "code",
   "execution_count": null,
   "id": "001d7985-a36f-4f59-9a66-5cd0fbebc451",
   "metadata": {},
   "outputs": [],
   "source": []
  },
  {
   "cell_type": "code",
   "execution_count": null,
   "id": "b83714cd-6874-4956-b6b4-962e14b9cb95",
   "metadata": {},
   "outputs": [],
   "source": []
  },
  {
   "cell_type": "code",
   "execution_count": null,
   "id": "454e9858-d8af-44a5-b933-5421a445e4fc",
   "metadata": {},
   "outputs": [],
   "source": []
  },
  {
   "cell_type": "code",
   "execution_count": null,
   "id": "25ad5998-2e36-42a2-9e5b-46bb61d421ab",
   "metadata": {},
   "outputs": [],
   "source": []
  },
  {
   "cell_type": "code",
   "execution_count": null,
   "id": "1d83b20d-e1d8-44f0-aef7-288805afa5fd",
   "metadata": {},
   "outputs": [],
   "source": []
  },
  {
   "cell_type": "code",
   "execution_count": null,
   "id": "60ceb66d-3b91-49a1-b213-2d8538900062",
   "metadata": {},
   "outputs": [],
   "source": []
  },
  {
   "cell_type": "code",
   "execution_count": null,
   "id": "573a3c97-00a7-4962-b90f-811d09b02017",
   "metadata": {},
   "outputs": [],
   "source": []
  },
  {
   "cell_type": "code",
   "execution_count": null,
   "id": "7730bccb-d9f3-4fba-b3b5-84f4356a25b3",
   "metadata": {},
   "outputs": [],
   "source": []
  },
  {
   "cell_type": "code",
   "execution_count": null,
   "id": "b1c402d1-71e1-4eca-bcaa-66804e8b5a30",
   "metadata": {},
   "outputs": [],
   "source": []
  },
  {
   "cell_type": "code",
   "execution_count": null,
   "id": "e72773f3-9e30-4e11-8552-8d2c3a56cc12",
   "metadata": {},
   "outputs": [],
   "source": []
  },
  {
   "cell_type": "code",
   "execution_count": null,
   "id": "c9f6e088-eab3-4998-865c-76c91e445da4",
   "metadata": {},
   "outputs": [],
   "source": []
  },
  {
   "cell_type": "code",
   "execution_count": null,
   "id": "95250f35-0875-4fe6-bb50-009f22170fc8",
   "metadata": {},
   "outputs": [],
   "source": []
  },
  {
   "cell_type": "code",
   "execution_count": null,
   "id": "f5a52977-f0c0-451b-9ef0-7390d5702962",
   "metadata": {},
   "outputs": [],
   "source": []
  },
  {
   "cell_type": "code",
   "execution_count": null,
   "id": "f47bf78a-be98-46c7-ae3b-a1ecc87f10cd",
   "metadata": {},
   "outputs": [],
   "source": []
  },
  {
   "cell_type": "code",
   "execution_count": null,
   "id": "8023f928-9c71-4c75-8ecd-617bdad69fbb",
   "metadata": {},
   "outputs": [],
   "source": []
  },
  {
   "cell_type": "code",
   "execution_count": null,
   "id": "17865dcc-edb7-4fe7-b7f8-70841aa873a7",
   "metadata": {},
   "outputs": [],
   "source": []
  },
  {
   "cell_type": "code",
   "execution_count": null,
   "id": "86857cdd-9508-4dd5-8cc0-a78e83ec45fc",
   "metadata": {},
   "outputs": [],
   "source": []
  },
  {
   "cell_type": "code",
   "execution_count": null,
   "id": "21570173-eba0-4a23-9ba1-07e16acd7569",
   "metadata": {},
   "outputs": [],
   "source": []
  },
  {
   "cell_type": "code",
   "execution_count": null,
   "id": "6d43f1e8-c926-4f86-84a4-a670f6ceea4b",
   "metadata": {},
   "outputs": [],
   "source": []
  },
  {
   "cell_type": "code",
   "execution_count": null,
   "id": "26310178-aad8-4c3a-b444-9b742d8c1a87",
   "metadata": {},
   "outputs": [],
   "source": []
  },
  {
   "cell_type": "code",
   "execution_count": null,
   "id": "af9683b1-3b3f-499a-9748-8d96deec0b1a",
   "metadata": {},
   "outputs": [],
   "source": []
  },
  {
   "cell_type": "code",
   "execution_count": null,
   "id": "dab6a11a-42e7-4354-9682-93cce33dbb5b",
   "metadata": {},
   "outputs": [],
   "source": []
  },
  {
   "cell_type": "code",
   "execution_count": null,
   "id": "a30bdaeb-a84a-4193-ae1f-d3e436d450c9",
   "metadata": {},
   "outputs": [],
   "source": []
  },
  {
   "cell_type": "code",
   "execution_count": null,
   "id": "1d81354f-120a-431b-be67-c6b6bc0741ce",
   "metadata": {},
   "outputs": [],
   "source": []
  },
  {
   "cell_type": "code",
   "execution_count": null,
   "id": "1b979f6a-451a-4865-bef2-2cea4272799c",
   "metadata": {},
   "outputs": [],
   "source": []
  },
  {
   "cell_type": "code",
   "execution_count": null,
   "id": "baa36db0-ee3c-41a7-8d7f-86f52260e9c5",
   "metadata": {},
   "outputs": [],
   "source": []
  },
  {
   "cell_type": "code",
   "execution_count": null,
   "id": "39549642-3ec2-48ff-b76e-e7157c815c6f",
   "metadata": {},
   "outputs": [],
   "source": []
  },
  {
   "cell_type": "code",
   "execution_count": null,
   "id": "fae21b07-14e8-4aaa-a492-de6174e129eb",
   "metadata": {},
   "outputs": [],
   "source": []
  },
  {
   "cell_type": "code",
   "execution_count": null,
   "id": "e5440d93-c27a-40a9-b3d8-bc2f72b716a9",
   "metadata": {},
   "outputs": [],
   "source": []
  },
  {
   "cell_type": "code",
   "execution_count": null,
   "id": "db1735fc-8760-4141-a0b2-fc06ddf0d1a8",
   "metadata": {},
   "outputs": [],
   "source": []
  },
  {
   "cell_type": "code",
   "execution_count": null,
   "id": "3ec2dc02-2d51-477e-b122-d90186102c45",
   "metadata": {},
   "outputs": [],
   "source": []
  },
  {
   "cell_type": "code",
   "execution_count": null,
   "id": "f964d450-0931-4a27-861d-394a43a17517",
   "metadata": {},
   "outputs": [],
   "source": []
  },
  {
   "cell_type": "code",
   "execution_count": null,
   "id": "241ae353-97e2-4d99-b76f-bac43055d75a",
   "metadata": {},
   "outputs": [],
   "source": []
  },
  {
   "cell_type": "code",
   "execution_count": null,
   "id": "59fb8938-d21f-43a6-b8f1-fc0a94cc1ad8",
   "metadata": {},
   "outputs": [],
   "source": []
  },
  {
   "cell_type": "code",
   "execution_count": null,
   "id": "ee33a953-b4c3-44be-a83c-1f8e1305e281",
   "metadata": {},
   "outputs": [],
   "source": []
  },
  {
   "cell_type": "code",
   "execution_count": null,
   "id": "005b023f-edea-425a-8e26-d20340d25387",
   "metadata": {},
   "outputs": [],
   "source": []
  },
  {
   "cell_type": "code",
   "execution_count": null,
   "id": "d6fef150-96dd-4e28-af97-eea9e0800a06",
   "metadata": {},
   "outputs": [],
   "source": []
  },
  {
   "cell_type": "code",
   "execution_count": null,
   "id": "66d07023-b550-4f60-b556-bbc874c4ee50",
   "metadata": {},
   "outputs": [],
   "source": []
  },
  {
   "cell_type": "code",
   "execution_count": null,
   "id": "3ab4ed06-7851-4b01-9acd-d7a1fb157271",
   "metadata": {},
   "outputs": [],
   "source": []
  },
  {
   "cell_type": "code",
   "execution_count": null,
   "id": "96f3ab4c-f3b6-42ed-ac91-ce88df7ebde9",
   "metadata": {},
   "outputs": [],
   "source": []
  },
  {
   "cell_type": "code",
   "execution_count": null,
   "id": "9023ac02-e63b-47bb-8edc-c54b5fa8b903",
   "metadata": {},
   "outputs": [],
   "source": []
  },
  {
   "cell_type": "code",
   "execution_count": null,
   "id": "ee7f8c67-88d2-44ca-b1e2-4a2c39541aa8",
   "metadata": {},
   "outputs": [],
   "source": []
  },
  {
   "cell_type": "code",
   "execution_count": null,
   "id": "e0ec81cc-db9e-4356-b577-7245bb1c3cdd",
   "metadata": {},
   "outputs": [],
   "source": []
  },
  {
   "cell_type": "code",
   "execution_count": null,
   "id": "51a10b00-c892-4715-a555-123a85209e83",
   "metadata": {},
   "outputs": [],
   "source": []
  },
  {
   "cell_type": "code",
   "execution_count": null,
   "id": "cd801161-55c3-44d3-b355-46df1d4b5610",
   "metadata": {},
   "outputs": [],
   "source": []
  },
  {
   "cell_type": "code",
   "execution_count": null,
   "id": "90fec59b-d38c-4e38-8a39-f7c47f963e93",
   "metadata": {},
   "outputs": [],
   "source": []
  },
  {
   "cell_type": "code",
   "execution_count": null,
   "id": "0cf65008-86e8-40d7-817f-b5b0562a19cb",
   "metadata": {},
   "outputs": [],
   "source": []
  },
  {
   "cell_type": "code",
   "execution_count": null,
   "id": "0aba216c-e2fa-4b49-81fc-787af88ca742",
   "metadata": {},
   "outputs": [],
   "source": []
  },
  {
   "cell_type": "code",
   "execution_count": null,
   "id": "bc9dd444-8c3f-4aeb-bc30-8269ed2ea0f8",
   "metadata": {},
   "outputs": [],
   "source": []
  },
  {
   "cell_type": "code",
   "execution_count": null,
   "id": "1823b675-6ede-4ae9-99a3-7d86d2a1d683",
   "metadata": {},
   "outputs": [],
   "source": []
  },
  {
   "cell_type": "code",
   "execution_count": null,
   "id": "257f2a30-cf05-474c-8a08-b1b32d3156f6",
   "metadata": {},
   "outputs": [],
   "source": []
  },
  {
   "cell_type": "code",
   "execution_count": null,
   "id": "555b620b-f839-4963-861a-122b696b0f13",
   "metadata": {},
   "outputs": [],
   "source": []
  },
  {
   "cell_type": "code",
   "execution_count": null,
   "id": "d6c391d5-bda4-4779-bab5-ef274fd0a893",
   "metadata": {},
   "outputs": [],
   "source": []
  },
  {
   "cell_type": "code",
   "execution_count": null,
   "id": "993b77b8-58fb-4458-8aa0-65d11fcac4de",
   "metadata": {},
   "outputs": [],
   "source": []
  },
  {
   "cell_type": "code",
   "execution_count": null,
   "id": "e6287054-856d-4018-a44e-b63b540b7ff5",
   "metadata": {},
   "outputs": [],
   "source": []
  },
  {
   "cell_type": "code",
   "execution_count": null,
   "id": "90d75249-9f50-40f0-a855-d484f7b4141c",
   "metadata": {},
   "outputs": [],
   "source": []
  },
  {
   "cell_type": "code",
   "execution_count": null,
   "id": "dc69089d-20bc-489c-9aec-00071b2620d5",
   "metadata": {},
   "outputs": [],
   "source": []
  },
  {
   "cell_type": "code",
   "execution_count": null,
   "id": "5d2ae6ff-0f50-4b00-be3a-41f59359fe29",
   "metadata": {},
   "outputs": [],
   "source": []
  },
  {
   "cell_type": "code",
   "execution_count": null,
   "id": "b8df3edc-0cbc-4f21-8e8c-4db2bd094e8c",
   "metadata": {},
   "outputs": [],
   "source": []
  },
  {
   "cell_type": "code",
   "execution_count": null,
   "id": "a69c3da9-2fef-4d51-90a8-dbc4b5b08804",
   "metadata": {},
   "outputs": [],
   "source": []
  },
  {
   "cell_type": "code",
   "execution_count": null,
   "id": "6b33702b-94d7-40f4-9145-70a1f6fb118f",
   "metadata": {},
   "outputs": [],
   "source": []
  },
  {
   "cell_type": "code",
   "execution_count": null,
   "id": "856882c8-44ee-4ddc-b48b-da11d8300bf5",
   "metadata": {},
   "outputs": [],
   "source": []
  },
  {
   "cell_type": "code",
   "execution_count": null,
   "id": "ead0fc42-1830-4e50-a053-4a6dd5d99c99",
   "metadata": {},
   "outputs": [],
   "source": []
  },
  {
   "cell_type": "code",
   "execution_count": null,
   "id": "c4ce6f97-fb8a-42ee-817c-ebd41eb5783a",
   "metadata": {},
   "outputs": [],
   "source": []
  },
  {
   "cell_type": "code",
   "execution_count": null,
   "id": "be62e9e3-0e8f-4aec-906e-52249df71ed2",
   "metadata": {},
   "outputs": [],
   "source": []
  },
  {
   "cell_type": "code",
   "execution_count": null,
   "id": "e466f26d-44de-4f82-a597-df85592ef3f9",
   "metadata": {},
   "outputs": [],
   "source": []
  },
  {
   "cell_type": "code",
   "execution_count": null,
   "id": "126fbc63-1a6b-49ea-9996-839084fb1b75",
   "metadata": {},
   "outputs": [],
   "source": []
  },
  {
   "cell_type": "code",
   "execution_count": null,
   "id": "54f0b185-7671-4076-8cc2-50064fa7a226",
   "metadata": {},
   "outputs": [],
   "source": []
  },
  {
   "cell_type": "code",
   "execution_count": null,
   "id": "be1e818e-84b4-478b-b6e3-c971230e8c4d",
   "metadata": {},
   "outputs": [],
   "source": []
  },
  {
   "cell_type": "code",
   "execution_count": null,
   "id": "cd8d3c97-4dd5-44fb-b631-09c53cd81156",
   "metadata": {},
   "outputs": [],
   "source": []
  },
  {
   "cell_type": "code",
   "execution_count": null,
   "id": "5b64675c-a64a-4a8a-b0cc-bc6bf8f3e614",
   "metadata": {},
   "outputs": [],
   "source": []
  },
  {
   "cell_type": "code",
   "execution_count": null,
   "id": "363a35c7-349c-4a33-8a5c-e218cbbe2933",
   "metadata": {},
   "outputs": [],
   "source": []
  },
  {
   "cell_type": "code",
   "execution_count": null,
   "id": "467c74c9-446f-4783-8599-e881acccf0a9",
   "metadata": {},
   "outputs": [],
   "source": []
  },
  {
   "cell_type": "code",
   "execution_count": null,
   "id": "4441b51e-219c-439f-9ac1-f6b36896c433",
   "metadata": {},
   "outputs": [],
   "source": []
  },
  {
   "cell_type": "code",
   "execution_count": null,
   "id": "6658b9e3-c1aa-41a7-b768-5c2d6bbc6ecf",
   "metadata": {},
   "outputs": [],
   "source": []
  },
  {
   "cell_type": "code",
   "execution_count": null,
   "id": "46b48969-c0b5-4e84-b415-d8b9142be93c",
   "metadata": {},
   "outputs": [],
   "source": []
  },
  {
   "cell_type": "code",
   "execution_count": null,
   "id": "5ddee52a-33b0-4206-8143-6136e0dbf763",
   "metadata": {},
   "outputs": [],
   "source": []
  },
  {
   "cell_type": "code",
   "execution_count": null,
   "id": "3df869aa-193d-4379-b924-ab06eea31e0b",
   "metadata": {},
   "outputs": [],
   "source": []
  },
  {
   "cell_type": "code",
   "execution_count": null,
   "id": "a0453005-20bd-4c05-9ba9-c614ae6f465f",
   "metadata": {},
   "outputs": [],
   "source": []
  },
  {
   "cell_type": "code",
   "execution_count": null,
   "id": "f59e81d0-92b8-4733-a9cc-246c12c3f66e",
   "metadata": {},
   "outputs": [],
   "source": []
  },
  {
   "cell_type": "code",
   "execution_count": null,
   "id": "d97a8d80-4678-47a3-bfba-1874fe549cd9",
   "metadata": {},
   "outputs": [],
   "source": []
  },
  {
   "cell_type": "code",
   "execution_count": null,
   "id": "74b45e1a-b141-4d65-a6ad-28a3b7264015",
   "metadata": {},
   "outputs": [],
   "source": []
  },
  {
   "cell_type": "code",
   "execution_count": null,
   "id": "26c15403-5f6d-4105-891e-d6e2b733e13b",
   "metadata": {},
   "outputs": [],
   "source": []
  },
  {
   "cell_type": "code",
   "execution_count": null,
   "id": "ffc07953-714e-4277-be4d-3c676010b7a7",
   "metadata": {},
   "outputs": [],
   "source": []
  },
  {
   "cell_type": "code",
   "execution_count": null,
   "id": "09328f1f-a511-4b51-847e-d6644689824b",
   "metadata": {},
   "outputs": [],
   "source": []
  },
  {
   "cell_type": "code",
   "execution_count": null,
   "id": "3a4db07a-4a1a-49ee-b8d5-c3a4d3c5fe49",
   "metadata": {},
   "outputs": [],
   "source": []
  },
  {
   "cell_type": "code",
   "execution_count": null,
   "id": "665bc236-9b22-4900-b42f-c8bcd6321f36",
   "metadata": {},
   "outputs": [],
   "source": []
  },
  {
   "cell_type": "code",
   "execution_count": null,
   "id": "3936f8d2-6c9c-4b0a-903a-824041140d73",
   "metadata": {},
   "outputs": [],
   "source": []
  },
  {
   "cell_type": "code",
   "execution_count": null,
   "id": "811f11de-e542-47a2-b543-fcfbe61899b9",
   "metadata": {},
   "outputs": [],
   "source": []
  },
  {
   "cell_type": "code",
   "execution_count": null,
   "id": "c0885b2c-1bac-4a81-8712-b87b45bf369f",
   "metadata": {},
   "outputs": [],
   "source": []
  },
  {
   "cell_type": "code",
   "execution_count": null,
   "id": "94870298-f012-44dd-9f14-d3b1c27edf62",
   "metadata": {},
   "outputs": [],
   "source": []
  },
  {
   "cell_type": "code",
   "execution_count": null,
   "id": "6bee40ca-65ea-4100-a7cc-170f18f9a6f7",
   "metadata": {},
   "outputs": [],
   "source": []
  },
  {
   "cell_type": "code",
   "execution_count": null,
   "id": "7ed3391d-4b2c-4daa-adac-78a6e9f68c15",
   "metadata": {},
   "outputs": [],
   "source": []
  },
  {
   "cell_type": "code",
   "execution_count": null,
   "id": "e25b47aa-2edf-4613-a705-40bd9cf99388",
   "metadata": {},
   "outputs": [],
   "source": []
  },
  {
   "cell_type": "code",
   "execution_count": null,
   "id": "2273ffc9-0e0b-4396-895d-a9c7adf92487",
   "metadata": {},
   "outputs": [],
   "source": []
  },
  {
   "cell_type": "code",
   "execution_count": null,
   "id": "0c2d2789-89aa-470c-ad63-adb5b8452180",
   "metadata": {},
   "outputs": [],
   "source": []
  },
  {
   "cell_type": "code",
   "execution_count": null,
   "id": "236d90cc-77eb-4fe5-bc94-dd63a58f4420",
   "metadata": {},
   "outputs": [],
   "source": []
  },
  {
   "cell_type": "code",
   "execution_count": null,
   "id": "3a1dead2-1810-4706-8e7d-11d4672c1280",
   "metadata": {},
   "outputs": [],
   "source": []
  },
  {
   "cell_type": "code",
   "execution_count": null,
   "id": "e4881d57-fbf9-46fc-b24b-6ad1b0254643",
   "metadata": {},
   "outputs": [],
   "source": []
  },
  {
   "cell_type": "code",
   "execution_count": null,
   "id": "4f32af61-690e-4b27-a6c2-845710d28bd1",
   "metadata": {},
   "outputs": [],
   "source": []
  },
  {
   "cell_type": "code",
   "execution_count": null,
   "id": "7f386d63-7c94-4c5b-9645-39aa7cc30a02",
   "metadata": {},
   "outputs": [],
   "source": []
  },
  {
   "cell_type": "code",
   "execution_count": null,
   "id": "6f765d5d-3203-40ee-a89c-3379c52b47e3",
   "metadata": {},
   "outputs": [],
   "source": []
  },
  {
   "cell_type": "code",
   "execution_count": null,
   "id": "8a689be3-8635-407e-a224-aac8b590dbe2",
   "metadata": {},
   "outputs": [],
   "source": []
  },
  {
   "cell_type": "code",
   "execution_count": null,
   "id": "f647a40f-10d8-4312-9d91-e8938e2533ab",
   "metadata": {},
   "outputs": [],
   "source": []
  },
  {
   "cell_type": "code",
   "execution_count": null,
   "id": "db5e0d82-dcd2-4116-9c4f-c3f056edcc05",
   "metadata": {},
   "outputs": [],
   "source": []
  },
  {
   "cell_type": "code",
   "execution_count": null,
   "id": "d7fbc301-91c8-4d91-8b1e-09656f8887e8",
   "metadata": {},
   "outputs": [],
   "source": []
  },
  {
   "cell_type": "code",
   "execution_count": null,
   "id": "bbb3e108-828a-41d1-a13d-cfd1e4d57f8c",
   "metadata": {},
   "outputs": [],
   "source": []
  },
  {
   "cell_type": "code",
   "execution_count": null,
   "id": "50818e09-7bda-4e66-98a2-bce65016c877",
   "metadata": {},
   "outputs": [],
   "source": []
  },
  {
   "cell_type": "code",
   "execution_count": null,
   "id": "f7ede0c8-33f8-4bb6-921a-fb99f3102956",
   "metadata": {},
   "outputs": [],
   "source": []
  },
  {
   "cell_type": "code",
   "execution_count": null,
   "id": "268f9338-0ab8-428d-b6c1-566f1a23ae58",
   "metadata": {},
   "outputs": [],
   "source": []
  },
  {
   "cell_type": "code",
   "execution_count": null,
   "id": "01382539-d334-4b60-a900-a20a8abf3d50",
   "metadata": {},
   "outputs": [],
   "source": []
  },
  {
   "cell_type": "code",
   "execution_count": null,
   "id": "3691eb0a-9d54-4aad-9fc3-7a39e2dffb56",
   "metadata": {},
   "outputs": [],
   "source": []
  },
  {
   "cell_type": "code",
   "execution_count": null,
   "id": "d1be8b4d-c2ca-4bc5-96fa-8f5eecba34cf",
   "metadata": {},
   "outputs": [],
   "source": []
  },
  {
   "cell_type": "code",
   "execution_count": null,
   "id": "ae04e968-ebd9-432b-965b-ae64ce34743e",
   "metadata": {},
   "outputs": [],
   "source": []
  },
  {
   "cell_type": "code",
   "execution_count": null,
   "id": "0ffb2a5f-e8cb-4a20-b37c-fb419c3619b4",
   "metadata": {},
   "outputs": [],
   "source": []
  },
  {
   "cell_type": "code",
   "execution_count": null,
   "id": "e4f2b927-c100-4147-a8bb-a3f79b869855",
   "metadata": {},
   "outputs": [],
   "source": []
  },
  {
   "cell_type": "code",
   "execution_count": null,
   "id": "d686ef47-d734-41f5-bb10-93eda5b8603f",
   "metadata": {},
   "outputs": [],
   "source": []
  },
  {
   "cell_type": "code",
   "execution_count": null,
   "id": "bd144cdb-6a38-4ffd-866d-a502c443fab3",
   "metadata": {},
   "outputs": [],
   "source": []
  },
  {
   "cell_type": "code",
   "execution_count": null,
   "id": "b4ad97e6-24cb-4394-8769-aad676c85c74",
   "metadata": {},
   "outputs": [],
   "source": []
  },
  {
   "cell_type": "code",
   "execution_count": null,
   "id": "9b4ed8e8-b6b6-49ad-8769-b5dacc9cb828",
   "metadata": {},
   "outputs": [],
   "source": []
  },
  {
   "cell_type": "code",
   "execution_count": null,
   "id": "e164dfb6-84c6-442c-83d8-dd8938db5199",
   "metadata": {},
   "outputs": [],
   "source": []
  },
  {
   "cell_type": "code",
   "execution_count": null,
   "id": "b047489c-16d3-46fb-8a79-b9217577a740",
   "metadata": {},
   "outputs": [],
   "source": []
  },
  {
   "cell_type": "code",
   "execution_count": null,
   "id": "488e7220-9da3-4af3-b208-e8bc972cdad9",
   "metadata": {},
   "outputs": [],
   "source": []
  },
  {
   "cell_type": "code",
   "execution_count": null,
   "id": "3abf0a59-6b89-45d2-bb8b-28a1d4df38b0",
   "metadata": {},
   "outputs": [],
   "source": []
  },
  {
   "cell_type": "code",
   "execution_count": null,
   "id": "1bc56904-7a2d-438d-9d56-f70e678bb742",
   "metadata": {},
   "outputs": [],
   "source": []
  },
  {
   "cell_type": "code",
   "execution_count": null,
   "id": "a096cf59-ac94-4322-9ea6-fce83fa6a290",
   "metadata": {},
   "outputs": [],
   "source": []
  },
  {
   "cell_type": "code",
   "execution_count": null,
   "id": "d6642667-1de3-407e-b48d-2e49640cf7e5",
   "metadata": {},
   "outputs": [],
   "source": []
  },
  {
   "cell_type": "code",
   "execution_count": null,
   "id": "cfccfc38-2433-4479-ae62-b86dcfbca04b",
   "metadata": {},
   "outputs": [],
   "source": []
  },
  {
   "cell_type": "code",
   "execution_count": null,
   "id": "5f761ab6-4077-4347-942a-1b560220e64f",
   "metadata": {},
   "outputs": [],
   "source": []
  },
  {
   "cell_type": "code",
   "execution_count": null,
   "id": "5b1ce4a4-afd8-4486-a0b4-6c4d075ed554",
   "metadata": {},
   "outputs": [],
   "source": []
  },
  {
   "cell_type": "code",
   "execution_count": null,
   "id": "b139a114-345e-46d4-8b2f-7c2dfbe45761",
   "metadata": {},
   "outputs": [],
   "source": []
  },
  {
   "cell_type": "code",
   "execution_count": null,
   "id": "82427cfd-95f8-4aa6-ba2f-4dd5482d5c4a",
   "metadata": {},
   "outputs": [],
   "source": []
  },
  {
   "cell_type": "code",
   "execution_count": null,
   "id": "11a7539d-6687-47d1-a293-84ce921bafd6",
   "metadata": {},
   "outputs": [],
   "source": []
  },
  {
   "cell_type": "code",
   "execution_count": null,
   "id": "a6d63209-a0d9-4d7c-b567-179db84de6ba",
   "metadata": {},
   "outputs": [],
   "source": []
  },
  {
   "cell_type": "code",
   "execution_count": null,
   "id": "9c452a06-c585-46fc-9255-b80f78d5e228",
   "metadata": {},
   "outputs": [],
   "source": []
  },
  {
   "cell_type": "code",
   "execution_count": null,
   "id": "c643cfcf-cc4b-44cc-93eb-1ce07923e3d4",
   "metadata": {},
   "outputs": [],
   "source": []
  },
  {
   "cell_type": "code",
   "execution_count": null,
   "id": "9d2d06ba-0fe8-420f-b22e-c6dea27b3835",
   "metadata": {},
   "outputs": [],
   "source": []
  },
  {
   "cell_type": "code",
   "execution_count": null,
   "id": "236413fe-2909-467c-b8b9-c159a492c604",
   "metadata": {},
   "outputs": [],
   "source": []
  },
  {
   "cell_type": "code",
   "execution_count": null,
   "id": "114390af-fc6a-4c47-9636-beb692f18f70",
   "metadata": {},
   "outputs": [],
   "source": []
  },
  {
   "cell_type": "code",
   "execution_count": null,
   "id": "8b40693e-fc20-4367-9ead-4089fd6dfff8",
   "metadata": {},
   "outputs": [],
   "source": []
  },
  {
   "cell_type": "code",
   "execution_count": null,
   "id": "9a87b714-4173-4f81-b123-7f2112711a18",
   "metadata": {},
   "outputs": [],
   "source": []
  },
  {
   "cell_type": "code",
   "execution_count": null,
   "id": "a8f34892-216a-4a17-9cda-174d5054990c",
   "metadata": {},
   "outputs": [],
   "source": []
  },
  {
   "cell_type": "code",
   "execution_count": null,
   "id": "beb6a479-52e7-4447-b534-d59a2367e4c3",
   "metadata": {},
   "outputs": [],
   "source": []
  },
  {
   "cell_type": "code",
   "execution_count": null,
   "id": "471a4229-1ab1-45a6-8e74-c21ac263ce55",
   "metadata": {},
   "outputs": [],
   "source": []
  },
  {
   "cell_type": "code",
   "execution_count": null,
   "id": "e4ca7ec3-6471-4189-a6e1-f7ef554b3a75",
   "metadata": {},
   "outputs": [],
   "source": []
  },
  {
   "cell_type": "code",
   "execution_count": null,
   "id": "60105104-945c-45e2-839a-18ed906b6f69",
   "metadata": {},
   "outputs": [],
   "source": []
  },
  {
   "cell_type": "code",
   "execution_count": null,
   "id": "c6493a82-204c-43bb-99b3-e1a322b12fc2",
   "metadata": {},
   "outputs": [],
   "source": []
  },
  {
   "cell_type": "code",
   "execution_count": null,
   "id": "2e97e027-2277-4c4b-9523-030d407d85dd",
   "metadata": {},
   "outputs": [],
   "source": []
  },
  {
   "cell_type": "code",
   "execution_count": null,
   "id": "8c424f1d-f4d0-496f-9f51-fe388bd24705",
   "metadata": {},
   "outputs": [],
   "source": []
  },
  {
   "cell_type": "code",
   "execution_count": null,
   "id": "a2bf42f6-272d-4e48-84e9-267970057136",
   "metadata": {},
   "outputs": [],
   "source": []
  },
  {
   "cell_type": "code",
   "execution_count": null,
   "id": "4010a2ba-b8f8-4434-826f-b34c2f3cb8a0",
   "metadata": {},
   "outputs": [],
   "source": []
  },
  {
   "cell_type": "code",
   "execution_count": null,
   "id": "cad0835e-a9ea-4174-b6e1-bb2d9cb7655e",
   "metadata": {},
   "outputs": [],
   "source": []
  },
  {
   "cell_type": "code",
   "execution_count": null,
   "id": "45600ebb-cff0-4195-84b2-a6a1bcba67f8",
   "metadata": {},
   "outputs": [],
   "source": []
  },
  {
   "cell_type": "code",
   "execution_count": null,
   "id": "349b2626-59fa-4182-9a98-9ec87ab41ea6",
   "metadata": {},
   "outputs": [],
   "source": []
  },
  {
   "cell_type": "code",
   "execution_count": null,
   "id": "f62f65e7-9814-48ec-b377-6a7cc943ae05",
   "metadata": {},
   "outputs": [],
   "source": []
  },
  {
   "cell_type": "code",
   "execution_count": null,
   "id": "dce19a89-3f54-4124-88b6-db13994e4738",
   "metadata": {},
   "outputs": [],
   "source": []
  },
  {
   "cell_type": "code",
   "execution_count": null,
   "id": "ef8fc282-23a6-46cc-ac88-05a44f4a7b0f",
   "metadata": {},
   "outputs": [],
   "source": []
  },
  {
   "cell_type": "code",
   "execution_count": null,
   "id": "bfe61d99-968c-49b8-8604-cac4fa8633d2",
   "metadata": {},
   "outputs": [],
   "source": []
  },
  {
   "cell_type": "code",
   "execution_count": null,
   "id": "eeda4486-f1c9-4397-940b-ab478860e08f",
   "metadata": {},
   "outputs": [],
   "source": []
  },
  {
   "cell_type": "code",
   "execution_count": null,
   "id": "58887f04-9ebd-4dda-8dc2-1fcb788518e6",
   "metadata": {},
   "outputs": [],
   "source": []
  },
  {
   "cell_type": "code",
   "execution_count": null,
   "id": "e758bc66-7061-455a-a8b0-bbb6ce188ead",
   "metadata": {},
   "outputs": [],
   "source": []
  },
  {
   "cell_type": "code",
   "execution_count": null,
   "id": "85a20030-ab97-4951-b3a4-5d251560681b",
   "metadata": {},
   "outputs": [],
   "source": []
  },
  {
   "cell_type": "code",
   "execution_count": null,
   "id": "f4e39a71-b5a0-4704-b12d-749aa2ff2141",
   "metadata": {},
   "outputs": [],
   "source": []
  },
  {
   "cell_type": "code",
   "execution_count": null,
   "id": "7dabc045-5c07-4375-ab02-8bcd6a734c4e",
   "metadata": {},
   "outputs": [],
   "source": []
  },
  {
   "cell_type": "code",
   "execution_count": null,
   "id": "a31a7bc1-fe71-4a86-ba16-e0bdd16f88bc",
   "metadata": {},
   "outputs": [],
   "source": []
  },
  {
   "cell_type": "code",
   "execution_count": null,
   "id": "c0696563-575b-4688-a655-4bd8863bb196",
   "metadata": {},
   "outputs": [],
   "source": []
  },
  {
   "cell_type": "code",
   "execution_count": null,
   "id": "ac423cc6-72a1-4083-b1f4-5aeaae794d3d",
   "metadata": {},
   "outputs": [],
   "source": []
  }
 ],
 "metadata": {
  "kernelspec": {
   "display_name": "Python 3 (ipykernel)",
   "language": "python",
   "name": "python3"
  },
  "language_info": {
   "codemirror_mode": {
    "name": "ipython",
    "version": 3
   },
   "file_extension": ".py",
   "mimetype": "text/x-python",
   "name": "python",
   "nbconvert_exporter": "python",
   "pygments_lexer": "ipython3",
   "version": "3.11.2"
  }
 },
 "nbformat": 4,
 "nbformat_minor": 5
}
