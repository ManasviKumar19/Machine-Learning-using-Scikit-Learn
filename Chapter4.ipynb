{
 "cells": [
  {
   "cell_type": "code",
   "execution_count": 1,
   "id": "95782906-0136-471a-bf1e-932b56f1bbcf",
   "metadata": {},
   "outputs": [],
   "source": [
    " import numpy as np"
   ]
  },
  {
   "cell_type": "markdown",
   "id": "c8885f0a-6528-4ba6-84eb-e14c359ea2fe",
   "metadata": {},
   "source": [
    "## Normal Equation"
   ]
  },
  {
   "cell_type": "markdown",
   "id": "923faeb5-db68-49c4-8462-af3a3d11ff6d",
   "metadata": {},
   "source": [
    " θ\r\n",
    " =X⊺X−1 X⊺ y"
   ]
  },
  {
   "cell_type": "markdown",
   "id": "02a9a9b2-478c-4905-958a-2e79d2d7945b",
   "metadata": {},
   "source": [
    " θ\r\n",
    " is the value of θ that minimizes the cost function.\r\n",
    " • y is the vector of target values containing y(1) to y(m)"
   ]
  },
  {
   "cell_type": "code",
   "execution_count": 2,
   "id": "0e2ff4ca-0ac8-44cf-9841-0ac254569cdc",
   "metadata": {},
   "outputs": [],
   "source": [
    "X = 2 * np.random.rand(100, 1)\n",
    "y = 4 + 3 * X + np.random.randn(100, 1)"
   ]
  },
  {
   "cell_type": "markdown",
   "id": "eecabab0-8b64-495f-aa23-4f368569cf66",
   "metadata": {},
   "source": []
  },
  {
   "cell_type": "code",
   "execution_count": 3,
   "id": "530354a4-7ecf-4f4e-a7b8-89bb0645548b",
   "metadata": {},
   "outputs": [
    {
     "data": {
      "text/plain": [
       "array([[3.78892358],\n",
       "       [3.12805954]])"
      ]
     },
     "execution_count": 3,
     "metadata": {},
     "output_type": "execute_result"
    }
   ],
   "source": [
    "X_b = np.c_[np.ones((100, 1)), X]  # add x0 = 1 to each instance\n",
    "theta_best = np.linalg.inv(X_b.T.dot(X_b)).dot(X_b.T).dot(y)\n",
    "theta_best"
   ]
  },
  {
   "cell_type": "markdown",
   "id": "1eba3a23-9908-478c-957a-b9d750f7daaf",
   "metadata": {},
   "source": [
    "The pseudoinverse itself is computed using a standard matrix factorization technique\r\n",
    " called Singular Value Decomposition (SVD) that can decompose the training set\r\n",
    " matrix X into the matrix multiplication of three matrices U Σ V⊺ (see\r\n",
    " Σ+\r\n",
    " numpy.linalg.svd()). The pseudoinverse is computed as X+ = VΣ+U⊺. To compute\r\n",
    " the matrix \r\n",
    ", the algorithm takes Σ and sets to zero all values smaller than a tiny\r\n",
    " threshold value, then it replaces all the nonzero values with their inverse, and finally\r\n",
    " it transposes the resulting matrix. This approach is more efficient than computing the\r\n",
    " Normal Equation, plus it handles edge cases nicely: indeed, the Normal Equation may\r\n",
    " not work if the matrix X⊺X is not invertible (i.e., singular), such as if m < n or if some\r\n",
    " features are redundant, but the pseudoinverse is always defined."
   ]
  },
  {
   "cell_type": "code",
   "execution_count": null,
   "id": "b11cac84-3705-42b5-95ac-01d44051c71a",
   "metadata": {},
   "outputs": [],
   "source": []
  },
  {
   "cell_type": "markdown",
   "id": "30cf1599-e901-4c64-8d40-628953fc9370",
   "metadata": {},
   "source": [
    "## Gradient Descent"
   ]
  },
  {
   "cell_type": "markdown",
   "id": "c5701c0c-2975-4226-a092-572343a0c8ad",
   "metadata": {},
   "source": [
    "Gradient Descent is a generic optimization algorithm capable of finding optimal solu\r\n",
    "tions to a wide range of problems. The general idea of Gradient Descent is to tweak\r\n",
    " parameters iteratively in order to minimize a cost function."
   ]
  },
  {
   "cell_type": "markdown",
   "id": "94cfa82d-8b25-4077-abc9-9741decec787",
   "metadata": {},
   "source": [
    "### Batch Gradient Descent\n"
   ]
  },
  {
   "cell_type": "markdown",
   "id": "068e8ae5-fc1f-498e-920f-55a7f02ba2a2",
   "metadata": {},
   "source": [
    "To implement Gradient Descent, you need to compute the gradient of the cost func\n",
    "tion with regard to each model parameter θ\n",
    " . In other words, y u need to calcula \r\n",
    " how much the cost function will change if you change j\r\n",
    " just a little bit. This is ca ed\r\n",
    " a partial derivative."
   ]
  },
  {
   "cell_type": "markdown",
   "id": "bfec62bc-2698-43df-84ce-4180a1487dbd",
   "metadata": {},
   "source": [
    "Batch Gradient Descent: it uses the whole batch of training\r\n",
    " data at every step (actually, Full Gradient Descent would probably\r\n",
    " be a better name). As a result it is terribly slow on very large train\r\n",
    "ing sets (but we will see much faster Gradient Descent algorithms\r\n",
    " shortly). However, Gradient Descent scales well with the number of\r\n",
    " features; training a Linear Regression model when there are hun\r\n",
    "dreds of thousands of features is much faster using Gradient\r\n",
    " Descent than using the Normal Equation or SVD decomposition."
   ]
  },
  {
   "cell_type": "markdown",
   "id": "3d1772f6-b192-461e-8e43-bbf37abeba85",
   "metadata": {},
   "source": [
    "### Stochastic Gradient Descent"
   ]
  },
  {
   "cell_type": "markdown",
   "id": "4aba4d00-2bdc-4ad8-851f-d89c40c60a4f",
   "metadata": {},
   "source": [
    "The main problem with Batch Gradient Descent is the fact that it uses the whole\r\n",
    " training set to compute the gradients at every step, which makes it very slow when\r\n",
    " the training set is large. At the opposite extreme, Stochastic Gradient Descent picks a\r\n",
    " random instance in the training set at every step and computes the gradients based\r\n",
    " only on that single instance. Obviously, working on a single instance at a time makes\r\n",
    " the algorithm much faster because it has very little data to manipulate at every itera\r\n",
    "tion. It also makes it possible to train on huge training sets, since only one instance\r\n",
    " needs to be in memory at each iteration (Stochastic GD can be implemented as an\r\n",
    " out-of-core algorithm"
   ]
  },
  {
   "cell_type": "markdown",
   "id": "b1592435-a6db-4638-88ce-47b3917f3de5",
   "metadata": {},
   "source": [
    "On the other hand, due to its stochastic (i.e., random) nature, this algorithm is much\r\n",
    " less regular than Batch Gradient Descent: instead of gently decreasing until it reaches\r\n",
    " the minimum, the cost function will bounce up and down, decreasing only on aver\r\n",
    "age. Over time it will end up very close to the minimum, but once it gets there it will\r\n",
    " continue to bounce around, never settling 4-9). So once the algo\r\n",
    "rithm stops, the final parameter values are good, but not optimal."
   ]
  },
  {
   "cell_type": "markdown",
   "id": "f96a4e99-c6d3-497d-b2c7-8bf54adaeb35",
   "metadata": {},
   "source": [
    "#### If your cost function is very irregular, i.e. has lots of ups and downs, then Stochastic Gradient Descent is useful because it can help the algorithm jump out of the local minima"
   ]
  },
  {
   "cell_type": "code",
   "execution_count": 4,
   "id": "aa1a6a7d-ab98-42fc-a707-3aab4b35d756",
   "metadata": {},
   "outputs": [],
   "source": [
    "from sklearn.linear_model import SGDRegressor"
   ]
  },
  {
   "cell_type": "code",
   "execution_count": 5,
   "id": "dc6fead7-365a-4571-8726-585c3cad7eff",
   "metadata": {},
   "outputs": [],
   "source": [
    "sgd_reg = SGDRegressor(max_iter=1000, tol=1e-3, penalty=None, eta0=0.1)"
   ]
  },
  {
   "cell_type": "code",
   "execution_count": 6,
   "id": "4e10c08a-1271-40a5-a77e-616115aeef59",
   "metadata": {},
   "outputs": [
    {
     "data": {
      "text/html": [
       "<style>#sk-container-id-1 {color: black;}#sk-container-id-1 pre{padding: 0;}#sk-container-id-1 div.sk-toggleable {background-color: white;}#sk-container-id-1 label.sk-toggleable__label {cursor: pointer;display: block;width: 100%;margin-bottom: 0;padding: 0.3em;box-sizing: border-box;text-align: center;}#sk-container-id-1 label.sk-toggleable__label-arrow:before {content: \"▸\";float: left;margin-right: 0.25em;color: #696969;}#sk-container-id-1 label.sk-toggleable__label-arrow:hover:before {color: black;}#sk-container-id-1 div.sk-estimator:hover label.sk-toggleable__label-arrow:before {color: black;}#sk-container-id-1 div.sk-toggleable__content {max-height: 0;max-width: 0;overflow: hidden;text-align: left;background-color: #f0f8ff;}#sk-container-id-1 div.sk-toggleable__content pre {margin: 0.2em;color: black;border-radius: 0.25em;background-color: #f0f8ff;}#sk-container-id-1 input.sk-toggleable__control:checked~div.sk-toggleable__content {max-height: 200px;max-width: 100%;overflow: auto;}#sk-container-id-1 input.sk-toggleable__control:checked~label.sk-toggleable__label-arrow:before {content: \"▾\";}#sk-container-id-1 div.sk-estimator input.sk-toggleable__control:checked~label.sk-toggleable__label {background-color: #d4ebff;}#sk-container-id-1 div.sk-label input.sk-toggleable__control:checked~label.sk-toggleable__label {background-color: #d4ebff;}#sk-container-id-1 input.sk-hidden--visually {border: 0;clip: rect(1px 1px 1px 1px);clip: rect(1px, 1px, 1px, 1px);height: 1px;margin: -1px;overflow: hidden;padding: 0;position: absolute;width: 1px;}#sk-container-id-1 div.sk-estimator {font-family: monospace;background-color: #f0f8ff;border: 1px dotted black;border-radius: 0.25em;box-sizing: border-box;margin-bottom: 0.5em;}#sk-container-id-1 div.sk-estimator:hover {background-color: #d4ebff;}#sk-container-id-1 div.sk-parallel-item::after {content: \"\";width: 100%;border-bottom: 1px solid gray;flex-grow: 1;}#sk-container-id-1 div.sk-label:hover label.sk-toggleable__label {background-color: #d4ebff;}#sk-container-id-1 div.sk-serial::before {content: \"\";position: absolute;border-left: 1px solid gray;box-sizing: border-box;top: 0;bottom: 0;left: 50%;z-index: 0;}#sk-container-id-1 div.sk-serial {display: flex;flex-direction: column;align-items: center;background-color: white;padding-right: 0.2em;padding-left: 0.2em;position: relative;}#sk-container-id-1 div.sk-item {position: relative;z-index: 1;}#sk-container-id-1 div.sk-parallel {display: flex;align-items: stretch;justify-content: center;background-color: white;position: relative;}#sk-container-id-1 div.sk-item::before, #sk-container-id-1 div.sk-parallel-item::before {content: \"\";position: absolute;border-left: 1px solid gray;box-sizing: border-box;top: 0;bottom: 0;left: 50%;z-index: -1;}#sk-container-id-1 div.sk-parallel-item {display: flex;flex-direction: column;z-index: 1;position: relative;background-color: white;}#sk-container-id-1 div.sk-parallel-item:first-child::after {align-self: flex-end;width: 50%;}#sk-container-id-1 div.sk-parallel-item:last-child::after {align-self: flex-start;width: 50%;}#sk-container-id-1 div.sk-parallel-item:only-child::after {width: 0;}#sk-container-id-1 div.sk-dashed-wrapped {border: 1px dashed gray;margin: 0 0.4em 0.5em 0.4em;box-sizing: border-box;padding-bottom: 0.4em;background-color: white;}#sk-container-id-1 div.sk-label label {font-family: monospace;font-weight: bold;display: inline-block;line-height: 1.2em;}#sk-container-id-1 div.sk-label-container {text-align: center;}#sk-container-id-1 div.sk-container {/* jupyter's `normalize.less` sets `[hidden] { display: none; }` but bootstrap.min.css set `[hidden] { display: none !important; }` so we also need the `!important` here to be able to override the default hidden behavior on the sphinx rendered scikit-learn.org. See: https://github.com/scikit-learn/scikit-learn/issues/21755 */display: inline-block !important;position: relative;}#sk-container-id-1 div.sk-text-repr-fallback {display: none;}</style><div id=\"sk-container-id-1\" class=\"sk-top-container\"><div class=\"sk-text-repr-fallback\"><pre>SGDRegressor(eta0=0.1, penalty=None)</pre><b>In a Jupyter environment, please rerun this cell to show the HTML representation or trust the notebook. <br />On GitHub, the HTML representation is unable to render, please try loading this page with nbviewer.org.</b></div><div class=\"sk-container\" hidden><div class=\"sk-item\"><div class=\"sk-estimator sk-toggleable\"><input class=\"sk-toggleable__control sk-hidden--visually\" id=\"sk-estimator-id-1\" type=\"checkbox\" checked><label for=\"sk-estimator-id-1\" class=\"sk-toggleable__label sk-toggleable__label-arrow\">SGDRegressor</label><div class=\"sk-toggleable__content\"><pre>SGDRegressor(eta0=0.1, penalty=None)</pre></div></div></div></div></div>"
      ],
      "text/plain": [
       "SGDRegressor(eta0=0.1, penalty=None)"
      ]
     },
     "execution_count": 6,
     "metadata": {},
     "output_type": "execute_result"
    }
   ],
   "source": [
    "sgd_reg.fit(X, y.ravel())"
   ]
  },
  {
   "cell_type": "code",
   "execution_count": 7,
   "id": "3c0185ff-93c4-4923-93be-add8668d4ccd",
   "metadata": {},
   "outputs": [
    {
     "data": {
      "text/plain": [
       "(array([3.84095955]), array([3.20738491]))"
      ]
     },
     "execution_count": 7,
     "metadata": {},
     "output_type": "execute_result"
    }
   ],
   "source": [
    "sgd_reg.intercept_, sgd_reg.coef_"
   ]
  },
  {
   "cell_type": "markdown",
   "id": "0469d292-885a-42da-b8aa-bfc4dd34e6d6",
   "metadata": {},
   "source": [
    "### Mini-batch Gradient Descent"
   ]
  },
  {
   "cell_type": "markdown",
   "id": "15446b36-b7dc-4ee4-996b-5c3e45ae041a",
   "metadata": {},
   "source": [
    "The last Gradient Descent algorithm we will look at is called Mini-batch Gradient\r\n",
    " Descent. It is simple to understand once you know Batch and Stochastic Gradient\r\n",
    " Descent: at each step, instead of computing the gradients based on the full training set\r\n",
    " (as in Batch GD) or based on just one instance (as in Stochastic GD), Mini-batch GD\r\n",
    " computes the gradients on small random sets of instances called mini-batches. The\r\n",
    " main advantage of Mini-batch GD over Stochastic GD is that you can get a perfor\r\n",
    "mance boost from hardware optimization of matrix operations, especially when using\r\n",
    " GPUs."
   ]
  },
  {
   "cell_type": "code",
   "execution_count": null,
   "id": "21515bb6-2259-4932-96f1-52c42d507fab",
   "metadata": {},
   "outputs": [],
   "source": []
  },
  {
   "cell_type": "code",
   "execution_count": null,
   "id": "a1336bbc-41e1-46fa-8149-9b1fc1af4b2a",
   "metadata": {},
   "outputs": [],
   "source": []
  },
  {
   "cell_type": "code",
   "execution_count": null,
   "id": "30fc43d3-4809-4843-af1f-c6ed75dc77be",
   "metadata": {},
   "outputs": [],
   "source": []
  },
  {
   "cell_type": "code",
   "execution_count": null,
   "id": "44557494-2b72-4eac-bc39-f4db181529f7",
   "metadata": {},
   "outputs": [],
   "source": []
  },
  {
   "cell_type": "code",
   "execution_count": null,
   "id": "5eac9bac-3e55-490a-90a1-20eb65b52e8a",
   "metadata": {},
   "outputs": [],
   "source": []
  },
  {
   "cell_type": "code",
   "execution_count": null,
   "id": "23448dfe-a944-4b32-8909-f5dc3239833c",
   "metadata": {},
   "outputs": [],
   "source": []
  },
  {
   "cell_type": "code",
   "execution_count": null,
   "id": "1ce3fe9a-efa3-41dd-afea-4ee9800e43fa",
   "metadata": {},
   "outputs": [],
   "source": []
  },
  {
   "cell_type": "code",
   "execution_count": null,
   "id": "2d631cd1-e4ce-41ec-a5a4-7ff12c1977dd",
   "metadata": {},
   "outputs": [],
   "source": []
  },
  {
   "cell_type": "code",
   "execution_count": null,
   "id": "e9cc757a-817b-429f-9a45-3b806c56c796",
   "metadata": {},
   "outputs": [],
   "source": []
  },
  {
   "cell_type": "code",
   "execution_count": null,
   "id": "9db6a78c-3262-4854-b189-b4ad1f9be689",
   "metadata": {},
   "outputs": [],
   "source": []
  },
  {
   "cell_type": "code",
   "execution_count": null,
   "id": "11e5b091-2507-4aee-9e98-5ebf563c86ff",
   "metadata": {},
   "outputs": [],
   "source": []
  },
  {
   "cell_type": "code",
   "execution_count": null,
   "id": "f709df56-4004-474a-b0dc-6e5e4188a589",
   "metadata": {},
   "outputs": [],
   "source": []
  },
  {
   "cell_type": "code",
   "execution_count": null,
   "id": "7965c053-edf0-4e49-8eae-bfe80f537e08",
   "metadata": {},
   "outputs": [],
   "source": []
  },
  {
   "cell_type": "code",
   "execution_count": null,
   "id": "99d68135-4964-449e-8517-d9caa0615d1b",
   "metadata": {},
   "outputs": [],
   "source": []
  },
  {
   "cell_type": "code",
   "execution_count": null,
   "id": "1ecaa3f3-6c5c-47b9-be1d-3c41de63a83c",
   "metadata": {},
   "outputs": [],
   "source": []
  },
  {
   "cell_type": "code",
   "execution_count": null,
   "id": "1ce2ae43-1b57-459c-b72b-3ba36578be3e",
   "metadata": {},
   "outputs": [],
   "source": []
  },
  {
   "cell_type": "code",
   "execution_count": null,
   "id": "9cd2aa1c-4a8d-496d-a024-8656c37ae91f",
   "metadata": {},
   "outputs": [],
   "source": []
  },
  {
   "cell_type": "code",
   "execution_count": null,
   "id": "ee4ffd6b-44e6-4f72-9ba9-84075e4f870e",
   "metadata": {},
   "outputs": [],
   "source": []
  },
  {
   "cell_type": "code",
   "execution_count": null,
   "id": "aef3d5b7-5868-4b60-8ee7-4f4eb77398a1",
   "metadata": {},
   "outputs": [],
   "source": []
  },
  {
   "cell_type": "code",
   "execution_count": null,
   "id": "2a2d8391-868a-466e-aacc-16c33f46baac",
   "metadata": {},
   "outputs": [],
   "source": []
  },
  {
   "cell_type": "code",
   "execution_count": null,
   "id": "47de6edc-3a30-4398-808a-884c622afa5a",
   "metadata": {},
   "outputs": [],
   "source": []
  },
  {
   "cell_type": "code",
   "execution_count": null,
   "id": "bfd9d426-7959-40da-bf63-498f97e46963",
   "metadata": {},
   "outputs": [],
   "source": []
  },
  {
   "cell_type": "code",
   "execution_count": null,
   "id": "f1d6515c-7c7b-4f2c-8360-4e95905381c7",
   "metadata": {},
   "outputs": [],
   "source": []
  },
  {
   "cell_type": "code",
   "execution_count": null,
   "id": "1a62ce20-30e4-4a0b-9aa6-e6059be3e208",
   "metadata": {},
   "outputs": [],
   "source": []
  },
  {
   "cell_type": "code",
   "execution_count": null,
   "id": "e2ace9d1-adcb-417f-afac-d76d75ec538d",
   "metadata": {},
   "outputs": [],
   "source": []
  },
  {
   "cell_type": "code",
   "execution_count": null,
   "id": "1dd02ff8-0f27-4238-87a0-b699075b6878",
   "metadata": {},
   "outputs": [],
   "source": []
  },
  {
   "cell_type": "code",
   "execution_count": null,
   "id": "f99b77bd-8c0b-4f59-998f-d1f3df7eb410",
   "metadata": {},
   "outputs": [],
   "source": []
  },
  {
   "cell_type": "code",
   "execution_count": null,
   "id": "3c8cbe5f-7a32-4394-b681-9c76094b0ccf",
   "metadata": {},
   "outputs": [],
   "source": []
  },
  {
   "cell_type": "code",
   "execution_count": null,
   "id": "8d785d09-f5c5-467f-a823-3830dd5deb98",
   "metadata": {},
   "outputs": [],
   "source": []
  },
  {
   "cell_type": "code",
   "execution_count": null,
   "id": "29d80e96-0265-4f4c-a7b6-ed4f4ac7a063",
   "metadata": {},
   "outputs": [],
   "source": []
  },
  {
   "cell_type": "code",
   "execution_count": null,
   "id": "fe826f68-7103-4d06-87b0-50c0b7db2fa0",
   "metadata": {},
   "outputs": [],
   "source": []
  },
  {
   "cell_type": "code",
   "execution_count": null,
   "id": "aaa1aa0c-360a-41f7-88a1-19cc6447f19c",
   "metadata": {},
   "outputs": [],
   "source": []
  },
  {
   "cell_type": "code",
   "execution_count": null,
   "id": "2fea8a6a-fff9-48cf-91db-fc261441a045",
   "metadata": {},
   "outputs": [],
   "source": []
  },
  {
   "cell_type": "code",
   "execution_count": null,
   "id": "81874fec-4bb1-4c67-901c-d7eff45e51c0",
   "metadata": {},
   "outputs": [],
   "source": []
  },
  {
   "cell_type": "code",
   "execution_count": null,
   "id": "46323b3b-e224-4eca-8de0-63f56435308a",
   "metadata": {},
   "outputs": [],
   "source": []
  },
  {
   "cell_type": "code",
   "execution_count": null,
   "id": "16008d2b-0f78-43fb-acb8-13ee35733134",
   "metadata": {},
   "outputs": [],
   "source": []
  },
  {
   "cell_type": "code",
   "execution_count": null,
   "id": "086c19e3-5bf8-430b-8a60-fc8113f81433",
   "metadata": {},
   "outputs": [],
   "source": []
  },
  {
   "cell_type": "code",
   "execution_count": null,
   "id": "fbf63d46-dcb8-40f6-a074-3fb1815661a7",
   "metadata": {},
   "outputs": [],
   "source": []
  },
  {
   "cell_type": "code",
   "execution_count": null,
   "id": "df31261b-3830-41c8-bb59-c570ff09fdb5",
   "metadata": {},
   "outputs": [],
   "source": []
  },
  {
   "cell_type": "code",
   "execution_count": null,
   "id": "673e3849-20e1-4eb6-a8b5-c6eea71b4fd7",
   "metadata": {},
   "outputs": [],
   "source": []
  },
  {
   "cell_type": "code",
   "execution_count": null,
   "id": "a8e4f6e6-56df-4428-b3ff-604217dda1b5",
   "metadata": {},
   "outputs": [],
   "source": []
  },
  {
   "cell_type": "code",
   "execution_count": null,
   "id": "a55d5120-58fe-43f3-8cbc-f87f679193d0",
   "metadata": {},
   "outputs": [],
   "source": []
  },
  {
   "cell_type": "code",
   "execution_count": null,
   "id": "e98202fe-eaec-49ac-be66-6223515ac2a8",
   "metadata": {},
   "outputs": [],
   "source": []
  },
  {
   "cell_type": "code",
   "execution_count": null,
   "id": "9c23aaaa-6170-487f-b49b-da78581d3e37",
   "metadata": {},
   "outputs": [],
   "source": []
  },
  {
   "cell_type": "code",
   "execution_count": null,
   "id": "b9732461-c34d-488d-bc6a-90391dd5ef91",
   "metadata": {},
   "outputs": [],
   "source": []
  },
  {
   "cell_type": "code",
   "execution_count": null,
   "id": "db02f81a-e861-49cf-b082-76fb3a699d61",
   "metadata": {},
   "outputs": [],
   "source": []
  },
  {
   "cell_type": "code",
   "execution_count": null,
   "id": "c3f027be-e3e4-42bf-80fd-e41647d9ec5e",
   "metadata": {},
   "outputs": [],
   "source": []
  },
  {
   "cell_type": "code",
   "execution_count": null,
   "id": "3d3e6555-9789-4048-b844-b300db14f65b",
   "metadata": {},
   "outputs": [],
   "source": []
  },
  {
   "cell_type": "code",
   "execution_count": null,
   "id": "5c0e25ab-fc98-4b13-8b4d-c912abe08ee4",
   "metadata": {},
   "outputs": [],
   "source": []
  },
  {
   "cell_type": "code",
   "execution_count": null,
   "id": "43623a37-8b2a-46a4-8f45-0cbbb3780594",
   "metadata": {},
   "outputs": [],
   "source": []
  },
  {
   "cell_type": "code",
   "execution_count": null,
   "id": "6472dc0c-5d5a-44a8-ba60-71bb4b6869b1",
   "metadata": {},
   "outputs": [],
   "source": []
  },
  {
   "cell_type": "code",
   "execution_count": null,
   "id": "c12f27f5-789d-4ff8-85f3-da9dd3c61ebe",
   "metadata": {},
   "outputs": [],
   "source": []
  },
  {
   "cell_type": "code",
   "execution_count": null,
   "id": "7957abef-0334-4450-9a95-3b93eb3b7a37",
   "metadata": {},
   "outputs": [],
   "source": []
  },
  {
   "cell_type": "code",
   "execution_count": null,
   "id": "626a3bdf-c6d9-415a-9d54-140d349f71a5",
   "metadata": {},
   "outputs": [],
   "source": []
  },
  {
   "cell_type": "code",
   "execution_count": null,
   "id": "48c02559-4a7d-405c-844a-1212debef781",
   "metadata": {},
   "outputs": [],
   "source": []
  },
  {
   "cell_type": "code",
   "execution_count": null,
   "id": "43e9dcb4-3d0b-4575-add2-23e458aedd88",
   "metadata": {},
   "outputs": [],
   "source": []
  },
  {
   "cell_type": "code",
   "execution_count": null,
   "id": "9d64927b-72e1-42aa-a53e-5d118589d989",
   "metadata": {},
   "outputs": [],
   "source": []
  },
  {
   "cell_type": "code",
   "execution_count": null,
   "id": "67226305-5b25-46b5-9f77-60b647bcc3f9",
   "metadata": {},
   "outputs": [],
   "source": []
  },
  {
   "cell_type": "code",
   "execution_count": null,
   "id": "e4f44523-805e-47ac-8cf7-c2e015786e76",
   "metadata": {},
   "outputs": [],
   "source": []
  },
  {
   "cell_type": "code",
   "execution_count": null,
   "id": "d70e2ba1-587f-4569-b4a6-f3b0df6543e7",
   "metadata": {},
   "outputs": [],
   "source": []
  },
  {
   "cell_type": "code",
   "execution_count": null,
   "id": "ee0cabda-a849-447d-928e-312644915499",
   "metadata": {},
   "outputs": [],
   "source": []
  },
  {
   "cell_type": "code",
   "execution_count": null,
   "id": "b4303d28-3cd4-4bcd-9bc4-26f566eaee6a",
   "metadata": {},
   "outputs": [],
   "source": []
  },
  {
   "cell_type": "code",
   "execution_count": null,
   "id": "eeccf6e9-a05a-4aea-906b-07e6526abc85",
   "metadata": {},
   "outputs": [],
   "source": []
  },
  {
   "cell_type": "code",
   "execution_count": null,
   "id": "8a4b06c1-bd2a-4638-8bae-e34dc5410873",
   "metadata": {},
   "outputs": [],
   "source": []
  },
  {
   "cell_type": "code",
   "execution_count": null,
   "id": "5a3f100e-0975-4dcf-b6b7-334c51ff8202",
   "metadata": {},
   "outputs": [],
   "source": []
  },
  {
   "cell_type": "code",
   "execution_count": null,
   "id": "071e564a-6347-4921-be49-35b7c4b177d7",
   "metadata": {},
   "outputs": [],
   "source": []
  },
  {
   "cell_type": "code",
   "execution_count": null,
   "id": "5a8c53ae-8c70-4e1f-bcfd-a615fdf2ef61",
   "metadata": {},
   "outputs": [],
   "source": []
  },
  {
   "cell_type": "code",
   "execution_count": null,
   "id": "77e05c27-c5b0-41dc-a608-f7b9838114e9",
   "metadata": {},
   "outputs": [],
   "source": []
  },
  {
   "cell_type": "code",
   "execution_count": null,
   "id": "013320bf-5d2f-444e-9ddc-08201ee664fc",
   "metadata": {},
   "outputs": [],
   "source": []
  },
  {
   "cell_type": "code",
   "execution_count": null,
   "id": "565eab43-64b9-4917-88e4-bdfd6445620e",
   "metadata": {},
   "outputs": [],
   "source": []
  },
  {
   "cell_type": "code",
   "execution_count": null,
   "id": "23eb558a-66f7-45fe-b127-12bc18f36d69",
   "metadata": {},
   "outputs": [],
   "source": []
  },
  {
   "cell_type": "code",
   "execution_count": null,
   "id": "cfd70677-389b-4463-8fd6-2b206c02daf9",
   "metadata": {},
   "outputs": [],
   "source": []
  },
  {
   "cell_type": "code",
   "execution_count": null,
   "id": "37294cc7-e780-40b1-bc77-0fa5c187ba37",
   "metadata": {},
   "outputs": [],
   "source": []
  },
  {
   "cell_type": "code",
   "execution_count": null,
   "id": "7e74231d-8018-46cf-ae63-f8c9edacb325",
   "metadata": {},
   "outputs": [],
   "source": []
  },
  {
   "cell_type": "code",
   "execution_count": null,
   "id": "ef80e91b-5fdc-433b-b262-a592b02809f2",
   "metadata": {},
   "outputs": [],
   "source": []
  },
  {
   "cell_type": "code",
   "execution_count": null,
   "id": "5b7600f6-def1-44a8-9bdf-984ceaf0b202",
   "metadata": {},
   "outputs": [],
   "source": []
  },
  {
   "cell_type": "code",
   "execution_count": null,
   "id": "106c8857-d7fe-48b0-8dce-f939487e217a",
   "metadata": {},
   "outputs": [],
   "source": []
  },
  {
   "cell_type": "code",
   "execution_count": null,
   "id": "728e65d0-f48f-423e-ae85-c53b21743754",
   "metadata": {},
   "outputs": [],
   "source": []
  },
  {
   "cell_type": "code",
   "execution_count": null,
   "id": "39665149-e147-49a0-8818-d1732c498545",
   "metadata": {},
   "outputs": [],
   "source": []
  },
  {
   "cell_type": "code",
   "execution_count": null,
   "id": "07c1660c-eb40-452f-8506-98f154de0821",
   "metadata": {},
   "outputs": [],
   "source": []
  },
  {
   "cell_type": "code",
   "execution_count": null,
   "id": "2ad5c0f2-b7c3-4da6-b1bb-a025b32b30ae",
   "metadata": {},
   "outputs": [],
   "source": []
  },
  {
   "cell_type": "code",
   "execution_count": null,
   "id": "f8c102a8-7614-4209-9876-8f6cd77e683e",
   "metadata": {},
   "outputs": [],
   "source": []
  },
  {
   "cell_type": "code",
   "execution_count": null,
   "id": "039cff84-5153-4015-ba34-0443a3a9103d",
   "metadata": {},
   "outputs": [],
   "source": []
  },
  {
   "cell_type": "code",
   "execution_count": null,
   "id": "e81aaa25-b44e-4559-a532-ad59d30ec557",
   "metadata": {},
   "outputs": [],
   "source": []
  },
  {
   "cell_type": "code",
   "execution_count": null,
   "id": "f9bd065b-bb8f-47c6-bb8d-bce4a15b5867",
   "metadata": {},
   "outputs": [],
   "source": []
  },
  {
   "cell_type": "code",
   "execution_count": null,
   "id": "4759966f-8768-4b42-bdda-730fc5c8dfa9",
   "metadata": {},
   "outputs": [],
   "source": []
  },
  {
   "cell_type": "code",
   "execution_count": null,
   "id": "583636ed-5c4e-40e2-8ec9-7cc6fc658036",
   "metadata": {},
   "outputs": [],
   "source": []
  },
  {
   "cell_type": "code",
   "execution_count": null,
   "id": "76bd3ad0-e716-4aa0-95f8-5f6fa3c28bf8",
   "metadata": {},
   "outputs": [],
   "source": []
  },
  {
   "cell_type": "code",
   "execution_count": null,
   "id": "d79cc41d-6206-4bfc-b747-da5ebea8ae79",
   "metadata": {},
   "outputs": [],
   "source": []
  },
  {
   "cell_type": "code",
   "execution_count": null,
   "id": "b4fb6e9a-0a12-4683-aefa-e71612f1a1fc",
   "metadata": {},
   "outputs": [],
   "source": []
  },
  {
   "cell_type": "code",
   "execution_count": null,
   "id": "9ab961c2-662a-4e4e-9647-c024097f6618",
   "metadata": {},
   "outputs": [],
   "source": []
  },
  {
   "cell_type": "code",
   "execution_count": null,
   "id": "42e775a3-1eaa-4cb2-aa20-acfb3112dbb9",
   "metadata": {},
   "outputs": [],
   "source": []
  },
  {
   "cell_type": "code",
   "execution_count": null,
   "id": "605d3b28-2afe-42e8-84c1-a48d5c94e55d",
   "metadata": {},
   "outputs": [],
   "source": []
  },
  {
   "cell_type": "code",
   "execution_count": null,
   "id": "6393d33e-eeda-4348-97ec-702fb2d60d87",
   "metadata": {},
   "outputs": [],
   "source": []
  },
  {
   "cell_type": "code",
   "execution_count": null,
   "id": "1b97d6cc-e896-4b35-80ff-f5aea4978b99",
   "metadata": {},
   "outputs": [],
   "source": []
  },
  {
   "cell_type": "code",
   "execution_count": null,
   "id": "60d0abee-42b7-47a1-b194-94a539d40a3a",
   "metadata": {},
   "outputs": [],
   "source": []
  },
  {
   "cell_type": "code",
   "execution_count": null,
   "id": "f7d6dffc-12c3-4781-b093-31f724ffa552",
   "metadata": {},
   "outputs": [],
   "source": []
  },
  {
   "cell_type": "code",
   "execution_count": null,
   "id": "8ec93c56-f1ef-4f36-9772-85f612fbddeb",
   "metadata": {},
   "outputs": [],
   "source": []
  },
  {
   "cell_type": "code",
   "execution_count": null,
   "id": "7b9b6ef9-3387-42ff-a6bd-75cbe46df115",
   "metadata": {},
   "outputs": [],
   "source": []
  },
  {
   "cell_type": "code",
   "execution_count": null,
   "id": "a2f42c8e-5bac-439a-a4e5-3d75834c4575",
   "metadata": {},
   "outputs": [],
   "source": []
  },
  {
   "cell_type": "code",
   "execution_count": null,
   "id": "b03b8f31-1d1f-498d-9abe-95e3c7a4847d",
   "metadata": {},
   "outputs": [],
   "source": []
  },
  {
   "cell_type": "code",
   "execution_count": null,
   "id": "a091c68c-e7d6-43d9-bb8d-1831bcb5cf1b",
   "metadata": {},
   "outputs": [],
   "source": []
  },
  {
   "cell_type": "code",
   "execution_count": null,
   "id": "4caf8fe7-5e62-405e-b8bb-349b9ca6954f",
   "metadata": {},
   "outputs": [],
   "source": []
  },
  {
   "cell_type": "code",
   "execution_count": null,
   "id": "8d46b9bb-f38f-4651-a4ca-4e98763292bc",
   "metadata": {},
   "outputs": [],
   "source": []
  },
  {
   "cell_type": "code",
   "execution_count": null,
   "id": "ca45c105-759d-4b37-b1a8-ee75b98d83c5",
   "metadata": {},
   "outputs": [],
   "source": []
  },
  {
   "cell_type": "code",
   "execution_count": null,
   "id": "637da7f7-3e8a-4775-9054-4559c99f5d76",
   "metadata": {},
   "outputs": [],
   "source": []
  },
  {
   "cell_type": "code",
   "execution_count": null,
   "id": "9eeabaf6-25d4-4fdb-98cc-8eb2231ba9a6",
   "metadata": {},
   "outputs": [],
   "source": []
  },
  {
   "cell_type": "code",
   "execution_count": null,
   "id": "41fcb9cc-1590-464e-8d59-4d408b3631f2",
   "metadata": {},
   "outputs": [],
   "source": []
  },
  {
   "cell_type": "code",
   "execution_count": null,
   "id": "83718308-4f65-4b36-80fb-410ac22e953e",
   "metadata": {},
   "outputs": [],
   "source": []
  },
  {
   "cell_type": "code",
   "execution_count": null,
   "id": "c9f2b56c-d54e-4c03-bf8c-68f1b06c4c6f",
   "metadata": {},
   "outputs": [],
   "source": []
  },
  {
   "cell_type": "code",
   "execution_count": null,
   "id": "ec3fd4ad-aa04-4e58-9121-1afbf225e6d4",
   "metadata": {},
   "outputs": [],
   "source": []
  },
  {
   "cell_type": "code",
   "execution_count": null,
   "id": "65559f8c-00ca-4c4d-8042-56f4052f1f8a",
   "metadata": {},
   "outputs": [],
   "source": []
  },
  {
   "cell_type": "code",
   "execution_count": null,
   "id": "4c811630-9f72-4701-812d-d41d66e5cb84",
   "metadata": {},
   "outputs": [],
   "source": []
  },
  {
   "cell_type": "code",
   "execution_count": null,
   "id": "0825c3c2-ce4d-4148-943d-c473c7ab0aa6",
   "metadata": {},
   "outputs": [],
   "source": []
  },
  {
   "cell_type": "code",
   "execution_count": null,
   "id": "f52dd8e9-388e-46b9-838b-203c2ea87f72",
   "metadata": {},
   "outputs": [],
   "source": []
  },
  {
   "cell_type": "code",
   "execution_count": null,
   "id": "84613253-2381-4757-a6ef-0501ea7fd7b7",
   "metadata": {},
   "outputs": [],
   "source": []
  },
  {
   "cell_type": "code",
   "execution_count": null,
   "id": "bcf9ea46-595d-491c-b16a-f8a93d4fecba",
   "metadata": {},
   "outputs": [],
   "source": []
  },
  {
   "cell_type": "code",
   "execution_count": null,
   "id": "fd7cf3c0-0037-4e8c-a346-1a449b8e81c0",
   "metadata": {},
   "outputs": [],
   "source": []
  },
  {
   "cell_type": "code",
   "execution_count": null,
   "id": "b2c3a3c0-d1bc-4a2f-9522-2e0b44a63781",
   "metadata": {},
   "outputs": [],
   "source": []
  },
  {
   "cell_type": "code",
   "execution_count": null,
   "id": "d259fa44-9033-4775-b807-f8cb3a683837",
   "metadata": {},
   "outputs": [],
   "source": []
  },
  {
   "cell_type": "code",
   "execution_count": null,
   "id": "a381ac40-e951-4076-b98f-8712b63d4da3",
   "metadata": {},
   "outputs": [],
   "source": []
  },
  {
   "cell_type": "code",
   "execution_count": null,
   "id": "b16772cd-ff3b-40dc-b4e6-69a70df67a31",
   "metadata": {},
   "outputs": [],
   "source": []
  },
  {
   "cell_type": "code",
   "execution_count": null,
   "id": "8cd66f06-10eb-4dab-a09b-877adbd7df0d",
   "metadata": {},
   "outputs": [],
   "source": []
  },
  {
   "cell_type": "code",
   "execution_count": null,
   "id": "3889b8ea-4f5c-4b74-8d8d-16851154aa07",
   "metadata": {},
   "outputs": [],
   "source": []
  },
  {
   "cell_type": "code",
   "execution_count": null,
   "id": "87bfe15c-9dbd-4a34-9e7b-63c6bfab2ed7",
   "metadata": {},
   "outputs": [],
   "source": []
  },
  {
   "cell_type": "code",
   "execution_count": null,
   "id": "48dcf3de-0287-4c40-b7e2-632f2a30ce23",
   "metadata": {},
   "outputs": [],
   "source": []
  },
  {
   "cell_type": "code",
   "execution_count": null,
   "id": "0ede34af-41d2-4ad2-a950-a57b3ed86713",
   "metadata": {},
   "outputs": [],
   "source": []
  },
  {
   "cell_type": "code",
   "execution_count": null,
   "id": "a5b4f3c6-f67c-4f07-b3fd-afd8d2e43f4d",
   "metadata": {},
   "outputs": [],
   "source": []
  },
  {
   "cell_type": "code",
   "execution_count": null,
   "id": "889b5b8d-11f5-455b-a753-cc954f90c0ef",
   "metadata": {},
   "outputs": [],
   "source": []
  },
  {
   "cell_type": "code",
   "execution_count": null,
   "id": "06a9e8bd-12a7-46e9-82a6-80f90ebea779",
   "metadata": {},
   "outputs": [],
   "source": []
  },
  {
   "cell_type": "code",
   "execution_count": null,
   "id": "c98388b4-f781-432f-b4de-6548505a17ce",
   "metadata": {},
   "outputs": [],
   "source": []
  },
  {
   "cell_type": "code",
   "execution_count": null,
   "id": "a16e019c-5ff1-40fe-a3fc-78d5eb439dd9",
   "metadata": {},
   "outputs": [],
   "source": []
  },
  {
   "cell_type": "code",
   "execution_count": null,
   "id": "7ecc2b1d-5581-4fc9-9385-9b9ebe311763",
   "metadata": {},
   "outputs": [],
   "source": []
  },
  {
   "cell_type": "code",
   "execution_count": null,
   "id": "028bbb4e-5e7f-4090-9d73-618a884e0394",
   "metadata": {},
   "outputs": [],
   "source": []
  },
  {
   "cell_type": "code",
   "execution_count": null,
   "id": "13e5035c-c7bd-4211-b256-f4dee54ebd11",
   "metadata": {},
   "outputs": [],
   "source": []
  },
  {
   "cell_type": "code",
   "execution_count": null,
   "id": "95f2837e-712d-4c9c-b50f-dc2854687edf",
   "metadata": {},
   "outputs": [],
   "source": []
  },
  {
   "cell_type": "code",
   "execution_count": null,
   "id": "65b568e7-c84c-4758-9101-6afb3bd6793b",
   "metadata": {},
   "outputs": [],
   "source": []
  },
  {
   "cell_type": "code",
   "execution_count": null,
   "id": "850a6b77-45c9-4036-84b6-efe4e878827b",
   "metadata": {},
   "outputs": [],
   "source": []
  },
  {
   "cell_type": "code",
   "execution_count": null,
   "id": "fe5a2b1a-68f9-49ee-baca-d6f392f84d03",
   "metadata": {},
   "outputs": [],
   "source": []
  },
  {
   "cell_type": "code",
   "execution_count": null,
   "id": "24fd284e-90d6-4ee6-ab72-a8a53e28a027",
   "metadata": {},
   "outputs": [],
   "source": []
  },
  {
   "cell_type": "code",
   "execution_count": null,
   "id": "f770a298-244a-42c0-9ed9-ec2e617d8177",
   "metadata": {},
   "outputs": [],
   "source": []
  },
  {
   "cell_type": "code",
   "execution_count": null,
   "id": "f26a6e5d-decb-474f-8728-720192b25f5e",
   "metadata": {},
   "outputs": [],
   "source": []
  },
  {
   "cell_type": "code",
   "execution_count": null,
   "id": "488379ef-0c82-44e8-8afa-00b8dde66faf",
   "metadata": {},
   "outputs": [],
   "source": []
  },
  {
   "cell_type": "code",
   "execution_count": null,
   "id": "52c613e9-34d3-4f92-9fa0-d60e5475ed22",
   "metadata": {},
   "outputs": [],
   "source": []
  },
  {
   "cell_type": "code",
   "execution_count": null,
   "id": "cf519872-9933-471a-8b38-cac4d9abe828",
   "metadata": {},
   "outputs": [],
   "source": []
  },
  {
   "cell_type": "code",
   "execution_count": null,
   "id": "cde4ce3f-0770-4a37-8733-cce44a4d45ff",
   "metadata": {},
   "outputs": [],
   "source": []
  },
  {
   "cell_type": "code",
   "execution_count": null,
   "id": "7f5f3dfc-4909-4145-b2b8-c07e84359c7a",
   "metadata": {},
   "outputs": [],
   "source": []
  },
  {
   "cell_type": "code",
   "execution_count": null,
   "id": "7d7306c7-62c3-40ec-982d-4493db52dc17",
   "metadata": {},
   "outputs": [],
   "source": []
  },
  {
   "cell_type": "code",
   "execution_count": null,
   "id": "77040b65-4a9b-4827-9a78-a56967c2666f",
   "metadata": {},
   "outputs": [],
   "source": []
  },
  {
   "cell_type": "code",
   "execution_count": null,
   "id": "c580734a-d0e1-4b0c-93cd-9e1b37944516",
   "metadata": {},
   "outputs": [],
   "source": []
  },
  {
   "cell_type": "code",
   "execution_count": null,
   "id": "e29ea900-33f0-461c-bad2-4cf551e86926",
   "metadata": {},
   "outputs": [],
   "source": []
  },
  {
   "cell_type": "code",
   "execution_count": null,
   "id": "5e725f65-3637-49a0-8e9d-64e902c20c45",
   "metadata": {},
   "outputs": [],
   "source": []
  },
  {
   "cell_type": "code",
   "execution_count": null,
   "id": "b944ddd9-4881-438d-929c-a813a51757f8",
   "metadata": {},
   "outputs": [],
   "source": []
  },
  {
   "cell_type": "code",
   "execution_count": null,
   "id": "bc106c4a-7c60-43a7-9aa0-f7053d6f0d92",
   "metadata": {},
   "outputs": [],
   "source": []
  },
  {
   "cell_type": "code",
   "execution_count": null,
   "id": "58433647-850e-48b2-8b38-e5fe91832f57",
   "metadata": {},
   "outputs": [],
   "source": []
  },
  {
   "cell_type": "code",
   "execution_count": null,
   "id": "ab0a08d9-895a-4c1f-be01-e6978fbc0851",
   "metadata": {},
   "outputs": [],
   "source": []
  },
  {
   "cell_type": "code",
   "execution_count": null,
   "id": "6939badd-cd3c-4f7d-a347-4e5b65e688d7",
   "metadata": {},
   "outputs": [],
   "source": []
  },
  {
   "cell_type": "code",
   "execution_count": null,
   "id": "09fcfce2-c7e3-4e0c-bcd3-9cac87b2e299",
   "metadata": {},
   "outputs": [],
   "source": []
  },
  {
   "cell_type": "code",
   "execution_count": null,
   "id": "903ee3f6-a083-445d-9e85-a3e43a0bb3f6",
   "metadata": {},
   "outputs": [],
   "source": []
  },
  {
   "cell_type": "code",
   "execution_count": null,
   "id": "b42922dc-fa03-4027-8d37-0e1bd4d77d8f",
   "metadata": {},
   "outputs": [],
   "source": []
  },
  {
   "cell_type": "code",
   "execution_count": null,
   "id": "3c5b275f-7729-4e77-813b-da7a898f93ec",
   "metadata": {},
   "outputs": [],
   "source": []
  },
  {
   "cell_type": "code",
   "execution_count": null,
   "id": "e4771b8f-8cc2-4e5d-a7a1-5d251877c987",
   "metadata": {},
   "outputs": [],
   "source": []
  },
  {
   "cell_type": "code",
   "execution_count": null,
   "id": "7e03af30-8f78-42e4-8575-ce6c9c455aa1",
   "metadata": {},
   "outputs": [],
   "source": []
  },
  {
   "cell_type": "code",
   "execution_count": null,
   "id": "ead848b6-e3d7-4f4c-911f-341f8d02bb70",
   "metadata": {},
   "outputs": [],
   "source": []
  },
  {
   "cell_type": "code",
   "execution_count": null,
   "id": "cf8e34b6-6a8e-45f7-b564-067510c40d44",
   "metadata": {},
   "outputs": [],
   "source": []
  },
  {
   "cell_type": "code",
   "execution_count": null,
   "id": "b15434c1-276f-47e3-a861-152861d3b839",
   "metadata": {},
   "outputs": [],
   "source": []
  },
  {
   "cell_type": "code",
   "execution_count": null,
   "id": "c2a5acba-62b0-4f7e-af01-c1a7d2dfa3c8",
   "metadata": {},
   "outputs": [],
   "source": []
  },
  {
   "cell_type": "code",
   "execution_count": null,
   "id": "0285addf-fbae-4b75-bc6e-723f7f221c65",
   "metadata": {},
   "outputs": [],
   "source": []
  },
  {
   "cell_type": "code",
   "execution_count": null,
   "id": "e15b3aa6-57c1-4cb3-907f-7f4e10340fed",
   "metadata": {},
   "outputs": [],
   "source": []
  },
  {
   "cell_type": "code",
   "execution_count": null,
   "id": "d471d9e5-ab6b-4603-90ac-638a62ea845e",
   "metadata": {},
   "outputs": [],
   "source": []
  },
  {
   "cell_type": "code",
   "execution_count": null,
   "id": "11079b82-be55-4d80-8c7d-005ff67b1884",
   "metadata": {},
   "outputs": [],
   "source": []
  },
  {
   "cell_type": "code",
   "execution_count": null,
   "id": "9935ba17-612d-4b10-97c5-9270b3d711f7",
   "metadata": {},
   "outputs": [],
   "source": []
  },
  {
   "cell_type": "code",
   "execution_count": null,
   "id": "8f09244e-c54f-44ed-9d9a-4f5b3bd4c13c",
   "metadata": {},
   "outputs": [],
   "source": []
  },
  {
   "cell_type": "code",
   "execution_count": null,
   "id": "4256df4c-6980-4a3e-9a89-e332a4ea3e4b",
   "metadata": {},
   "outputs": [],
   "source": []
  },
  {
   "cell_type": "code",
   "execution_count": null,
   "id": "51ff2292-86d4-4c1a-b52f-850ce060aeac",
   "metadata": {},
   "outputs": [],
   "source": []
  },
  {
   "cell_type": "code",
   "execution_count": null,
   "id": "bb6c272a-2d8b-48fe-9d48-626f9c5b0afb",
   "metadata": {},
   "outputs": [],
   "source": []
  },
  {
   "cell_type": "code",
   "execution_count": null,
   "id": "c77a8397-2f4c-49e7-ad8f-b96bc4134ccf",
   "metadata": {},
   "outputs": [],
   "source": []
  },
  {
   "cell_type": "code",
   "execution_count": null,
   "id": "751348fd-233b-4c8e-8298-776069292f0a",
   "metadata": {},
   "outputs": [],
   "source": []
  },
  {
   "cell_type": "code",
   "execution_count": null,
   "id": "c4090b4b-d40c-4336-b370-54eae32bc403",
   "metadata": {},
   "outputs": [],
   "source": []
  },
  {
   "cell_type": "code",
   "execution_count": null,
   "id": "00502edf-426c-4c40-9f5f-6cbc3734255c",
   "metadata": {},
   "outputs": [],
   "source": []
  },
  {
   "cell_type": "code",
   "execution_count": null,
   "id": "0e1c3c59-1ae0-44aa-8fe4-9cde332c1664",
   "metadata": {},
   "outputs": [],
   "source": []
  },
  {
   "cell_type": "code",
   "execution_count": null,
   "id": "53fb6150-83e3-4a96-b4ef-6258eaf4b850",
   "metadata": {},
   "outputs": [],
   "source": []
  },
  {
   "cell_type": "code",
   "execution_count": null,
   "id": "255c7b2e-b53a-474e-b3dc-6e4298c4fe39",
   "metadata": {},
   "outputs": [],
   "source": []
  },
  {
   "cell_type": "code",
   "execution_count": null,
   "id": "97da11b1-59b9-4984-94c7-2c692469f5ed",
   "metadata": {},
   "outputs": [],
   "source": []
  },
  {
   "cell_type": "code",
   "execution_count": null,
   "id": "9ffb21a0-acf1-4a57-abd2-566ee6f32bc3",
   "metadata": {},
   "outputs": [],
   "source": []
  },
  {
   "cell_type": "code",
   "execution_count": null,
   "id": "6e8a0a46-8f28-4db5-be1e-ca751c863470",
   "metadata": {},
   "outputs": [],
   "source": []
  },
  {
   "cell_type": "code",
   "execution_count": null,
   "id": "ccabe1d7-1330-4f03-a674-affeafa425ee",
   "metadata": {},
   "outputs": [],
   "source": []
  },
  {
   "cell_type": "code",
   "execution_count": null,
   "id": "eeb317d8-8925-4a76-a534-68ab66a23bff",
   "metadata": {},
   "outputs": [],
   "source": []
  },
  {
   "cell_type": "code",
   "execution_count": null,
   "id": "f11fd8e6-a602-4c89-9771-c749f975db0d",
   "metadata": {},
   "outputs": [],
   "source": []
  },
  {
   "cell_type": "code",
   "execution_count": null,
   "id": "ea3a987b-9eb3-4b32-9e61-ec16ede9bba0",
   "metadata": {},
   "outputs": [],
   "source": []
  },
  {
   "cell_type": "code",
   "execution_count": null,
   "id": "116c272d-e21c-4fe8-b471-b6779e05aedb",
   "metadata": {},
   "outputs": [],
   "source": []
  },
  {
   "cell_type": "code",
   "execution_count": null,
   "id": "11fa0db2-1612-4cf9-9cd9-57666fc3c6ca",
   "metadata": {},
   "outputs": [],
   "source": []
  },
  {
   "cell_type": "code",
   "execution_count": null,
   "id": "d2fcdfb7-5bdd-4af4-b656-300b96f06762",
   "metadata": {},
   "outputs": [],
   "source": []
  },
  {
   "cell_type": "code",
   "execution_count": null,
   "id": "ad59c5e1-4f7a-4183-9d1e-198592f7b374",
   "metadata": {},
   "outputs": [],
   "source": []
  },
  {
   "cell_type": "code",
   "execution_count": null,
   "id": "7d8053e7-d595-4232-b89d-4093e854f473",
   "metadata": {},
   "outputs": [],
   "source": []
  },
  {
   "cell_type": "code",
   "execution_count": null,
   "id": "4a5099bb-6f55-4145-ab2f-8e920791a851",
   "metadata": {},
   "outputs": [],
   "source": []
  },
  {
   "cell_type": "code",
   "execution_count": null,
   "id": "69ee49d8-9a85-4af1-98a6-d9f2b2de1ed8",
   "metadata": {},
   "outputs": [],
   "source": []
  },
  {
   "cell_type": "code",
   "execution_count": null,
   "id": "97f32777-1349-43a3-9b56-e6251fd14582",
   "metadata": {},
   "outputs": [],
   "source": []
  },
  {
   "cell_type": "code",
   "execution_count": null,
   "id": "81467f4c-88af-4474-a2e2-4f79e10c9493",
   "metadata": {},
   "outputs": [],
   "source": []
  },
  {
   "cell_type": "code",
   "execution_count": null,
   "id": "6d097038-9459-4bae-b920-9cd38787efb9",
   "metadata": {},
   "outputs": [],
   "source": []
  },
  {
   "cell_type": "code",
   "execution_count": null,
   "id": "3520a951-5e1c-4ee4-9e44-f23bd7293453",
   "metadata": {},
   "outputs": [],
   "source": []
  },
  {
   "cell_type": "code",
   "execution_count": null,
   "id": "e6bc5d3d-6246-4582-8486-06605bea2e5b",
   "metadata": {},
   "outputs": [],
   "source": []
  },
  {
   "cell_type": "code",
   "execution_count": null,
   "id": "feddb28f-7bc8-42f2-bece-3fe7b2954904",
   "metadata": {},
   "outputs": [],
   "source": []
  },
  {
   "cell_type": "code",
   "execution_count": null,
   "id": "909b0c46-3c31-4306-ac63-c3be467eccaf",
   "metadata": {},
   "outputs": [],
   "source": []
  },
  {
   "cell_type": "code",
   "execution_count": null,
   "id": "66d24e29-90fb-41fc-9a6d-478a2578a7d0",
   "metadata": {},
   "outputs": [],
   "source": []
  },
  {
   "cell_type": "code",
   "execution_count": null,
   "id": "0aa8e306-84c5-4fd0-bfba-674c137bf590",
   "metadata": {},
   "outputs": [],
   "source": []
  },
  {
   "cell_type": "code",
   "execution_count": null,
   "id": "15b0b48d-b20d-4d8b-a51e-887a53768c02",
   "metadata": {},
   "outputs": [],
   "source": []
  },
  {
   "cell_type": "code",
   "execution_count": null,
   "id": "6c12b2a3-a7e4-49a7-8465-a817880f91ee",
   "metadata": {},
   "outputs": [],
   "source": []
  },
  {
   "cell_type": "code",
   "execution_count": null,
   "id": "6c5e0e99-8da8-4551-818e-f2cc4cebc076",
   "metadata": {},
   "outputs": [],
   "source": []
  },
  {
   "cell_type": "code",
   "execution_count": null,
   "id": "dead13a4-bddb-4e9c-8a68-c85e71327713",
   "metadata": {},
   "outputs": [],
   "source": []
  },
  {
   "cell_type": "code",
   "execution_count": null,
   "id": "973b5659-969a-41cc-9690-e0480eb4b3a0",
   "metadata": {},
   "outputs": [],
   "source": []
  },
  {
   "cell_type": "code",
   "execution_count": null,
   "id": "ac4955e3-cd7e-4d90-a9f6-4955dde79294",
   "metadata": {},
   "outputs": [],
   "source": []
  },
  {
   "cell_type": "code",
   "execution_count": null,
   "id": "953c3114-b7ff-4647-8368-8544def7fc27",
   "metadata": {},
   "outputs": [],
   "source": []
  },
  {
   "cell_type": "code",
   "execution_count": null,
   "id": "ff66bf5b-8f88-4b8c-9b82-5ce04757c906",
   "metadata": {},
   "outputs": [],
   "source": []
  },
  {
   "cell_type": "code",
   "execution_count": null,
   "id": "61ba1ff6-fd63-45d2-8f50-13aa38e4c8ea",
   "metadata": {},
   "outputs": [],
   "source": []
  },
  {
   "cell_type": "code",
   "execution_count": null,
   "id": "aa09a619-7782-4176-adb6-b938c9f216cc",
   "metadata": {},
   "outputs": [],
   "source": []
  },
  {
   "cell_type": "code",
   "execution_count": null,
   "id": "7da6abab-57f3-4126-8077-615a5b6bac2f",
   "metadata": {},
   "outputs": [],
   "source": []
  }
 ],
 "metadata": {
  "kernelspec": {
   "display_name": "Python 3 (ipykernel)",
   "language": "python",
   "name": "python3"
  },
  "language_info": {
   "codemirror_mode": {
    "name": "ipython",
    "version": 3
   },
   "file_extension": ".py",
   "mimetype": "text/x-python",
   "name": "python",
   "nbconvert_exporter": "python",
   "pygments_lexer": "ipython3",
   "version": "3.11.2"
  }
 },
 "nbformat": 4,
 "nbformat_minor": 5
}
